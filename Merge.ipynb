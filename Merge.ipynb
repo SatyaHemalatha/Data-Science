{
  "nbformat": 4,
  "nbformat_minor": 0,
  "metadata": {
    "colab": {
      "provenance": []
    },
    "kernelspec": {
      "name": "python3",
      "display_name": "Python 3"
    },
    "language_info": {
      "name": "python"
    }
  },
  "cells": [
    {
      "cell_type": "code",
      "execution_count": 452,
      "metadata": {
        "colab": {
          "base_uri": "https://localhost:8080/"
        },
        "id": "PbfVO8ianX2a",
        "outputId": "0fb9e79e-6254-4dab-8514-78692e374931"
      },
      "outputs": [
        {
          "output_type": "stream",
          "name": "stdout",
          "text": [
            "Drive already mounted at /content/gdrive; to attempt to forcibly remount, call drive.mount(\"/content/gdrive\", force_remount=True).\n"
          ]
        }
      ],
      "source": [
        "from google.colab import drive\n",
        "drive.mount('/content/gdrive')"
      ]
    },
    {
      "cell_type": "code",
      "source": [
        "import pandas as pd\n",
        "import numpy as np\n",
        "from sklearn.preprocessing import StandardScaler, OneHotEncoder\n",
        "from sklearn.impute import SimpleImputer\n",
        "from sklearn.model_selection import train_test_split\n",
        "from sklearn.linear_model import LogisticRegression\n",
        "from sklearn.metrics import confusion_matrix, classification_report\n"
      ],
      "metadata": {
        "id": "C0ak_d-AofbG"
      },
      "execution_count": 453,
      "outputs": []
    },
    {
      "cell_type": "code",
      "source": [
        "train1=pd.read_csv('/content/gdrive/MyDrive/Dataset/train1.csv')\n",
        "train2=pd.read_csv('/content/gdrive/MyDrive/Dataset/train2.csv')\n",
        "train3=pd.read_csv('/content/gdrive/MyDrive/Dataset/train3.csv')"
      ],
      "metadata": {
        "id": "9Wi3yGfWpVDN"
      },
      "execution_count": 454,
      "outputs": []
    },
    {
      "cell_type": "code",
      "source": [
        "test1=pd.read_csv('/content/gdrive/MyDrive/Dataset/test1.csv')\n",
        "test2=pd.read_csv('/content/gdrive/MyDrive/Dataset/test2.csv')\n",
        "test3=pd.read_csv('/content/gdrive/MyDrive/Dataset/test3.csv')"
      ],
      "metadata": {
        "id": "muwpJa6Mpl2G"
      },
      "execution_count": 455,
      "outputs": []
    },
    {
      "cell_type": "code",
      "source": [
        "data1=train1.merge(train2, on='Merchant_ID')"
      ],
      "metadata": {
        "id": "wJaUK8JZp57P"
      },
      "execution_count": 456,
      "outputs": []
    },
    {
      "cell_type": "code",
      "source": [
        "data1.shape"
      ],
      "metadata": {
        "colab": {
          "base_uri": "https://localhost:8080/"
        },
        "id": "35fN7r8er0RH",
        "outputId": "02714f99-f753-497f-eb84-9e366bd38583"
      },
      "execution_count": 457,
      "outputs": [
        {
          "output_type": "execute_result",
          "data": {
            "text/plain": [
              "(54213, 8)"
            ]
          },
          "metadata": {},
          "execution_count": 457
        }
      ]
    },
    {
      "cell_type": "code",
      "source": [
        "train3.shape"
      ],
      "metadata": {
        "colab": {
          "base_uri": "https://localhost:8080/"
        },
        "id": "FYIUeFvEsEXh",
        "outputId": "97ede39f-ce61-4441-efab-465736605645"
      },
      "execution_count": 458,
      "outputs": [
        {
          "output_type": "execute_result",
          "data": {
            "text/plain": [
              "(54213, 7)"
            ]
          },
          "metadata": {},
          "execution_count": 458
        }
      ]
    },
    {
      "cell_type": "code",
      "source": [
        "data=data1.merge(train3, on='Merchant_ID')"
      ],
      "metadata": {
        "id": "9r2ahg6CqnVY"
      },
      "execution_count": 459,
      "outputs": []
    },
    {
      "cell_type": "code",
      "source": [
        "t1=test1.merge(test2, on=\"Merchant_ID\")\n",
        "t=t1.merge(test3, on='Merchant_ID')\n",
        "t.shape"
      ],
      "metadata": {
        "colab": {
          "base_uri": "https://localhost:8080/"
        },
        "id": "MRYcAj0VtEkg",
        "outputId": "7dadade0-d1c2-4b3f-ea2d-cf5786dd68e7"
      },
      "execution_count": 460,
      "outputs": [
        {
          "output_type": "execute_result",
          "data": {
            "text/plain": [
              "(13554, 13)"
            ]
          },
          "metadata": {},
          "execution_count": 460
        }
      ]
    },
    {
      "cell_type": "code",
      "source": [
        "data.head()"
      ],
      "metadata": {
        "colab": {
          "base_uri": "https://localhost:8080/",
          "height": 357
        },
        "id": "3T96l9JorPVb",
        "outputId": "89f29948-22f5-49d0-c475-624a8b7c12ec"
      },
      "execution_count": 461,
      "outputs": [
        {
          "output_type": "execute_result",
          "data": {
            "text/plain": [
              "   Ecommerce_Provider_ID  Merchant_ID Merchant_Registration_Date  \\\n",
              "0                1746213        50448        2018-05-01 21:15:11   \n",
              "1                1746213       338754        2018-04-14 10:13:00   \n",
              "2                1746213       291127        2018-06-20 07:44:22   \n",
              "3                1746213       319919        2018-06-27 01:41:39   \n",
              "4                1746213       195911        2018-01-05 00:55:41   \n",
              "\n",
              "  Registered_Device_ID Gender  Age      IP_Address  Fraudster  Customer_ID  \\\n",
              "0        VATQMMZTVOZUT      F   39   48.151.136.76          0       129697   \n",
              "1        LJCILLBRQZNKS      M   35    94.9.145.169          0       117390   \n",
              "2        JFVHSUGKDAYZV      F   40   58.94.157.121          0       120162   \n",
              "3        WFRXMPLQYXRMY      M   37  193.187.41.186          0       128228   \n",
              "4        GGHKWMSWHCMID      F   27   125.96.20.172          0       136029   \n",
              "\n",
              "       Order_ID        Date_of_Order  Order_Value_USD Order_Source  \\\n",
              "0  3b8983a83c7b  2018-07-30 10:59:13               90          SEO   \n",
              "1  34b5eb921228  2018-06-15 11:19:47               98          SEO   \n",
              "2  41a1c86ff08b  2018-08-13 10:06:26               95          SEO   \n",
              "3  e8c3ad80d916  2018-07-22 15:46:51              100       Direct   \n",
              "4  e71ab1f26785  2018-04-16 08:02:44               78          SEO   \n",
              "\n",
              "  Order_Payment_Method  \n",
              "0           Debit Card  \n",
              "1     Internet Banking  \n",
              "2          Credit Card  \n",
              "3             E-wallet  \n",
              "4             E-wallet  "
            ],
            "text/html": [
              "\n",
              "  <div id=\"df-2e940cc8-829a-41ee-9a53-7c2600a69126\">\n",
              "    <div class=\"colab-df-container\">\n",
              "      <div>\n",
              "<style scoped>\n",
              "    .dataframe tbody tr th:only-of-type {\n",
              "        vertical-align: middle;\n",
              "    }\n",
              "\n",
              "    .dataframe tbody tr th {\n",
              "        vertical-align: top;\n",
              "    }\n",
              "\n",
              "    .dataframe thead th {\n",
              "        text-align: right;\n",
              "    }\n",
              "</style>\n",
              "<table border=\"1\" class=\"dataframe\">\n",
              "  <thead>\n",
              "    <tr style=\"text-align: right;\">\n",
              "      <th></th>\n",
              "      <th>Ecommerce_Provider_ID</th>\n",
              "      <th>Merchant_ID</th>\n",
              "      <th>Merchant_Registration_Date</th>\n",
              "      <th>Registered_Device_ID</th>\n",
              "      <th>Gender</th>\n",
              "      <th>Age</th>\n",
              "      <th>IP_Address</th>\n",
              "      <th>Fraudster</th>\n",
              "      <th>Customer_ID</th>\n",
              "      <th>Order_ID</th>\n",
              "      <th>Date_of_Order</th>\n",
              "      <th>Order_Value_USD</th>\n",
              "      <th>Order_Source</th>\n",
              "      <th>Order_Payment_Method</th>\n",
              "    </tr>\n",
              "  </thead>\n",
              "  <tbody>\n",
              "    <tr>\n",
              "      <th>0</th>\n",
              "      <td>1746213</td>\n",
              "      <td>50448</td>\n",
              "      <td>2018-05-01 21:15:11</td>\n",
              "      <td>VATQMMZTVOZUT</td>\n",
              "      <td>F</td>\n",
              "      <td>39</td>\n",
              "      <td>48.151.136.76</td>\n",
              "      <td>0</td>\n",
              "      <td>129697</td>\n",
              "      <td>3b8983a83c7b</td>\n",
              "      <td>2018-07-30 10:59:13</td>\n",
              "      <td>90</td>\n",
              "      <td>SEO</td>\n",
              "      <td>Debit Card</td>\n",
              "    </tr>\n",
              "    <tr>\n",
              "      <th>1</th>\n",
              "      <td>1746213</td>\n",
              "      <td>338754</td>\n",
              "      <td>2018-04-14 10:13:00</td>\n",
              "      <td>LJCILLBRQZNKS</td>\n",
              "      <td>M</td>\n",
              "      <td>35</td>\n",
              "      <td>94.9.145.169</td>\n",
              "      <td>0</td>\n",
              "      <td>117390</td>\n",
              "      <td>34b5eb921228</td>\n",
              "      <td>2018-06-15 11:19:47</td>\n",
              "      <td>98</td>\n",
              "      <td>SEO</td>\n",
              "      <td>Internet Banking</td>\n",
              "    </tr>\n",
              "    <tr>\n",
              "      <th>2</th>\n",
              "      <td>1746213</td>\n",
              "      <td>291127</td>\n",
              "      <td>2018-06-20 07:44:22</td>\n",
              "      <td>JFVHSUGKDAYZV</td>\n",
              "      <td>F</td>\n",
              "      <td>40</td>\n",
              "      <td>58.94.157.121</td>\n",
              "      <td>0</td>\n",
              "      <td>120162</td>\n",
              "      <td>41a1c86ff08b</td>\n",
              "      <td>2018-08-13 10:06:26</td>\n",
              "      <td>95</td>\n",
              "      <td>SEO</td>\n",
              "      <td>Credit Card</td>\n",
              "    </tr>\n",
              "    <tr>\n",
              "      <th>3</th>\n",
              "      <td>1746213</td>\n",
              "      <td>319919</td>\n",
              "      <td>2018-06-27 01:41:39</td>\n",
              "      <td>WFRXMPLQYXRMY</td>\n",
              "      <td>M</td>\n",
              "      <td>37</td>\n",
              "      <td>193.187.41.186</td>\n",
              "      <td>0</td>\n",
              "      <td>128228</td>\n",
              "      <td>e8c3ad80d916</td>\n",
              "      <td>2018-07-22 15:46:51</td>\n",
              "      <td>100</td>\n",
              "      <td>Direct</td>\n",
              "      <td>E-wallet</td>\n",
              "    </tr>\n",
              "    <tr>\n",
              "      <th>4</th>\n",
              "      <td>1746213</td>\n",
              "      <td>195911</td>\n",
              "      <td>2018-01-05 00:55:41</td>\n",
              "      <td>GGHKWMSWHCMID</td>\n",
              "      <td>F</td>\n",
              "      <td>27</td>\n",
              "      <td>125.96.20.172</td>\n",
              "      <td>0</td>\n",
              "      <td>136029</td>\n",
              "      <td>e71ab1f26785</td>\n",
              "      <td>2018-04-16 08:02:44</td>\n",
              "      <td>78</td>\n",
              "      <td>SEO</td>\n",
              "      <td>E-wallet</td>\n",
              "    </tr>\n",
              "  </tbody>\n",
              "</table>\n",
              "</div>\n",
              "      <button class=\"colab-df-convert\" onclick=\"convertToInteractive('df-2e940cc8-829a-41ee-9a53-7c2600a69126')\"\n",
              "              title=\"Convert this dataframe to an interactive table.\"\n",
              "              style=\"display:none;\">\n",
              "        \n",
              "  <svg xmlns=\"http://www.w3.org/2000/svg\" height=\"24px\"viewBox=\"0 0 24 24\"\n",
              "       width=\"24px\">\n",
              "    <path d=\"M0 0h24v24H0V0z\" fill=\"none\"/>\n",
              "    <path d=\"M18.56 5.44l.94 2.06.94-2.06 2.06-.94-2.06-.94-.94-2.06-.94 2.06-2.06.94zm-11 1L8.5 8.5l.94-2.06 2.06-.94-2.06-.94L8.5 2.5l-.94 2.06-2.06.94zm10 10l.94 2.06.94-2.06 2.06-.94-2.06-.94-.94-2.06-.94 2.06-2.06.94z\"/><path d=\"M17.41 7.96l-1.37-1.37c-.4-.4-.92-.59-1.43-.59-.52 0-1.04.2-1.43.59L10.3 9.45l-7.72 7.72c-.78.78-.78 2.05 0 2.83L4 21.41c.39.39.9.59 1.41.59.51 0 1.02-.2 1.41-.59l7.78-7.78 2.81-2.81c.8-.78.8-2.07 0-2.86zM5.41 20L4 18.59l7.72-7.72 1.47 1.35L5.41 20z\"/>\n",
              "  </svg>\n",
              "      </button>\n",
              "      \n",
              "  <style>\n",
              "    .colab-df-container {\n",
              "      display:flex;\n",
              "      flex-wrap:wrap;\n",
              "      gap: 12px;\n",
              "    }\n",
              "\n",
              "    .colab-df-convert {\n",
              "      background-color: #E8F0FE;\n",
              "      border: none;\n",
              "      border-radius: 50%;\n",
              "      cursor: pointer;\n",
              "      display: none;\n",
              "      fill: #1967D2;\n",
              "      height: 32px;\n",
              "      padding: 0 0 0 0;\n",
              "      width: 32px;\n",
              "    }\n",
              "\n",
              "    .colab-df-convert:hover {\n",
              "      background-color: #E2EBFA;\n",
              "      box-shadow: 0px 1px 2px rgba(60, 64, 67, 0.3), 0px 1px 3px 1px rgba(60, 64, 67, 0.15);\n",
              "      fill: #174EA6;\n",
              "    }\n",
              "\n",
              "    [theme=dark] .colab-df-convert {\n",
              "      background-color: #3B4455;\n",
              "      fill: #D2E3FC;\n",
              "    }\n",
              "\n",
              "    [theme=dark] .colab-df-convert:hover {\n",
              "      background-color: #434B5C;\n",
              "      box-shadow: 0px 1px 3px 1px rgba(0, 0, 0, 0.15);\n",
              "      filter: drop-shadow(0px 1px 2px rgba(0, 0, 0, 0.3));\n",
              "      fill: #FFFFFF;\n",
              "    }\n",
              "  </style>\n",
              "\n",
              "      <script>\n",
              "        const buttonEl =\n",
              "          document.querySelector('#df-2e940cc8-829a-41ee-9a53-7c2600a69126 button.colab-df-convert');\n",
              "        buttonEl.style.display =\n",
              "          google.colab.kernel.accessAllowed ? 'block' : 'none';\n",
              "\n",
              "        async function convertToInteractive(key) {\n",
              "          const element = document.querySelector('#df-2e940cc8-829a-41ee-9a53-7c2600a69126');\n",
              "          const dataTable =\n",
              "            await google.colab.kernel.invokeFunction('convertToInteractive',\n",
              "                                                     [key], {});\n",
              "          if (!dataTable) return;\n",
              "\n",
              "          const docLinkHtml = 'Like what you see? Visit the ' +\n",
              "            '<a target=\"_blank\" href=https://colab.research.google.com/notebooks/data_table.ipynb>data table notebook</a>'\n",
              "            + ' to learn more about interactive tables.';\n",
              "          element.innerHTML = '';\n",
              "          dataTable['output_type'] = 'display_data';\n",
              "          await google.colab.output.renderOutput(dataTable, element);\n",
              "          const docLink = document.createElement('div');\n",
              "          docLink.innerHTML = docLinkHtml;\n",
              "          element.appendChild(docLink);\n",
              "        }\n",
              "      </script>\n",
              "    </div>\n",
              "  </div>\n",
              "  "
            ]
          },
          "metadata": {},
          "execution_count": 461
        }
      ]
    },
    {
      "cell_type": "code",
      "source": [
        "data.shape"
      ],
      "metadata": {
        "colab": {
          "base_uri": "https://localhost:8080/"
        },
        "id": "MfKJIhDvrQhV",
        "outputId": "8242971e-6651-47a3-e6c7-f79aa1beebc3"
      },
      "execution_count": 462,
      "outputs": [
        {
          "output_type": "execute_result",
          "data": {
            "text/plain": [
              "(54213, 14)"
            ]
          },
          "metadata": {},
          "execution_count": 462
        }
      ]
    },
    {
      "cell_type": "code",
      "source": [
        "data.columns"
      ],
      "metadata": {
        "colab": {
          "base_uri": "https://localhost:8080/"
        },
        "id": "SJsyOypLsV3z",
        "outputId": "658e80d0-7e97-41c2-c89d-79fdbbd5e87f"
      },
      "execution_count": 463,
      "outputs": [
        {
          "output_type": "execute_result",
          "data": {
            "text/plain": [
              "Index(['Ecommerce_Provider_ID', 'Merchant_ID', 'Merchant_Registration_Date',\n",
              "       'Registered_Device_ID', 'Gender', 'Age', 'IP_Address', 'Fraudster',\n",
              "       'Customer_ID', 'Order_ID', 'Date_of_Order', 'Order_Value_USD',\n",
              "       'Order_Source', 'Order_Payment_Method'],\n",
              "      dtype='object')"
            ]
          },
          "metadata": {},
          "execution_count": 463
        }
      ]
    },
    {
      "cell_type": "code",
      "source": [
        "data.dtypes"
      ],
      "metadata": {
        "colab": {
          "base_uri": "https://localhost:8080/"
        },
        "id": "fb4FOktksYOz",
        "outputId": "ae23e428-352e-4163-bdcc-aafd0101193d"
      },
      "execution_count": 464,
      "outputs": [
        {
          "output_type": "execute_result",
          "data": {
            "text/plain": [
              "Ecommerce_Provider_ID          int64\n",
              "Merchant_ID                    int64\n",
              "Merchant_Registration_Date    object\n",
              "Registered_Device_ID          object\n",
              "Gender                        object\n",
              "Age                            int64\n",
              "IP_Address                    object\n",
              "Fraudster                      int64\n",
              "Customer_ID                    int64\n",
              "Order_ID                      object\n",
              "Date_of_Order                 object\n",
              "Order_Value_USD                int64\n",
              "Order_Source                  object\n",
              "Order_Payment_Method          object\n",
              "dtype: object"
            ]
          },
          "metadata": {},
          "execution_count": 464
        }
      ]
    },
    {
      "cell_type": "code",
      "source": [
        "data.describe()"
      ],
      "metadata": {
        "colab": {
          "base_uri": "https://localhost:8080/",
          "height": 300
        },
        "id": "sox9ZTfNsZiK",
        "outputId": "a71c3374-fa25-4b72-8304-8b4986a2532c"
      },
      "execution_count": 465,
      "outputs": [
        {
          "output_type": "execute_result",
          "data": {
            "text/plain": [
              "       Ecommerce_Provider_ID    Merchant_ID           Age    Fraudster  \\\n",
              "count                54213.0   54213.000000  54213.000000  54213.00000   \n",
              "mean               1746213.0  200395.176212     33.122240      0.09269   \n",
              "std                      0.0  115398.486895      8.630091      0.29000   \n",
              "min                1746213.0       2.000000     18.000000      0.00000   \n",
              "25%                1746213.0  100997.000000     27.000000      0.00000   \n",
              "50%                1746213.0  200574.000000     32.000000      0.00000   \n",
              "75%                1746213.0  300407.000000     39.000000      0.00000   \n",
              "max                1746213.0  399993.000000     72.000000      1.00000   \n",
              "\n",
              "         Customer_ID  Order_Value_USD  \n",
              "count   54213.000000     54213.000000  \n",
              "mean   137966.285208        92.230240  \n",
              "std     15563.516156        45.673263  \n",
              "min    111234.000000        22.000000  \n",
              "25%    124471.000000        55.000000  \n",
              "50%    137864.000000        88.000000  \n",
              "75%    151405.000000       122.000000  \n",
              "max    165000.000000       385.000000  "
            ],
            "text/html": [
              "\n",
              "  <div id=\"df-30871cce-6d78-4332-ba73-ee2301d83c9f\">\n",
              "    <div class=\"colab-df-container\">\n",
              "      <div>\n",
              "<style scoped>\n",
              "    .dataframe tbody tr th:only-of-type {\n",
              "        vertical-align: middle;\n",
              "    }\n",
              "\n",
              "    .dataframe tbody tr th {\n",
              "        vertical-align: top;\n",
              "    }\n",
              "\n",
              "    .dataframe thead th {\n",
              "        text-align: right;\n",
              "    }\n",
              "</style>\n",
              "<table border=\"1\" class=\"dataframe\">\n",
              "  <thead>\n",
              "    <tr style=\"text-align: right;\">\n",
              "      <th></th>\n",
              "      <th>Ecommerce_Provider_ID</th>\n",
              "      <th>Merchant_ID</th>\n",
              "      <th>Age</th>\n",
              "      <th>Fraudster</th>\n",
              "      <th>Customer_ID</th>\n",
              "      <th>Order_Value_USD</th>\n",
              "    </tr>\n",
              "  </thead>\n",
              "  <tbody>\n",
              "    <tr>\n",
              "      <th>count</th>\n",
              "      <td>54213.0</td>\n",
              "      <td>54213.000000</td>\n",
              "      <td>54213.000000</td>\n",
              "      <td>54213.00000</td>\n",
              "      <td>54213.000000</td>\n",
              "      <td>54213.000000</td>\n",
              "    </tr>\n",
              "    <tr>\n",
              "      <th>mean</th>\n",
              "      <td>1746213.0</td>\n",
              "      <td>200395.176212</td>\n",
              "      <td>33.122240</td>\n",
              "      <td>0.09269</td>\n",
              "      <td>137966.285208</td>\n",
              "      <td>92.230240</td>\n",
              "    </tr>\n",
              "    <tr>\n",
              "      <th>std</th>\n",
              "      <td>0.0</td>\n",
              "      <td>115398.486895</td>\n",
              "      <td>8.630091</td>\n",
              "      <td>0.29000</td>\n",
              "      <td>15563.516156</td>\n",
              "      <td>45.673263</td>\n",
              "    </tr>\n",
              "    <tr>\n",
              "      <th>min</th>\n",
              "      <td>1746213.0</td>\n",
              "      <td>2.000000</td>\n",
              "      <td>18.000000</td>\n",
              "      <td>0.00000</td>\n",
              "      <td>111234.000000</td>\n",
              "      <td>22.000000</td>\n",
              "    </tr>\n",
              "    <tr>\n",
              "      <th>25%</th>\n",
              "      <td>1746213.0</td>\n",
              "      <td>100997.000000</td>\n",
              "      <td>27.000000</td>\n",
              "      <td>0.00000</td>\n",
              "      <td>124471.000000</td>\n",
              "      <td>55.000000</td>\n",
              "    </tr>\n",
              "    <tr>\n",
              "      <th>50%</th>\n",
              "      <td>1746213.0</td>\n",
              "      <td>200574.000000</td>\n",
              "      <td>32.000000</td>\n",
              "      <td>0.00000</td>\n",
              "      <td>137864.000000</td>\n",
              "      <td>88.000000</td>\n",
              "    </tr>\n",
              "    <tr>\n",
              "      <th>75%</th>\n",
              "      <td>1746213.0</td>\n",
              "      <td>300407.000000</td>\n",
              "      <td>39.000000</td>\n",
              "      <td>0.00000</td>\n",
              "      <td>151405.000000</td>\n",
              "      <td>122.000000</td>\n",
              "    </tr>\n",
              "    <tr>\n",
              "      <th>max</th>\n",
              "      <td>1746213.0</td>\n",
              "      <td>399993.000000</td>\n",
              "      <td>72.000000</td>\n",
              "      <td>1.00000</td>\n",
              "      <td>165000.000000</td>\n",
              "      <td>385.000000</td>\n",
              "    </tr>\n",
              "  </tbody>\n",
              "</table>\n",
              "</div>\n",
              "      <button class=\"colab-df-convert\" onclick=\"convertToInteractive('df-30871cce-6d78-4332-ba73-ee2301d83c9f')\"\n",
              "              title=\"Convert this dataframe to an interactive table.\"\n",
              "              style=\"display:none;\">\n",
              "        \n",
              "  <svg xmlns=\"http://www.w3.org/2000/svg\" height=\"24px\"viewBox=\"0 0 24 24\"\n",
              "       width=\"24px\">\n",
              "    <path d=\"M0 0h24v24H0V0z\" fill=\"none\"/>\n",
              "    <path d=\"M18.56 5.44l.94 2.06.94-2.06 2.06-.94-2.06-.94-.94-2.06-.94 2.06-2.06.94zm-11 1L8.5 8.5l.94-2.06 2.06-.94-2.06-.94L8.5 2.5l-.94 2.06-2.06.94zm10 10l.94 2.06.94-2.06 2.06-.94-2.06-.94-.94-2.06-.94 2.06-2.06.94z\"/><path d=\"M17.41 7.96l-1.37-1.37c-.4-.4-.92-.59-1.43-.59-.52 0-1.04.2-1.43.59L10.3 9.45l-7.72 7.72c-.78.78-.78 2.05 0 2.83L4 21.41c.39.39.9.59 1.41.59.51 0 1.02-.2 1.41-.59l7.78-7.78 2.81-2.81c.8-.78.8-2.07 0-2.86zM5.41 20L4 18.59l7.72-7.72 1.47 1.35L5.41 20z\"/>\n",
              "  </svg>\n",
              "      </button>\n",
              "      \n",
              "  <style>\n",
              "    .colab-df-container {\n",
              "      display:flex;\n",
              "      flex-wrap:wrap;\n",
              "      gap: 12px;\n",
              "    }\n",
              "\n",
              "    .colab-df-convert {\n",
              "      background-color: #E8F0FE;\n",
              "      border: none;\n",
              "      border-radius: 50%;\n",
              "      cursor: pointer;\n",
              "      display: none;\n",
              "      fill: #1967D2;\n",
              "      height: 32px;\n",
              "      padding: 0 0 0 0;\n",
              "      width: 32px;\n",
              "    }\n",
              "\n",
              "    .colab-df-convert:hover {\n",
              "      background-color: #E2EBFA;\n",
              "      box-shadow: 0px 1px 2px rgba(60, 64, 67, 0.3), 0px 1px 3px 1px rgba(60, 64, 67, 0.15);\n",
              "      fill: #174EA6;\n",
              "    }\n",
              "\n",
              "    [theme=dark] .colab-df-convert {\n",
              "      background-color: #3B4455;\n",
              "      fill: #D2E3FC;\n",
              "    }\n",
              "\n",
              "    [theme=dark] .colab-df-convert:hover {\n",
              "      background-color: #434B5C;\n",
              "      box-shadow: 0px 1px 3px 1px rgba(0, 0, 0, 0.15);\n",
              "      filter: drop-shadow(0px 1px 2px rgba(0, 0, 0, 0.3));\n",
              "      fill: #FFFFFF;\n",
              "    }\n",
              "  </style>\n",
              "\n",
              "      <script>\n",
              "        const buttonEl =\n",
              "          document.querySelector('#df-30871cce-6d78-4332-ba73-ee2301d83c9f button.colab-df-convert');\n",
              "        buttonEl.style.display =\n",
              "          google.colab.kernel.accessAllowed ? 'block' : 'none';\n",
              "\n",
              "        async function convertToInteractive(key) {\n",
              "          const element = document.querySelector('#df-30871cce-6d78-4332-ba73-ee2301d83c9f');\n",
              "          const dataTable =\n",
              "            await google.colab.kernel.invokeFunction('convertToInteractive',\n",
              "                                                     [key], {});\n",
              "          if (!dataTable) return;\n",
              "\n",
              "          const docLinkHtml = 'Like what you see? Visit the ' +\n",
              "            '<a target=\"_blank\" href=https://colab.research.google.com/notebooks/data_table.ipynb>data table notebook</a>'\n",
              "            + ' to learn more about interactive tables.';\n",
              "          element.innerHTML = '';\n",
              "          dataTable['output_type'] = 'display_data';\n",
              "          await google.colab.output.renderOutput(dataTable, element);\n",
              "          const docLink = document.createElement('div');\n",
              "          docLink.innerHTML = docLinkHtml;\n",
              "          element.appendChild(docLink);\n",
              "        }\n",
              "      </script>\n",
              "    </div>\n",
              "  </div>\n",
              "  "
            ]
          },
          "metadata": {},
          "execution_count": 465
        }
      ]
    },
    {
      "cell_type": "code",
      "source": [
        "data.nunique()"
      ],
      "metadata": {
        "colab": {
          "base_uri": "https://localhost:8080/"
        },
        "id": "agESrYw4smxa",
        "outputId": "e6049b14-82f6-408d-d9c7-2faf5878120c"
      },
      "execution_count": 466,
      "outputs": [
        {
          "output_type": "execute_result",
          "data": {
            "text/plain": [
              "Ecommerce_Provider_ID             1\n",
              "Merchant_ID                   54213\n",
              "Merchant_Registration_Date    54213\n",
              "Registered_Device_ID          51291\n",
              "Gender                            2\n",
              "Age                              53\n",
              "IP_Address                    52028\n",
              "Fraudster                         2\n",
              "Customer_ID                   34081\n",
              "Order_ID                      54213\n",
              "Date_of_Order                 54161\n",
              "Order_Value_USD                 116\n",
              "Order_Source                      3\n",
              "Order_Payment_Method              5\n",
              "dtype: int64"
            ]
          },
          "metadata": {},
          "execution_count": 466
        }
      ]
    },
    {
      "cell_type": "code",
      "source": [
        "waste=['Merchant_Registration_Date','Registered_Device_ID','IP_Address','Customer_ID','Order_ID','Date_of_Order','Ecommerce_Provider_ID']\n",
        "data=data.drop(waste, axis=1)"
      ],
      "metadata": {
        "id": "W7aJDs9Yt6fH"
      },
      "execution_count": 467,
      "outputs": []
    },
    {
      "cell_type": "code",
      "source": [
        "t=t.drop(waste, axis=1)"
      ],
      "metadata": {
        "id": "CFcPkUmQuuFR"
      },
      "execution_count": 468,
      "outputs": []
    },
    {
      "cell_type": "code",
      "source": [
        "MID=t['Merchant_ID']"
      ],
      "metadata": {
        "id": "tId5qfqUtl2y"
      },
      "execution_count": 469,
      "outputs": []
    },
    {
      "cell_type": "code",
      "source": [
        "data=data.drop('Merchant_ID', axis=1)\n",
        "t=t.drop(\"Merchant_ID\",axis=1)"
      ],
      "metadata": {
        "id": "nf6A4NaJv3Ke"
      },
      "execution_count": 470,
      "outputs": []
    },
    {
      "cell_type": "code",
      "source": [
        "data.shape"
      ],
      "metadata": {
        "colab": {
          "base_uri": "https://localhost:8080/"
        },
        "id": "PN19Gj0fwBt3",
        "outputId": "782fff6a-e5c3-44d3-fbe2-a1cc2c90ccbc"
      },
      "execution_count": 471,
      "outputs": [
        {
          "output_type": "execute_result",
          "data": {
            "text/plain": [
              "(54213, 6)"
            ]
          },
          "metadata": {},
          "execution_count": 471
        }
      ]
    },
    {
      "cell_type": "code",
      "source": [
        "t.shape"
      ],
      "metadata": {
        "colab": {
          "base_uri": "https://localhost:8080/"
        },
        "id": "MTFrgEVLwDSZ",
        "outputId": "3141ba17-9090-4009-c288-eab9a8d8608b"
      },
      "execution_count": 472,
      "outputs": [
        {
          "output_type": "execute_result",
          "data": {
            "text/plain": [
              "(13554, 5)"
            ]
          },
          "metadata": {},
          "execution_count": 472
        }
      ]
    },
    {
      "cell_type": "code",
      "source": [
        "data.dtypes"
      ],
      "metadata": {
        "colab": {
          "base_uri": "https://localhost:8080/"
        },
        "id": "Mp4M4U6qwIak",
        "outputId": "285ae6da-aa2f-468a-d1e2-c590da5277c4"
      },
      "execution_count": 473,
      "outputs": [
        {
          "output_type": "execute_result",
          "data": {
            "text/plain": [
              "Gender                  object\n",
              "Age                      int64\n",
              "Fraudster                int64\n",
              "Order_Value_USD          int64\n",
              "Order_Source            object\n",
              "Order_Payment_Method    object\n",
              "dtype: object"
            ]
          },
          "metadata": {},
          "execution_count": 473
        }
      ]
    },
    {
      "cell_type": "code",
      "source": [
        "cat=data.select_dtypes(include='object').columns\n",
        "num=data.columns.difference(cat)\n",
        "cat=t.select_dtypes(include='object').columns\n",
        "num=t.columns.difference(cat)\n",
        "data[cat]=data[cat].astype('category')\n",
        "t[cat]=t[cat].astype('category')"
      ],
      "metadata": {
        "id": "R_EpxNyBwlJk"
      },
      "execution_count": 474,
      "outputs": []
    },
    {
      "cell_type": "code",
      "source": [
        "data.dtypes"
      ],
      "metadata": {
        "colab": {
          "base_uri": "https://localhost:8080/"
        },
        "id": "KMMjkZomxAbL",
        "outputId": "dfdec989-ed0e-4781-aadd-e5424e91aeb6"
      },
      "execution_count": 475,
      "outputs": [
        {
          "output_type": "execute_result",
          "data": {
            "text/plain": [
              "Gender                  category\n",
              "Age                        int64\n",
              "Fraudster                  int64\n",
              "Order_Value_USD            int64\n",
              "Order_Source            category\n",
              "Order_Payment_Method    category\n",
              "dtype: object"
            ]
          },
          "metadata": {},
          "execution_count": 475
        }
      ]
    },
    {
      "cell_type": "code",
      "source": [
        "X_train,X_test,y_train,y_test=train_test_split(data.loc[:,data.columns!='Fraudster'], data['Fraudster'], test_size=0.2, stratify=data['Fraudster'],random_state=1)"
      ],
      "metadata": {
        "id": "bfmf9e9jxDSe"
      },
      "execution_count": 476,
      "outputs": []
    },
    {
      "cell_type": "code",
      "source": [
        "si_num=SimpleImputer(strategy='mean')\n",
        "si_cat=SimpleImputer(strategy='most_frequent')"
      ],
      "metadata": {
        "id": "f7-4lZQax-Bt"
      },
      "execution_count": 477,
      "outputs": []
    },
    {
      "cell_type": "code",
      "source": [
        "X_train_num=X_train[num]\n",
        "X_train_cat=X_train[cat]\n",
        "X_test_num=X_test[num]\n",
        "X_test_cat=X_test[cat]\n",
        "t_num=t[num]\n",
        "t_cat=t[cat]"
      ],
      "metadata": {
        "id": "lWoJjdhZySZ1"
      },
      "execution_count": 478,
      "outputs": []
    },
    {
      "cell_type": "code",
      "source": [
        "X_train_num=pd.DataFrame(si_num.fit_transform(X_train_num),columns=X_train_num.columns)\n",
        "X_train_cat=pd.DataFrame(si_cat.fit_transform(X_train_cat),columns=X_train_cat.columns)\n",
        "X_test_num=pd.DataFrame(si_num.transform(X_test_num),columns=X_test_num.columns)\n",
        "X_test_cat=pd.DataFrame(si_cat.transform(X_test_cat),columns=X_test_cat.columns)\n",
        "t_cat=pd.DataFrame(si_cat.transform(t_cat),columns=t_cat.columns)\n",
        "t_num=pd.DataFrame(si_num.transform(t_num),columns=t_num.columns)"
      ],
      "metadata": {
        "id": "2lkEVkkVydmv"
      },
      "execution_count": 479,
      "outputs": []
    },
    {
      "cell_type": "code",
      "source": [
        "sd=StandardScaler()\n",
        "X_train_num=pd.DataFrame(sd.fit_transform(X_train_num),columns=X_train_num.columns)\n",
        "X_test_num=pd.DataFrame(sd.transform(X_test_num),columns=X_test_num.columns)\n",
        "t_num=pd.DataFrame(sd.transform(t_num),columns=t_num.columns)"
      ],
      "metadata": {
        "id": "UPr6CZSHzBRK"
      },
      "execution_count": 480,
      "outputs": []
    },
    {
      "cell_type": "code",
      "source": [
        "ohe=OneHotEncoder(handle_unknown='ignore')\n",
        "X_train_cat=pd.DataFrame(ohe.fit_transform(X_train_cat).todense(),columns=ohe.get_feature_names_out())\n",
        "X_test_cat=pd.DataFrame(ohe.transform(X_test_cat).todense(),columns=ohe.get_feature_names_out())\n",
        "t_cat=pd.DataFrame(ohe.transform(t_cat).todense(),columns=ohe.get_feature_names_out())"
      ],
      "metadata": {
        "id": "VXlYwPqIzVmX"
      },
      "execution_count": 481,
      "outputs": []
    },
    {
      "cell_type": "code",
      "source": [
        "X_train_cat.shape"
      ],
      "metadata": {
        "colab": {
          "base_uri": "https://localhost:8080/"
        },
        "id": "OCkonEk7z60s",
        "outputId": "56f2ade1-afc4-4e8c-844d-aa1a81fc5573"
      },
      "execution_count": 482,
      "outputs": [
        {
          "output_type": "execute_result",
          "data": {
            "text/plain": [
              "(43370, 10)"
            ]
          },
          "metadata": {},
          "execution_count": 482
        }
      ]
    },
    {
      "cell_type": "code",
      "source": [
        "t_cat.shape"
      ],
      "metadata": {
        "colab": {
          "base_uri": "https://localhost:8080/"
        },
        "id": "0kh5ynXCz9-A",
        "outputId": "c9ff7db7-52eb-4feb-82b6-a12ba782da62"
      },
      "execution_count": 483,
      "outputs": [
        {
          "output_type": "execute_result",
          "data": {
            "text/plain": [
              "(13554, 10)"
            ]
          },
          "metadata": {},
          "execution_count": 483
        }
      ]
    },
    {
      "cell_type": "code",
      "source": [
        "X_train=pd.concat([X_train_num,X_train_cat],axis=1)\n",
        "X_test=pd.concat([X_test_num,X_test_cat],axis=1)\n",
        "t=pd.concat([t_num,t_cat],axis=1)"
      ],
      "metadata": {
        "id": "fVIgT8kz04vo"
      },
      "execution_count": 484,
      "outputs": []
    },
    {
      "cell_type": "code",
      "source": [
        "#Model Building\n",
        "model=LogisticRegression()\n",
        "log=model.fit(X_train, y_train)"
      ],
      "metadata": {
        "id": "BLj-__gu0ooQ"
      },
      "execution_count": 485,
      "outputs": []
    },
    {
      "cell_type": "code",
      "source": [
        "trainp=log.predict(X_train)\n",
        "testp=log.predict(X_test)"
      ],
      "metadata": {
        "id": "UytxJLAc1NRz"
      },
      "execution_count": 486,
      "outputs": []
    },
    {
      "cell_type": "code",
      "source": [
        "print(classification_report(y_train,trainp))\n",
        "print(classification_report(y_test,testp))"
      ],
      "metadata": {
        "colab": {
          "base_uri": "https://localhost:8080/"
        },
        "id": "Cbqy0Gz61Uh5",
        "outputId": "e74cab5a-7d62-4908-ca6a-98a9427789f1"
      },
      "execution_count": 487,
      "outputs": [
        {
          "output_type": "stream",
          "name": "stdout",
          "text": [
            "              precision    recall  f1-score   support\n",
            "\n",
            "           0       0.91      1.00      0.95     39350\n",
            "           1       0.00      0.00      0.00      4020\n",
            "\n",
            "    accuracy                           0.91     43370\n",
            "   macro avg       0.45      0.50      0.48     43370\n",
            "weighted avg       0.82      0.91      0.86     43370\n",
            "\n",
            "              precision    recall  f1-score   support\n",
            "\n",
            "           0       0.91      1.00      0.95      9838\n",
            "           1       0.00      0.00      0.00      1005\n",
            "\n",
            "    accuracy                           0.91     10843\n",
            "   macro avg       0.45      0.50      0.48     10843\n",
            "weighted avg       0.82      0.91      0.86     10843\n",
            "\n"
          ]
        },
        {
          "output_type": "stream",
          "name": "stderr",
          "text": [
            "/usr/local/lib/python3.7/dist-packages/sklearn/metrics/_classification.py:1318: UndefinedMetricWarning: Precision and F-score are ill-defined and being set to 0.0 in labels with no predicted samples. Use `zero_division` parameter to control this behavior.\n",
            "  _warn_prf(average, modifier, msg_start, len(result))\n",
            "/usr/local/lib/python3.7/dist-packages/sklearn/metrics/_classification.py:1318: UndefinedMetricWarning: Precision and F-score are ill-defined and being set to 0.0 in labels with no predicted samples. Use `zero_division` parameter to control this behavior.\n",
            "  _warn_prf(average, modifier, msg_start, len(result))\n",
            "/usr/local/lib/python3.7/dist-packages/sklearn/metrics/_classification.py:1318: UndefinedMetricWarning: Precision and F-score are ill-defined and being set to 0.0 in labels with no predicted samples. Use `zero_division` parameter to control this behavior.\n",
            "  _warn_prf(average, modifier, msg_start, len(result))\n",
            "/usr/local/lib/python3.7/dist-packages/sklearn/metrics/_classification.py:1318: UndefinedMetricWarning: Precision and F-score are ill-defined and being set to 0.0 in labels with no predicted samples. Use `zero_division` parameter to control this behavior.\n",
            "  _warn_prf(average, modifier, msg_start, len(result))\n",
            "/usr/local/lib/python3.7/dist-packages/sklearn/metrics/_classification.py:1318: UndefinedMetricWarning: Precision and F-score are ill-defined and being set to 0.0 in labels with no predicted samples. Use `zero_division` parameter to control this behavior.\n",
            "  _warn_prf(average, modifier, msg_start, len(result))\n",
            "/usr/local/lib/python3.7/dist-packages/sklearn/metrics/_classification.py:1318: UndefinedMetricWarning: Precision and F-score are ill-defined and being set to 0.0 in labels with no predicted samples. Use `zero_division` parameter to control this behavior.\n",
            "  _warn_prf(average, modifier, msg_start, len(result))\n"
          ]
        }
      ]
    },
    {
      "cell_type": "code",
      "source": [
        "tp=log.predict(t)"
      ],
      "metadata": {
        "colab": {
          "base_uri": "https://localhost:8080/",
          "height": 182
        },
        "id": "9tmUR_-31edc",
        "outputId": "9c5cee1e-a63e-480b-bd0a-0e10f89f69ac"
      },
      "execution_count": 494,
      "outputs": [
        {
          "output_type": "error",
          "ename": "AttributeError",
          "evalue": "ignored",
          "traceback": [
            "\u001b[0;31m---------------------------------------------------------------------------\u001b[0m",
            "\u001b[0;31mAttributeError\u001b[0m                            Traceback (most recent call last)",
            "\u001b[0;32m<ipython-input-494-0b08252a4da8>\u001b[0m in \u001b[0;36m<module>\u001b[0;34m\u001b[0m\n\u001b[1;32m      1\u001b[0m \u001b[0mtp\u001b[0m\u001b[0;34m=\u001b[0m\u001b[0mlog\u001b[0m\u001b[0;34m.\u001b[0m\u001b[0mpredict\u001b[0m\u001b[0;34m(\u001b[0m\u001b[0mt\u001b[0m\u001b[0;34m)\u001b[0m\u001b[0;34m\u001b[0m\u001b[0;34m\u001b[0m\u001b[0m\n\u001b[0;32m----> 2\u001b[0;31m \u001b[0mtp\u001b[0m\u001b[0;34m.\u001b[0m\u001b[0mnunique\u001b[0m\u001b[0;34m(\u001b[0m\u001b[0;34m)\u001b[0m\u001b[0;34m\u001b[0m\u001b[0;34m\u001b[0m\u001b[0m\n\u001b[0m",
            "\u001b[0;31mAttributeError\u001b[0m: 'numpy.ndarray' object has no attribute 'nunique'"
          ]
        }
      ]
    },
    {
      "cell_type": "code",
      "source": [
        "tp=pd.DataFrame(tp)"
      ],
      "metadata": {
        "id": "3noOZ7y546Xv"
      },
      "execution_count": 496,
      "outputs": []
    },
    {
      "cell_type": "code",
      "source": [
        "Final=pd.concat([MID,tp],axis=1)"
      ],
      "metadata": {
        "id": "6vT8AK8b1lMQ"
      },
      "execution_count": 497,
      "outputs": []
    },
    {
      "cell_type": "code",
      "source": [
        "Final"
      ],
      "metadata": {
        "colab": {
          "base_uri": "https://localhost:8080/",
          "height": 424
        },
        "id": "GiXXVkCR1yG-",
        "outputId": "e90ec361-7904-42d8-ac3f-6158d11b089a"
      },
      "execution_count": 498,
      "outputs": [
        {
          "output_type": "execute_result",
          "data": {
            "text/plain": [
              "       Merchant_ID  0\n",
              "0            53637  0\n",
              "1           243517  0\n",
              "2           343640  0\n",
              "3            69889  0\n",
              "4           125706  0\n",
              "...            ... ..\n",
              "13549       279884  0\n",
              "13550       206253  0\n",
              "13551       313049  0\n",
              "13552       304081  0\n",
              "13553       319050  0\n",
              "\n",
              "[13554 rows x 2 columns]"
            ],
            "text/html": [
              "\n",
              "  <div id=\"df-78eabad3-2188-4f77-aaab-5b53cade7b5f\">\n",
              "    <div class=\"colab-df-container\">\n",
              "      <div>\n",
              "<style scoped>\n",
              "    .dataframe tbody tr th:only-of-type {\n",
              "        vertical-align: middle;\n",
              "    }\n",
              "\n",
              "    .dataframe tbody tr th {\n",
              "        vertical-align: top;\n",
              "    }\n",
              "\n",
              "    .dataframe thead th {\n",
              "        text-align: right;\n",
              "    }\n",
              "</style>\n",
              "<table border=\"1\" class=\"dataframe\">\n",
              "  <thead>\n",
              "    <tr style=\"text-align: right;\">\n",
              "      <th></th>\n",
              "      <th>Merchant_ID</th>\n",
              "      <th>0</th>\n",
              "    </tr>\n",
              "  </thead>\n",
              "  <tbody>\n",
              "    <tr>\n",
              "      <th>0</th>\n",
              "      <td>53637</td>\n",
              "      <td>0</td>\n",
              "    </tr>\n",
              "    <tr>\n",
              "      <th>1</th>\n",
              "      <td>243517</td>\n",
              "      <td>0</td>\n",
              "    </tr>\n",
              "    <tr>\n",
              "      <th>2</th>\n",
              "      <td>343640</td>\n",
              "      <td>0</td>\n",
              "    </tr>\n",
              "    <tr>\n",
              "      <th>3</th>\n",
              "      <td>69889</td>\n",
              "      <td>0</td>\n",
              "    </tr>\n",
              "    <tr>\n",
              "      <th>4</th>\n",
              "      <td>125706</td>\n",
              "      <td>0</td>\n",
              "    </tr>\n",
              "    <tr>\n",
              "      <th>...</th>\n",
              "      <td>...</td>\n",
              "      <td>...</td>\n",
              "    </tr>\n",
              "    <tr>\n",
              "      <th>13549</th>\n",
              "      <td>279884</td>\n",
              "      <td>0</td>\n",
              "    </tr>\n",
              "    <tr>\n",
              "      <th>13550</th>\n",
              "      <td>206253</td>\n",
              "      <td>0</td>\n",
              "    </tr>\n",
              "    <tr>\n",
              "      <th>13551</th>\n",
              "      <td>313049</td>\n",
              "      <td>0</td>\n",
              "    </tr>\n",
              "    <tr>\n",
              "      <th>13552</th>\n",
              "      <td>304081</td>\n",
              "      <td>0</td>\n",
              "    </tr>\n",
              "    <tr>\n",
              "      <th>13553</th>\n",
              "      <td>319050</td>\n",
              "      <td>0</td>\n",
              "    </tr>\n",
              "  </tbody>\n",
              "</table>\n",
              "<p>13554 rows × 2 columns</p>\n",
              "</div>\n",
              "      <button class=\"colab-df-convert\" onclick=\"convertToInteractive('df-78eabad3-2188-4f77-aaab-5b53cade7b5f')\"\n",
              "              title=\"Convert this dataframe to an interactive table.\"\n",
              "              style=\"display:none;\">\n",
              "        \n",
              "  <svg xmlns=\"http://www.w3.org/2000/svg\" height=\"24px\"viewBox=\"0 0 24 24\"\n",
              "       width=\"24px\">\n",
              "    <path d=\"M0 0h24v24H0V0z\" fill=\"none\"/>\n",
              "    <path d=\"M18.56 5.44l.94 2.06.94-2.06 2.06-.94-2.06-.94-.94-2.06-.94 2.06-2.06.94zm-11 1L8.5 8.5l.94-2.06 2.06-.94-2.06-.94L8.5 2.5l-.94 2.06-2.06.94zm10 10l.94 2.06.94-2.06 2.06-.94-2.06-.94-.94-2.06-.94 2.06-2.06.94z\"/><path d=\"M17.41 7.96l-1.37-1.37c-.4-.4-.92-.59-1.43-.59-.52 0-1.04.2-1.43.59L10.3 9.45l-7.72 7.72c-.78.78-.78 2.05 0 2.83L4 21.41c.39.39.9.59 1.41.59.51 0 1.02-.2 1.41-.59l7.78-7.78 2.81-2.81c.8-.78.8-2.07 0-2.86zM5.41 20L4 18.59l7.72-7.72 1.47 1.35L5.41 20z\"/>\n",
              "  </svg>\n",
              "      </button>\n",
              "      \n",
              "  <style>\n",
              "    .colab-df-container {\n",
              "      display:flex;\n",
              "      flex-wrap:wrap;\n",
              "      gap: 12px;\n",
              "    }\n",
              "\n",
              "    .colab-df-convert {\n",
              "      background-color: #E8F0FE;\n",
              "      border: none;\n",
              "      border-radius: 50%;\n",
              "      cursor: pointer;\n",
              "      display: none;\n",
              "      fill: #1967D2;\n",
              "      height: 32px;\n",
              "      padding: 0 0 0 0;\n",
              "      width: 32px;\n",
              "    }\n",
              "\n",
              "    .colab-df-convert:hover {\n",
              "      background-color: #E2EBFA;\n",
              "      box-shadow: 0px 1px 2px rgba(60, 64, 67, 0.3), 0px 1px 3px 1px rgba(60, 64, 67, 0.15);\n",
              "      fill: #174EA6;\n",
              "    }\n",
              "\n",
              "    [theme=dark] .colab-df-convert {\n",
              "      background-color: #3B4455;\n",
              "      fill: #D2E3FC;\n",
              "    }\n",
              "\n",
              "    [theme=dark] .colab-df-convert:hover {\n",
              "      background-color: #434B5C;\n",
              "      box-shadow: 0px 1px 3px 1px rgba(0, 0, 0, 0.15);\n",
              "      filter: drop-shadow(0px 1px 2px rgba(0, 0, 0, 0.3));\n",
              "      fill: #FFFFFF;\n",
              "    }\n",
              "  </style>\n",
              "\n",
              "      <script>\n",
              "        const buttonEl =\n",
              "          document.querySelector('#df-78eabad3-2188-4f77-aaab-5b53cade7b5f button.colab-df-convert');\n",
              "        buttonEl.style.display =\n",
              "          google.colab.kernel.accessAllowed ? 'block' : 'none';\n",
              "\n",
              "        async function convertToInteractive(key) {\n",
              "          const element = document.querySelector('#df-78eabad3-2188-4f77-aaab-5b53cade7b5f');\n",
              "          const dataTable =\n",
              "            await google.colab.kernel.invokeFunction('convertToInteractive',\n",
              "                                                     [key], {});\n",
              "          if (!dataTable) return;\n",
              "\n",
              "          const docLinkHtml = 'Like what you see? Visit the ' +\n",
              "            '<a target=\"_blank\" href=https://colab.research.google.com/notebooks/data_table.ipynb>data table notebook</a>'\n",
              "            + ' to learn more about interactive tables.';\n",
              "          element.innerHTML = '';\n",
              "          dataTable['output_type'] = 'display_data';\n",
              "          await google.colab.output.renderOutput(dataTable, element);\n",
              "          const docLink = document.createElement('div');\n",
              "          docLink.innerHTML = docLinkHtml;\n",
              "          element.appendChild(docLink);\n",
              "        }\n",
              "      </script>\n",
              "    </div>\n",
              "  </div>\n",
              "  "
            ]
          },
          "metadata": {},
          "execution_count": 498
        }
      ]
    },
    {
      "cell_type": "code",
      "source": [
        "Finaldata=Final.to_csv('final.csv')"
      ],
      "metadata": {
        "id": "fQM1m0x62OF8"
      },
      "execution_count": 499,
      "outputs": []
    },
    {
      "cell_type": "code",
      "source": [],
      "metadata": {
        "id": "h5zJMrXs4iq2"
      },
      "execution_count": null,
      "outputs": []
    }
  ]
}