{
  "nbformat": 4,
  "nbformat_minor": 0,
  "metadata": {
    "colab": {
      "provenance": [],
      "collapsed_sections": []
    },
    "kernelspec": {
      "name": "python3",
      "display_name": "Python 3"
    },
    "language_info": {
      "name": "python"
    }
  },
  "cells": [
    {
      "cell_type": "code",
      "execution_count": null,
      "metadata": {
        "colab": {
          "base_uri": "https://localhost:8080/"
        },
        "id": "0SfE9zEU3edS",
        "outputId": "da86d563-2e13-4ef4-ce38-043193e7890e"
      },
      "outputs": [
        {
          "output_type": "stream",
          "name": "stdout",
          "text": [
            "Drive already mounted at /content/gdrive; to attempt to forcibly remount, call drive.mount(\"/content/gdrive\", force_remount=True).\n"
          ]
        }
      ],
      "source": [
        "from google.colab import drive\n",
        "drive.mount('/content/gdrive')"
      ]
    },
    {
      "cell_type": "code",
      "source": [
        "import os\n",
        "path='/content/gdrive/MyDrive/MachineLearning'\n",
        "os.chdir(path)"
      ],
      "metadata": {
        "id": "tRDtWX4M3vUN"
      },
      "execution_count": null,
      "outputs": []
    },
    {
      "cell_type": "code",
      "source": [
        "import pickle as pkl\n",
        "Xtest=pkl.load(open('/content/gdrive/MyDrive/MachineLearning/SVM/svcXtest.pkl','rb'))\n",
        "Xtrain=pkl.load(open('/content/gdrive/MyDrive/MachineLearning/SVM/svcXtrain.pkl','rb'))\n",
        "ytest=pkl.load(open('/content/gdrive/MyDrive/MachineLearning/SVM/svcytest.pkl','rb'))\n",
        "ytrain=pkl.load(open('/content/gdrive/MyDrive/MachineLearning/SVM/svcytrain.pkl','rb'))"
      ],
      "metadata": {
        "id": "pQJAzbom3-m7"
      },
      "execution_count": null,
      "outputs": []
    },
    {
      "cell_type": "code",
      "source": [
        "from sklearn.tree import DecisionTreeClassifier\n",
        "from sklearn.model_selection import RandomizedSearchCV,GridSearchCV"
      ],
      "metadata": {
        "id": "PifNdxxf4MbB"
      },
      "execution_count": null,
      "outputs": []
    },
    {
      "cell_type": "code",
      "source": [
        "params={'criterion':['gini','entropy'], 'max_depth':[5,7,10], 'max_leaf_nodes':[3,5,8]}\n",
        "rnd=RandomizedSearchCV(DecisionTreeClassifier(),params,cv=10)\n",
        "grd=GridSearchCV(DecisionTreeClassifier(),params,cv=10)\n",
        "rnd.fit(Xtrain,ytrain)\n",
        "grd.fit(Xtrain,ytrain)\n",
        "print(rnd.best_params_)\n",
        "print(grd.best_params_)"
      ],
      "metadata": {
        "colab": {
          "base_uri": "https://localhost:8080/"
        },
        "id": "osMbZCVo4svG",
        "outputId": "60c81156-eaa8-4fbb-e7d1-afe2e580ad25"
      },
      "execution_count": null,
      "outputs": [
        {
          "output_type": "stream",
          "name": "stdout",
          "text": [
            "{'max_leaf_nodes': 8, 'max_depth': 7, 'criterion': 'entropy'}\n",
            "{'criterion': 'entropy', 'max_depth': 5, 'max_leaf_nodes': 8}\n"
          ]
        }
      ]
    },
    {
      "cell_type": "code",
      "source": [
        "model=DecisionTreeClassifier(max_leaf_nodes=8,max_depth=7,criterion='entropy')\n",
        "decision=model.fit(Xtrain,ytrain)"
      ],
      "metadata": {
        "id": "nPS_X1pS46Ee"
      },
      "execution_count": null,
      "outputs": []
    },
    {
      "cell_type": "code",
      "source": [],
      "metadata": {
        "id": "pl01wlij8SBT"
      },
      "execution_count": null,
      "outputs": []
    },
    {
      "cell_type": "code",
      "source": [
        "from sklearn.metrics import confusion_matrix,classification_report"
      ],
      "metadata": {
        "id": "UxBY3Gyz5H12"
      },
      "execution_count": null,
      "outputs": []
    },
    {
      "cell_type": "code",
      "source": [
        "dectest=decision.predict(Xtest)\n",
        "dectrain=decision.predict(Xtrain)\n",
        "print(confusion_matrix(dectest,ytest))\n",
        "print(confusion_matrix(dectrain,ytrain))"
      ],
      "metadata": {
        "colab": {
          "base_uri": "https://localhost:8080/"
        },
        "id": "bCjGgcKz5NG1",
        "outputId": "ec22c481-6fbd-43e9-c352-e9f98c0f8753"
      },
      "execution_count": null,
      "outputs": [
        {
          "output_type": "stream",
          "name": "stdout",
          "text": [
            "[[1328   21]\n",
            " [  14  137]]\n",
            "[[3144   26]\n",
            " [  34  296]]\n"
          ]
        }
      ]
    },
    {
      "cell_type": "code",
      "source": [
        "print(classification_report(randomtest,ytest))\n",
        "print(classification_report(randomtrain,ytrain))"
      ],
      "metadata": {
        "colab": {
          "base_uri": "https://localhost:8080/"
        },
        "id": "v7fA3NPW5PVX",
        "outputId": "95ba6f72-2793-46a4-fc4f-c77f4244d5e6"
      },
      "execution_count": null,
      "outputs": [
        {
          "output_type": "stream",
          "name": "stdout",
          "text": [
            "              precision    recall  f1-score   support\n",
            "\n",
            "           0       0.99      0.98      0.99      1349\n",
            "           1       0.87      0.91      0.89       151\n",
            "\n",
            "    accuracy                           0.98      1500\n",
            "   macro avg       0.93      0.95      0.94      1500\n",
            "weighted avg       0.98      0.98      0.98      1500\n",
            "\n",
            "              precision    recall  f1-score   support\n",
            "\n",
            "           0       0.99      0.99      0.99      3170\n",
            "           1       0.92      0.90      0.91       330\n",
            "\n",
            "    accuracy                           0.98      3500\n",
            "   macro avg       0.95      0.94      0.95      3500\n",
            "weighted avg       0.98      0.98      0.98      3500\n",
            "\n"
          ]
        }
      ]
    },
    {
      "cell_type": "code",
      "source": [],
      "metadata": {
        "id": "_-ARvWhO5SCV"
      },
      "execution_count": null,
      "outputs": []
    }
  ]
}