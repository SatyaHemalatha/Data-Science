{
  "nbformat": 4,
  "nbformat_minor": 0,
  "metadata": {
    "colab": {
      "provenance": [],
      "authorship_tag": "ABX9TyPJVpVAbuD+YSGuFnGc2Ous",
      "include_colab_link": true
    },
    "kernelspec": {
      "name": "python3",
      "display_name": "Python 3"
    },
    "language_info": {
      "name": "python"
    }
  },
  "cells": [
    {
      "cell_type": "markdown",
      "metadata": {
        "id": "view-in-github",
        "colab_type": "text"
      },
      "source": [
        "<a href=\"https://colab.research.google.com/github/SatyaHemalatha/Data-Science/blob/main/Neural_.ipynb\" target=\"_parent\"><img src=\"https://colab.research.google.com/assets/colab-badge.svg\" alt=\"Open In Colab\"/></a>"
      ]
    },
    {
      "cell_type": "code",
      "execution_count": null,
      "metadata": {
        "id": "WYy96rq-_ZhG"
      },
      "outputs": [],
      "source": [
        "# Find the Complex relation between attributes\n",
        "\n",
        "import random\n",
        "import numpy as np\n",
        "import matplotlib.pyplot as plt\n",
        "import pandas as pd"
      ]
    },
    {
      "cell_type": "markdown",
      "source": [
        "y = w1x1+w2x2"
      ],
      "metadata": {
        "id": "LPgx4SbPBRC1"
      }
    },
    {
      "cell_type": "code",
      "source": [
        "x1, x2=5,6\n",
        "y=30"
      ],
      "metadata": {
        "id": "nZRU_b-qBVie"
      },
      "execution_count": null,
      "outputs": []
    },
    {
      "cell_type": "code",
      "source": [
        "w1= random.random()"
      ],
      "metadata": {
        "id": "NHz7YY2CBdsp"
      },
      "execution_count": null,
      "outputs": []
    },
    {
      "cell_type": "code",
      "source": [
        "w1"
      ],
      "metadata": {
        "colab": {
          "base_uri": "https://localhost:8080/"
        },
        "id": "CD10s6VDBxWe",
        "outputId": "1be72230-f8c1-48be-d42b-f9d4764f3ce0"
      },
      "execution_count": null,
      "outputs": [
        {
          "output_type": "execute_result",
          "data": {
            "text/plain": [
              "0.5777638183558463"
            ]
          },
          "metadata": {},
          "execution_count": 28
        }
      ]
    },
    {
      "cell_type": "code",
      "source": [
        "w2= random.random()"
      ],
      "metadata": {
        "id": "aE-rOsSIBzbP"
      },
      "execution_count": null,
      "outputs": []
    },
    {
      "cell_type": "code",
      "source": [
        "w2"
      ],
      "metadata": {
        "colab": {
          "base_uri": "https://localhost:8080/"
        },
        "id": "OHanFfBPB4mX",
        "outputId": "947aa34e-ef21-467a-84fc-2274827896be"
      },
      "execution_count": null,
      "outputs": [
        {
          "output_type": "execute_result",
          "data": {
            "text/plain": [
              "0.5319866366125842"
            ]
          },
          "metadata": {},
          "execution_count": 30
        }
      ]
    },
    {
      "cell_type": "markdown",
      "source": [
        "Predictions"
      ],
      "metadata": {
        "id": "QECGaS1oCL0c"
      }
    },
    {
      "cell_type": "code",
      "source": [
        "y_pred=w1*x1+w2*x2\n",
        "print(\"Predictions\",y_pred)"
      ],
      "metadata": {
        "colab": {
          "base_uri": "https://localhost:8080/"
        },
        "id": "9XG7bncFCRlI",
        "outputId": "6a694abb-7c27-4388-8d69-6cad95e536ab"
      },
      "execution_count": null,
      "outputs": [
        {
          "output_type": "stream",
          "name": "stdout",
          "text": [
            "Predictions 6.080738911454736\n"
          ]
        }
      ]
    },
    {
      "cell_type": "code",
      "source": [
        "E=(y-y_pred)**2    # (**) indicates square\n",
        "print(\"error\", E)"
      ],
      "metadata": {
        "colab": {
          "base_uri": "https://localhost:8080/"
        },
        "id": "-xsMprlFCi7K",
        "outputId": "ef56f490-bd7f-4241-f67b-f1cdaaa7ee67"
      },
      "execution_count": null,
      "outputs": [
        {
          "output_type": "stream",
          "name": "stdout",
          "text": [
            "error 572.1310510219955\n"
          ]
        }
      ]
    },
    {
      "cell_type": "markdown",
      "source": [
        "Gradient Descent- Optimal solution by finding local minima\n",
        "Gradient Descent means moving down\n",
        "Gradient Ascent means moving UpWord"
      ],
      "metadata": {
        "id": "cmFJmjBaEx_9"
      }
    },
    {
      "cell_type": "code",
      "source": [
        "# lr = Learning Rate"
      ],
      "metadata": {
        "id": "5eR7PTmXH0rO"
      },
      "execution_count": null,
      "outputs": []
    },
    {
      "cell_type": "code",
      "source": [
        "lr = 0.001\n",
        "e =[]\n",
        "for epoch in range(100):\n",
        "  y_pred=w1*x1+w2*x2\n",
        "  error = (y-y_pred)**2\n",
        "  e.append(error)\n",
        "\n",
        "  print(\"Epoch =\", epoch, '==>w1', w1, '==>w2', w2, \"error=\",error)\n",
        "  dew1=2*(y-y_pred)*(-x1)\n",
        "  dew2=2*(y-y_pred)*(-x2)\n",
        "\n",
        "  w1=w1-lr*dew1\n",
        "  w2=w2-lr*dew2"
      ],
      "metadata": {
        "colab": {
          "base_uri": "https://localhost:8080/"
        },
        "id": "EDxe57QxE03N",
        "outputId": "8fc82ec0-9fc1-490d-fed8-3b99a52f1dbe"
      },
      "execution_count": null,
      "outputs": [
        {
          "output_type": "stream",
          "name": "stdout",
          "text": [
            "Epoch = 0 ==>w1 0.5777638183558463 ==>w2 0.5319866366125842 error= 572.1310510219955\n",
            "Epoch = 1 ==>w1 0.816956429241299 ==>w2 0.8190177696751273 error= 441.04667313604\n",
            "Epoch = 2 ==>w1 1.0269675415987263 ==>w2 1.0710311045040402 error= 339.9958235738031\n",
            "Epoch = 3 ==>w1 1.2113572982485477 ==>w2 1.2922988124838257 error= 262.0973404598676\n",
            "Epoch = 4 ==>w1 1.3732515045870908 ==>w2 1.4865718600900775 error= 202.04664620306454\n",
            "Epoch = 5 ==>w1 1.5153946177523316 ==>w2 1.6571435958883665 error= 155.75452681160323\n",
            "Epoch = 6 ==>w1 1.640196271111413 ==>w2 1.8069055799192641 error= 120.06867264663597\n",
            "Epoch = 7 ==>w1 1.7497721227606866 ==>w2 1.9383966018983925 error= 92.55901864452923\n",
            "Epoch = 8 ==>w1 1.8459797205087487 ==>w2 2.053845719196067 error= 71.35226652876928\n",
            "Epoch = 9 ==>w1 1.9304499913315472 ==>w2 2.155210044183425 error= 55.00432063076379\n",
            "Epoch = 10 ==>w1 2.0046148891139643 ==>w2 2.244207921522326 error= 42.40195070512573\n",
            "Epoch = 11 ==>w1 2.0697316693669268 ==>w2 2.3223480578258804 error= 32.68698536737012\n",
            "Epoch = 12 ==>w1 2.1269042024290274 ==>w2 2.3909550975004015 error= 25.197874027939758\n",
            "Epoch = 13 ==>w1 2.177101686457552 ==>w2 2.451192078334631 error= 19.424637922154286\n",
            "Epoch = 14 ==>w1 2.2211750774345966 ==>w2 2.5040801475070844 error= 14.974142579981999\n",
            "Epoch = 15 ==>w1 2.2598715147124415 ==>w2 2.5505158722404984 error= 11.543326928626845\n",
            "Epoch = 16 ==>w1 2.2938469866423894 ==>w2 2.591286438556436 error= 8.8985660360476\n",
            "Epoch = 17 ==>w1 2.323677450996884 ==>w2 2.627082995781829 error= 6.859762180132521\n",
            "Epoch = 18 ==>w1 2.3498685987001298 ==>w2 2.6585123730257245 error= 5.288080908469275\n",
            "Epoch = 19 ==>w1 2.37286442638358 ==>w2 2.6861073662458645 error= 4.0764969630444226\n",
            "Epoch = 20 ==>w1 2.393054763089649 ==>w2 2.7103357702931477 error= 3.1425062848595307\n",
            "Epoch = 21 ==>w1 2.410781878717578 ==>w2 2.731608309046662 error= 2.4225078148976507\n",
            "Epoch = 22 ==>w1 2.4263462862388994 ==>w2 2.7502855980722476 error= 1.8674725143795594\n",
            "Epoch = 23 ==>w1 2.4400118360426197 ==>w2 2.7666842578367117 error= 1.4396046817749755\n",
            "Epoch = 24 ==>w1 2.452010188770286 ==>w2 2.7810822811099114 error= 1.1097682155054167\n",
            "Epoch = 25 ==>w1 2.462544742465177 ==>w2 2.7937237455437804 error= 0.8555025610416811\n",
            "Epoch = 26 ==>w1 2.4717940806092913 ==>w2 2.8048229513167175 error= 0.6594932362660577\n",
            "Epoch = 27 ==>w1 2.4799149994998237 ==>w2 2.8145680539853566 error= 0.5083927839457192\n",
            "Epoch = 28 ==>w1 2.487045166285711 ==>w2 2.8231242541284214 error= 0.3919118628592124\n",
            "Epoch = 29 ==>w1 2.49330545272372 ==>w2 2.830636597854032 error= 0.3021185844883613\n",
            "Epoch = 30 ==>w1 2.4988019842162923 ==>w2 2.837232435645119 error= 0.23289838288472392\n",
            "Epoch = 31 ==>w1 2.5036279388667704 ==>w2 2.8430235812256925 error= 0.179537636991709\n",
            "Epoch = 32 ==>w1 2.5078651270498904 ==>w2 2.848108207045436 error= 0.1384026917547207\n",
            "Epoch = 33 ==>w1 2.5115853782746695 ==>w2 2.852572508515171 error= 0.10669242063064635\n",
            "Epoch = 34 ==>w1 2.5148517588500257 ==>w2 2.856492165205599 error= 0.08224747998543476\n",
            "Epoch = 35 ==>w1 2.5177196409951885 ==>w2 2.8599336237797943 error= 0.06340326636108995\n",
            "Epoch = 36 ==>w1 2.5202376415186416 ==>w2 2.862955224407938 error= 0.04887656358550263\n",
            "Epoch = 37 ==>w1 2.5224484459782333 ==>w2 2.865608189759448 error= 0.03767816084304732\n",
            "Epoch = 38 ==>w1 2.5243895322937546 ==>w2 2.867937493338074 error= 0.02904549134333086\n",
            "Epoch = 39 ==>w1 2.5260938060787823 ==>w2 2.869982621880107 error= 0.02239070454871263\n",
            "Epoch = 40 ==>w1 2.527590158462037 ==>w2 2.8717782447400126 error= 0.01726063588532909\n",
            "Epoch = 41 ==>w1 2.5289039558545343 ==>w2 2.8733548016110095 error= 0.013305948033825853\n",
            "Epoch = 42 ==>w1 2.530057469965147 ==>w2 2.8747390185437447 error= 0.010257342444108144\n",
            "Epoch = 43 ==>w1 2.531070255354265 ==>w2 2.8759543610106864 error= 0.007907221172684123\n",
            "Epoch = 44 ==>w1 2.5319594809259107 ==>w2 2.877021431696661 error= 0.006095550286483102\n",
            "Epoch = 45 ==>w1 2.5327402209778156 ==>w2 2.877958319758947 error= 0.0046989621870448285\n",
            "Epoch = 46 ==>w1 2.533425710743388 ==>w2 2.878780907477634 error= 0.0036223547665980944\n",
            "Epoch = 47 ==>w1 2.5340275707575604 ==>w2 2.879503139494641 error= 0.002792415331894228\n",
            "Epoch = 48 ==>w1 2.5345560038500037 ==>w2 2.880137259205573 error= 0.0021526283007119156\n",
            "Epoch = 49 ==>w1 2.535019968105169 ==>w2 2.8806940163117716 error= 0.0016594267149661701\n",
            "Epoch = 50 ==>w1 2.5354273287212044 ==>w2 2.881182849051014 error= 0.0012792255037398774\n",
            "Epoch = 51 ==>w1 2.535784991342083 ==>w2 2.8816120441960686 error= 0.0009861344732248942\n",
            "Epoch = 52 ==>w1 2.5360990191232147 ==>w2 2.8819888775334266 error= 0.0007601952872578105\n",
            "Epoch = 53 ==>w1 2.5363747355150483 ==>w2 2.882319737203627 error= 0.0005860223838225507\n",
            "Epoch = 54 ==>w1 2.536616814507078 ==>w2 2.8826102319940627 error= 0.00045175527933068074\n",
            "Epoch = 55 ==>w1 2.5368293598620806 ==>w2 2.8828652864200657 error= 0.0003482509167513838\n",
            "Epoch = 56 ==>w1 2.5370159746837726 ==>w2 2.883089224206096 error= 0.00026846105970913255\n",
            "Epoch = 57 ==>w1 2.5371798224972184 ==>w2 2.883285841582231 error= 0.00020695233555272704\n",
            "Epoch = 58 ==>w1 2.5373236808774235 ==>w2 2.8834584716384772 error= 0.0001595362442401728\n",
            "Epoch = 59 ==>w1 2.5374499885352435 ==>w2 2.8836100408278615 error= 0.00012298393810487146\n",
            "Epoch = 60 ==>w1 2.5375608866588095 ==>w2 2.883743118576141 error= 9.480635014210257e-05\n",
            "Epoch = 61 ==>w1 2.5376582552113005 ==>w2 2.88385996083913 error= 7.308469842290304e-05\n",
            "Epoch = 62 ==>w1 2.5377437448003874 ==>w2 2.8839625483460347 error= 5.6339824659050896e-05\n",
            "Epoch = 63 ==>w1 2.537818804659606 ==>w2 2.884052620177097 error= 4.343146939248502e-05\n",
            "Epoch = 64 ==>w1 2.537884707216 ==>w2 2.8841317032447695 error= 3.348062485115264e-05\n",
            "Epoch = 65 ==>w1 2.537942569660514 ==>w2 2.8842011381781862 error= 2.5809678007748374e-05\n",
            "Epoch = 66 ==>w1 2.537993372886797 ==>w2 2.884262102049726 error= 1.9896267821338217e-05\n",
            "Epoch = 67 ==>w1 2.538037978119474 ==>w2 2.884315628328938 error= 1.5337714523145643e-05\n",
            "Epoch = 68 ==>w1 2.538077141513764 ==>w2 2.8843626244020864 error= 1.1823598722470819e-05\n",
            "Epoch = 69 ==>w1 2.538111526973951 ==>w2 2.8844038869543103 error= 9.114623077544965e-06\n",
            "Epoch = 70 ==>w1 2.5381417174079948 ==>w2 2.884440115475163 error= 7.026317096516087e-06\n",
            "Epoch = 71 ==>w1 2.5381682246090853 ==>w2 2.8844719241164714 error= 5.416475428634709e-06\n",
            "Epoch = 72 ==>w1 2.538191497931643 ==>w2 2.88449985210354 error= 4.175474244328336e-06\n",
            "Epoch = 73 ==>w1 2.5382119319088483 ==>w2 2.8845243728761867 error= 3.218806287361261e-06\n",
            "Epoch = 74 ==>w1 2.5382298729408346 ==>w2 2.8845459021145703 error= 2.481326266031414e-06\n",
            "Epoch = 75 ==>w1 2.5382456251669185 ==>w2 2.884564804785871 error= 1.9128147172715173e-06\n",
            "Epoch = 76 ==>w1 2.53825945562142 ==>w2 2.884581401331273 error= 1.4745582605122424e-06\n",
            "Epoch = 77 ==>w1 2.5382715987604727 ==>w2 2.884595973098136 error= 1.1367133701025224e-06\n",
            "Epoch = 78 ==>w1 2.538282260436561 ==>w2 2.884608767109442 error= 8.762741495933637e-07\n",
            "Epoch = 79 ==>w1 2.5382916213881663 ==>w2 2.884620000251368 error= 6.755057215385528e-07\n",
            "Epoch = 80 ==>w1 2.538299840303676 ==>w2 2.88462986294998 error= 5.207365526431923e-07\n",
            "Epoch = 81 ==>w1 2.5383070565114934 ==>w2 2.884638522399361 error= 4.0142747664180715e-07\n",
            "Epoch = 82 ==>w1 2.538313392341957 ==>w2 2.8846461253959172 error= 3.094540189068631e-07\n",
            "Epoch = 83 ==>w1 2.5383189552011043 ==>w2 2.8846528008268937 error= 2.385531519121643e-07\n",
            "Epoch = 84 ==>w1 2.5383238393914356 ==>w2 2.884658661855291 error= 1.838968079573893e-07\n",
            "Epoch = 85 ==>w1 2.5383281277105465 ==>w2 2.884663807838224 error= 1.4176310690362095e-07\n",
            "Epoch = 86 ==>w1 2.5383318928547256 ==>w2 2.8846683260112393 error= 1.0928291090217818e-07\n",
            "Epoch = 87 ==>w1 2.538335198651315 ==>w2 2.8846722929671467 error= 8.42444474870898e-08\n",
            "Epoch = 88 ==>w1 2.5383381011407202 ==>w2 2.8846757759544333 error= 6.494269665692745e-08\n",
            "Epoch = 89 ==>w1 2.5383406495264182 ==>w2 2.884678834017271 error= 5.0063285769484895e-08\n",
            "Epoch = 90 ==>w1 2.538342887009061 ==>w2 2.8846815189964423 error= 3.859298598756469e-08\n",
            "Epoch = 91 ==>w1 2.538344851518821 ==>w2 2.884683876408155 error= 2.975071540946425e-08\n",
            "Epoch = 92 ==>w1 2.538346576358391 ==>w2 2.8846859462156385 error= 2.293435049858965e-08\n",
            "Epoch = 93 ==>w1 2.538348090767533 ==>w2 2.884687763506609 error= 1.76797238496074e-08\n",
            "Epoch = 94 ==>w1 2.53834942041876 ==>w2 2.8846893590880813 error= 1.3629016239931439e-08\n",
            "Epoch = 95 ==>w1 2.538350587852537 ==>w2 2.884690760008614 error= 1.0506390554233703e-08\n",
            "Epoch = 96 ==>w1 2.5383516128593935 ==>w2 2.8846919900168415 error= 8.099208376137785e-09\n",
            "Epoch = 97 ==>w1 2.5383525128154134 ==>w2 2.884693069964065 error= 6.243550150158484e-09\n",
            "Epoch = 98 ==>w1 2.5383533029767986 ==>w2 2.884694018157728 error= 4.813052914069136e-09\n",
            "Epoch = 99 ==>w1 2.538353996738495 ==>w2 2.8846948506717633 error= 3.710305482413643e-09\n"
          ]
        }
      ]
    },
    {
      "cell_type": "code",
      "source": [
        "print(w1,w2,error)"
      ],
      "metadata": {
        "colab": {
          "base_uri": "https://localhost:8080/"
        },
        "id": "-RZuUbDiFYWc",
        "outputId": "bddadabd-8d06-4e89-8d66-1b29d3f7dcde"
      },
      "execution_count": null,
      "outputs": [
        {
          "output_type": "stream",
          "name": "stdout",
          "text": [
            "2.2827972854638405 3.097660174744917 3.578739177700774e-09\n"
          ]
        }
      ]
    },
    {
      "cell_type": "code",
      "source": [
        "y = w1*x1+w2*x2\n",
        "y"
      ],
      "metadata": {
        "colab": {
          "base_uri": "https://localhost:8080/"
        },
        "id": "uTuWpZhrJVbd",
        "outputId": "36e1f382-ca16-47d4-de41-4a95432af2a9"
      },
      "execution_count": null,
      "outputs": [
        {
          "output_type": "execute_result",
          "data": {
            "text/plain": [
              "29.999947475788705"
            ]
          },
          "metadata": {},
          "execution_count": 12
        }
      ]
    },
    {
      "cell_type": "code",
      "source": [
        "lr = 0.2\n",
        "e =[]\n",
        "for epoch in range(5):\n",
        "  y_pred=w1*x1+w2*x2\n",
        "  error = (y-y_pred)**2\n",
        "  e.append(error)\n",
        "\n",
        "  print(\"Epoch =\", epoch, '==>w1', w1, '==>w2', w2, \"error=\",error)\n",
        "  dew1=2*(y-y_pred)*(-x1)\n",
        "  dew2=2*(y-y_pred)*(-x2)\n",
        "\n",
        "  w1=w1-lr*dew1\n",
        "  w2=w2-lr*dew2"
      ],
      "metadata": {
        "colab": {
          "base_uri": "https://localhost:8080/"
        },
        "id": "w6k7sn8jJjkf",
        "outputId": "9c55f296-678f-4279-e763-405436b1e404"
      },
      "execution_count": null,
      "outputs": [
        {
          "output_type": "stream",
          "name": "stdout",
          "text": [
            "Epoch = 0 ==>w1 2.2827972854638405 ==>w2 3.097660174744917 error= 0.0\n",
            "Epoch = 1 ==>w1 2.2827972854638405 ==>w2 3.097660174744917 error= 0.0\n",
            "Epoch = 2 ==>w1 2.2827972854638405 ==>w2 3.097660174744917 error= 0.0\n",
            "Epoch = 3 ==>w1 2.2827972854638405 ==>w2 3.097660174744917 error= 0.0\n",
            "Epoch = 4 ==>w1 2.2827972854638405 ==>w2 3.097660174744917 error= 0.0\n"
          ]
        }
      ]
    },
    {
      "cell_type": "code",
      "source": [
        "print(w1,w2,error)"
      ],
      "metadata": {
        "colab": {
          "base_uri": "https://localhost:8080/"
        },
        "id": "QTuTsqzSKiqY",
        "outputId": "1805eacc-7cd1-4a6c-998c-b5ee0d89167b"
      },
      "execution_count": null,
      "outputs": [
        {
          "output_type": "stream",
          "name": "stdout",
          "text": [
            "2.2827972854638405 3.097660174744917 0.0\n"
          ]
        }
      ]
    },
    {
      "cell_type": "code",
      "source": [
        "y=w1*x2+w2*x2\n",
        "y"
      ],
      "metadata": {
        "colab": {
          "base_uri": "https://localhost:8080/"
        },
        "id": "kh6Xr_XfJ0SP",
        "outputId": "de800e6e-0847-47bb-d344-bcb0361b4d18"
      },
      "execution_count": null,
      "outputs": [
        {
          "output_type": "execute_result",
          "data": {
            "text/plain": [
              "32.282744761252545"
            ]
          },
          "metadata": {},
          "execution_count": 15
        }
      ]
    },
    {
      "cell_type": "code",
      "source": [
        "plt.plot(epoch)\n",
        "plt.plot(e)\n",
        "plt.xlabel('epoch')\n",
        "plt.ylabel('error/loss')\n",
        "plt.show()"
      ],
      "metadata": {
        "colab": {
          "base_uri": "https://localhost:8080/",
          "height": 283
        },
        "id": "igJRN5UnKDHm",
        "outputId": "88e8d199-fbd3-4dcf-a9ab-d7eef54850a5"
      },
      "execution_count": null,
      "outputs": [
        {
          "output_type": "display_data",
          "data": {
            "text/plain": [
              "<Figure size 432x288 with 1 Axes>"
            ],
            "image/png": "[encoded data removed]"
          },
          "metadata": {
            "needs_background": "light"
          }
        }
      ]
    },
    {
      "cell_type": "markdown",
      "source": [
        "Keras & Tensorflow\n",
        "\n",
        "Sequential API &\n",
        "Functional API"
      ],
      "metadata": {
        "id": "W4G9hATrPayS"
      }
    },
    {
      "cell_type": "code",
      "source": [
        "!pip install tensorflow"
      ],
      "metadata": {
        "colab": {
          "base_uri": "https://localhost:8080/"
        },
        "id": "1MWXf54qPntT",
        "outputId": "73ea11d0-f172-4fb6-8276-13238a8e07e9"
      },
      "execution_count": null,
      "outputs": [
        {
          "output_type": "stream",
          "name": "stdout",
          "text": [
            "Looking in indexes: https://pypi.org/simple, https://us-python.pkg.dev/colab-wheels/public/simple/\n",
            "Requirement already satisfied: tensorflow in /usr/local/lib/python3.7/dist-packages (2.9.2)\n",
            "Requirement already satisfied: tensorflow-estimator<2.10.0,>=2.9.0rc0 in /usr/local/lib/python3.7/dist-packages (from tensorflow) (2.9.0)\n",
            "Requirement already satisfied: h5py>=2.9.0 in /usr/local/lib/python3.7/dist-packages (from tensorflow) (3.1.0)\n",
            "Requirement already satisfied: wrapt>=1.11.0 in /usr/local/lib/python3.7/dist-packages (from tensorflow) (1.14.1)\n",
            "Requirement already satisfied: keras<2.10.0,>=2.9.0rc0 in /usr/local/lib/python3.7/dist-packages (from tensorflow) (2.9.0)\n",
            "Requirement already satisfied: astunparse>=1.6.0 in /usr/local/lib/python3.7/dist-packages (from tensorflow) (1.6.3)\n",
            "Requirement already satisfied: gast<=0.4.0,>=0.2.1 in /usr/local/lib/python3.7/dist-packages (from tensorflow) (0.4.0)\n",
            "Requirement already satisfied: absl-py>=1.0.0 in /usr/local/lib/python3.7/dist-packages (from tensorflow) (1.3.0)\n",
            "Requirement already satisfied: tensorboard<2.10,>=2.9 in /usr/local/lib/python3.7/dist-packages (from tensorflow) (2.9.1)\n",
            "Requirement already satisfied: google-pasta>=0.1.1 in /usr/local/lib/python3.7/dist-packages (from tensorflow) (0.2.0)\n",
            "Requirement already satisfied: tensorflow-io-gcs-filesystem>=0.23.1 in /usr/local/lib/python3.7/dist-packages (from tensorflow) (0.27.0)\n",
            "Requirement already satisfied: termcolor>=1.1.0 in /usr/local/lib/python3.7/dist-packages (from tensorflow) (2.1.0)\n",
            "Requirement already satisfied: flatbuffers<2,>=1.12 in /usr/local/lib/python3.7/dist-packages (from tensorflow) (1.12)\n",
            "Requirement already satisfied: numpy>=1.20 in /usr/local/lib/python3.7/dist-packages (from tensorflow) (1.21.6)\n",
            "Requirement already satisfied: keras-preprocessing>=1.1.1 in /usr/local/lib/python3.7/dist-packages (from tensorflow) (1.1.2)\n",
            "Requirement already satisfied: opt-einsum>=2.3.2 in /usr/local/lib/python3.7/dist-packages (from tensorflow) (3.3.0)\n",
            "Requirement already satisfied: libclang>=13.0.0 in /usr/local/lib/python3.7/dist-packages (from tensorflow) (14.0.6)\n",
            "Requirement already satisfied: six>=1.12.0 in /usr/local/lib/python3.7/dist-packages (from tensorflow) (1.15.0)\n",
            "Requirement already satisfied: packaging in /usr/local/lib/python3.7/dist-packages (from tensorflow) (21.3)\n",
            "Requirement already satisfied: typing-extensions>=3.6.6 in /usr/local/lib/python3.7/dist-packages (from tensorflow) (4.1.1)\n",
            "Requirement already satisfied: protobuf<3.20,>=3.9.2 in /usr/local/lib/python3.7/dist-packages (from tensorflow) (3.17.3)\n",
            "Requirement already satisfied: setuptools in /usr/local/lib/python3.7/dist-packages (from tensorflow) (57.4.0)\n",
            "Requirement already satisfied: grpcio<2.0,>=1.24.3 in /usr/local/lib/python3.7/dist-packages (from tensorflow) (1.50.0)\n",
            "Requirement already satisfied: wheel<1.0,>=0.23.0 in /usr/local/lib/python3.7/dist-packages (from astunparse>=1.6.0->tensorflow) (0.38.1)\n",
            "Requirement already satisfied: cached-property in /usr/local/lib/python3.7/dist-packages (from h5py>=2.9.0->tensorflow) (1.5.2)\n",
            "Requirement already satisfied: google-auth<3,>=1.6.3 in /usr/local/lib/python3.7/dist-packages (from tensorboard<2.10,>=2.9->tensorflow) (1.35.0)\n",
            "Requirement already satisfied: markdown>=2.6.8 in /usr/local/lib/python3.7/dist-packages (from tensorboard<2.10,>=2.9->tensorflow) (3.4.1)\n",
            "Requirement already satisfied: requests<3,>=2.21.0 in /usr/local/lib/python3.7/dist-packages (from tensorboard<2.10,>=2.9->tensorflow) (2.23.0)\n",
            "Requirement already satisfied: tensorboard-plugin-wit>=1.6.0 in /usr/local/lib/python3.7/dist-packages (from tensorboard<2.10,>=2.9->tensorflow) (1.8.1)\n",
            "Requirement already satisfied: werkzeug>=1.0.1 in /usr/local/lib/python3.7/dist-packages (from tensorboard<2.10,>=2.9->tensorflow) (1.0.1)\n",
            "Requirement already satisfied: google-auth-oauthlib<0.5,>=0.4.1 in /usr/local/lib/python3.7/dist-packages (from tensorboard<2.10,>=2.9->tensorflow) (0.4.6)\n",
            "Requirement already satisfied: tensorboard-data-server<0.7.0,>=0.6.0 in /usr/local/lib/python3.7/dist-packages (from tensorboard<2.10,>=2.9->tensorflow) (0.6.1)\n",
            "Requirement already satisfied: rsa<5,>=3.1.4 in /usr/local/lib/python3.7/dist-packages (from google-auth<3,>=1.6.3->tensorboard<2.10,>=2.9->tensorflow) (4.9)\n",
            "Requirement already satisfied: cachetools<5.0,>=2.0.0 in /usr/local/lib/python3.7/dist-packages (from google-auth<3,>=1.6.3->tensorboard<2.10,>=2.9->tensorflow) (4.2.4)\n",
            "Requirement already satisfied: pyasn1-modules>=0.2.1 in /usr/local/lib/python3.7/dist-packages (from google-auth<3,>=1.6.3->tensorboard<2.10,>=2.9->tensorflow) (0.2.8)\n",
            "Requirement already satisfied: requests-oauthlib>=0.7.0 in /usr/local/lib/python3.7/dist-packages (from google-auth-oauthlib<0.5,>=0.4.1->tensorboard<2.10,>=2.9->tensorflow) (1.3.1)\n",
            "Requirement already satisfied: importlib-metadata>=4.4 in /usr/local/lib/python3.7/dist-packages (from markdown>=2.6.8->tensorboard<2.10,>=2.9->tensorflow) (4.13.0)\n",
            "Requirement already satisfied: zipp>=0.5 in /usr/local/lib/python3.7/dist-packages (from importlib-metadata>=4.4->markdown>=2.6.8->tensorboard<2.10,>=2.9->tensorflow) (3.10.0)\n",
            "Requirement already satisfied: pyasn1<0.5.0,>=0.4.6 in /usr/local/lib/python3.7/dist-packages (from pyasn1-modules>=0.2.1->google-auth<3,>=1.6.3->tensorboard<2.10,>=2.9->tensorflow) (0.4.8)\n",
            "Requirement already satisfied: urllib3!=1.25.0,!=1.25.1,<1.26,>=1.21.1 in /usr/local/lib/python3.7/dist-packages (from requests<3,>=2.21.0->tensorboard<2.10,>=2.9->tensorflow) (1.24.3)\n",
            "Requirement already satisfied: idna<3,>=2.5 in /usr/local/lib/python3.7/dist-packages (from requests<3,>=2.21.0->tensorboard<2.10,>=2.9->tensorflow) (2.10)\n",
            "Requirement already satisfied: certifi>=2017.4.17 in /usr/local/lib/python3.7/dist-packages (from requests<3,>=2.21.0->tensorboard<2.10,>=2.9->tensorflow) (2022.9.24)\n",
            "Requirement already satisfied: chardet<4,>=3.0.2 in /usr/local/lib/python3.7/dist-packages (from requests<3,>=2.21.0->tensorboard<2.10,>=2.9->tensorflow) (3.0.4)\n",
            "Requirement already satisfied: oauthlib>=3.0.0 in /usr/local/lib/python3.7/dist-packages (from requests-oauthlib>=0.7.0->google-auth-oauthlib<0.5,>=0.4.1->tensorboard<2.10,>=2.9->tensorflow) (3.2.2)\n",
            "Requirement already satisfied: pyparsing!=3.0.5,>=2.0.2 in /usr/local/lib/python3.7/dist-packages (from packaging->tensorflow) (3.0.9)\n"
          ]
        }
      ]
    },
    {
      "cell_type": "code",
      "source": [],
      "metadata": {
        "id": "g0nxlSYqRXIj"
      },
      "execution_count": null,
      "outputs": []
    }
  ]
}