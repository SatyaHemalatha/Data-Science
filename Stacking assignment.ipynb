{
  "nbformat": 4,
  "nbformat_minor": 0,
  "metadata": {
    "colab": {
      "provenance": [],
      "collapsed_sections": []
    },
    "kernelspec": {
      "name": "python3",
      "display_name": "Python 3"
    },
    "language_info": {
      "name": "python"
    }
  },
  "cells": [
    {
      "cell_type": "code",
      "source": [
        "from google.colab import drive\n",
        "drive.mount('/content/gdrive')"
      ],
      "metadata": {
        "colab": {
          "base_uri": "https://localhost:8080/"
        },
        "id": "qFbkQs9daazB",
        "outputId": "c9a86f17-85f4-46e4-fbd6-21a81c6324f3"
      },
      "execution_count": 7,
      "outputs": [
        {
          "output_type": "stream",
          "name": "stdout",
          "text": [
            "Drive already mounted at /content/gdrive; to attempt to forcibly remount, call drive.mount(\"/content/gdrive\", force_remount=True).\n"
          ]
        }
      ]
    },
    {
      "cell_type": "code",
      "source": [
        "import os\n",
        "path=('/content/gdrive/MyDrive/Colab Notebooks')\n",
        "os.chdir(path)"
      ],
      "metadata": {
        "id": "3rOnRJ0cakPq"
      },
      "execution_count": 8,
      "outputs": []
    },
    {
      "cell_type": "code",
      "execution_count": 9,
      "metadata": {
        "id": "gu8CoCWoaBMd"
      },
      "outputs": [],
      "source": [
        "#to read the data\n",
        "import pandas as pd\n",
        "import numpy as np\n",
        "#for data preprocessing\n",
        "from sklearn.impute import SimpleImputer\n",
        "from sklearn.preprocessing import OneHotEncoder,StandardScaler\n",
        "# for modelling\n",
        "from sklearn.model_selection import train_test_split,GridSearchCV\n",
        "from sklearn.svm import SVC,SVR\n",
        "# Performance Metrics\n",
        "from sklearn.metrics import confusion_matrix,classification_report\n",
        "import matplotlib.pyplot as plt \n",
        "from sklearn.naive_bayes import GaussianNB\n",
        "from sklearn.tree import DecisionTreeClassifier\n",
        "from sklearn.linear_model import LogisticRegression\n",
        "from sklearn.neighbors import KNeighborsClassifier  "
      ]
    },
    {
      "cell_type": "code",
      "source": [
        "data=pd.read_excel('HR Attrition.xlsx')"
      ],
      "metadata": {
        "id": "3wZ4zOXAa9iF"
      },
      "execution_count": 10,
      "outputs": []
    },
    {
      "cell_type": "code",
      "source": [
        "data.head(10)"
      ],
      "metadata": {
        "colab": {
          "base_uri": "https://localhost:8080/",
          "height": 612
        },
        "id": "WBDX0u8zcPHx",
        "outputId": "d87b66a0-1deb-4eea-8040-30d93690a99f"
      },
      "execution_count": 11,
      "outputs": [
        {
          "output_type": "execute_result",
          "data": {
            "text/plain": [
              "   Age Attrition     BusinessTravel              Department  DistanceFromHome  \\\n",
              "0   41       Yes      Travel_Rarely                   Sales                 1   \n",
              "1   49        No  Travel_Frequently  Research & Development                 8   \n",
              "2   37       Yes      Travel_Rarely  Research & Development                 2   \n",
              "3   33        No  Travel_Frequently  Research & Development                 3   \n",
              "4   27        No      Travel_Rarely  Research & Development                 2   \n",
              "5   32        No  Travel_Frequently  Research & Development                 2   \n",
              "6   59        No      Travel_Rarely  Research & Development                 3   \n",
              "7   30        No      Travel_Rarely  Research & Development                24   \n",
              "8   38        No  Travel_Frequently  Research & Development                23   \n",
              "9   36        No      Travel_Rarely  Research & Development                27   \n",
              "\n",
              "       Education EducationField  EmployeeNumber EnvironmentSatisfaction  \\\n",
              "0        College  Life Sciences               1                  Medium   \n",
              "1  Below_college  Life Sciences               2                    High   \n",
              "2        College          Other               4               Very high   \n",
              "3         Master  Life Sciences               5               Very high   \n",
              "4  Below_college        Medical               7                     Low   \n",
              "5        College  Life Sciences               8               Very high   \n",
              "6       Bachelor        Medical              10                    High   \n",
              "7  Below_college  Life Sciences              11               Very high   \n",
              "8       Bachelor  Life Sciences              12               Very high   \n",
              "9       Bachelor        Medical              13                    High   \n",
              "\n",
              "   Gender  ... RelationshipSatisfaction  StandardHours StockOptionLevel  \\\n",
              "0  Female  ...                      Low             80                0   \n",
              "1    Male  ...                Very High             80                1   \n",
              "2    Male  ...                   Medium             80                0   \n",
              "3  Female  ...                     High             80                0   \n",
              "4    Male  ...                Very High             80                1   \n",
              "5    Male  ...                     High             80                0   \n",
              "6  Female  ...                      Low             80                3   \n",
              "7    Male  ...                   Medium             80                1   \n",
              "8    Male  ...                   Medium             80                0   \n",
              "9    Male  ...                   Medium             80                2   \n",
              "\n",
              "  TotalWorkingYears TrainingTimesLastYear  WorkLifeBalance  YearsAtCompany  \\\n",
              "0                 8                     0              Bad               6   \n",
              "1                10                     3           Better              10   \n",
              "2                 7                     3           Better               0   \n",
              "3                 8                     3           Better               8   \n",
              "4                 6                     3           Better               2   \n",
              "5                 8                     2             Good               7   \n",
              "6                12                     3             Good               1   \n",
              "7                 1                     2           Better               1   \n",
              "8                10                     2           Better               9   \n",
              "9                17                     3             Good               7   \n",
              "\n",
              "  YearsInCurrentRole YearsSinceLastPromotion  YearsWithCurrManager  \n",
              "0                  4                       0                     5  \n",
              "1                  7                       1                     7  \n",
              "2                  0                       0                     0  \n",
              "3                  7                       3                     0  \n",
              "4                  2                       2                     2  \n",
              "5                  7                       3                     6  \n",
              "6                  0                       0                     0  \n",
              "7                  0                       0                     0  \n",
              "8                  7                       1                     8  \n",
              "9                  7                       7                     7  \n",
              "\n",
              "[10 rows x 31 columns]"
            ],
            "text/html": [
              "\n",
              "  <div id=\"df-cd479ccd-732f-4389-b7f0-91a73d848408\">\n",
              "    <div class=\"colab-df-container\">\n",
              "      <div>\n",
              "<style scoped>\n",
              "    .dataframe tbody tr th:only-of-type {\n",
              "        vertical-align: middle;\n",
              "    }\n",
              "\n",
              "    .dataframe tbody tr th {\n",
              "        vertical-align: top;\n",
              "    }\n",
              "\n",
              "    .dataframe thead th {\n",
              "        text-align: right;\n",
              "    }\n",
              "</style>\n",
              "<table border=\"1\" class=\"dataframe\">\n",
              "  <thead>\n",
              "    <tr style=\"text-align: right;\">\n",
              "      <th></th>\n",
              "      <th>Age</th>\n",
              "      <th>Attrition</th>\n",
              "      <th>BusinessTravel</th>\n",
              "      <th>Department</th>\n",
              "      <th>DistanceFromHome</th>\n",
              "      <th>Education</th>\n",
              "      <th>EducationField</th>\n",
              "      <th>EmployeeNumber</th>\n",
              "      <th>EnvironmentSatisfaction</th>\n",
              "      <th>Gender</th>\n",
              "      <th>...</th>\n",
              "      <th>RelationshipSatisfaction</th>\n",
              "      <th>StandardHours</th>\n",
              "      <th>StockOptionLevel</th>\n",
              "      <th>TotalWorkingYears</th>\n",
              "      <th>TrainingTimesLastYear</th>\n",
              "      <th>WorkLifeBalance</th>\n",
              "      <th>YearsAtCompany</th>\n",
              "      <th>YearsInCurrentRole</th>\n",
              "      <th>YearsSinceLastPromotion</th>\n",
              "      <th>YearsWithCurrManager</th>\n",
              "    </tr>\n",
              "  </thead>\n",
              "  <tbody>\n",
              "    <tr>\n",
              "      <th>0</th>\n",
              "      <td>41</td>\n",
              "      <td>Yes</td>\n",
              "      <td>Travel_Rarely</td>\n",
              "      <td>Sales</td>\n",
              "      <td>1</td>\n",
              "      <td>College</td>\n",
              "      <td>Life Sciences</td>\n",
              "      <td>1</td>\n",
              "      <td>Medium</td>\n",
              "      <td>Female</td>\n",
              "      <td>...</td>\n",
              "      <td>Low</td>\n",
              "      <td>80</td>\n",
              "      <td>0</td>\n",
              "      <td>8</td>\n",
              "      <td>0</td>\n",
              "      <td>Bad</td>\n",
              "      <td>6</td>\n",
              "      <td>4</td>\n",
              "      <td>0</td>\n",
              "      <td>5</td>\n",
              "    </tr>\n",
              "    <tr>\n",
              "      <th>1</th>\n",
              "      <td>49</td>\n",
              "      <td>No</td>\n",
              "      <td>Travel_Frequently</td>\n",
              "      <td>Research &amp; Development</td>\n",
              "      <td>8</td>\n",
              "      <td>Below_college</td>\n",
              "      <td>Life Sciences</td>\n",
              "      <td>2</td>\n",
              "      <td>High</td>\n",
              "      <td>Male</td>\n",
              "      <td>...</td>\n",
              "      <td>Very High</td>\n",
              "      <td>80</td>\n",
              "      <td>1</td>\n",
              "      <td>10</td>\n",
              "      <td>3</td>\n",
              "      <td>Better</td>\n",
              "      <td>10</td>\n",
              "      <td>7</td>\n",
              "      <td>1</td>\n",
              "      <td>7</td>\n",
              "    </tr>\n",
              "    <tr>\n",
              "      <th>2</th>\n",
              "      <td>37</td>\n",
              "      <td>Yes</td>\n",
              "      <td>Travel_Rarely</td>\n",
              "      <td>Research &amp; Development</td>\n",
              "      <td>2</td>\n",
              "      <td>College</td>\n",
              "      <td>Other</td>\n",
              "      <td>4</td>\n",
              "      <td>Very high</td>\n",
              "      <td>Male</td>\n",
              "      <td>...</td>\n",
              "      <td>Medium</td>\n",
              "      <td>80</td>\n",
              "      <td>0</td>\n",
              "      <td>7</td>\n",
              "      <td>3</td>\n",
              "      <td>Better</td>\n",
              "      <td>0</td>\n",
              "      <td>0</td>\n",
              "      <td>0</td>\n",
              "      <td>0</td>\n",
              "    </tr>\n",
              "    <tr>\n",
              "      <th>3</th>\n",
              "      <td>33</td>\n",
              "      <td>No</td>\n",
              "      <td>Travel_Frequently</td>\n",
              "      <td>Research &amp; Development</td>\n",
              "      <td>3</td>\n",
              "      <td>Master</td>\n",
              "      <td>Life Sciences</td>\n",
              "      <td>5</td>\n",
              "      <td>Very high</td>\n",
              "      <td>Female</td>\n",
              "      <td>...</td>\n",
              "      <td>High</td>\n",
              "      <td>80</td>\n",
              "      <td>0</td>\n",
              "      <td>8</td>\n",
              "      <td>3</td>\n",
              "      <td>Better</td>\n",
              "      <td>8</td>\n",
              "      <td>7</td>\n",
              "      <td>3</td>\n",
              "      <td>0</td>\n",
              "    </tr>\n",
              "    <tr>\n",
              "      <th>4</th>\n",
              "      <td>27</td>\n",
              "      <td>No</td>\n",
              "      <td>Travel_Rarely</td>\n",
              "      <td>Research &amp; Development</td>\n",
              "      <td>2</td>\n",
              "      <td>Below_college</td>\n",
              "      <td>Medical</td>\n",
              "      <td>7</td>\n",
              "      <td>Low</td>\n",
              "      <td>Male</td>\n",
              "      <td>...</td>\n",
              "      <td>Very High</td>\n",
              "      <td>80</td>\n",
              "      <td>1</td>\n",
              "      <td>6</td>\n",
              "      <td>3</td>\n",
              "      <td>Better</td>\n",
              "      <td>2</td>\n",
              "      <td>2</td>\n",
              "      <td>2</td>\n",
              "      <td>2</td>\n",
              "    </tr>\n",
              "    <tr>\n",
              "      <th>5</th>\n",
              "      <td>32</td>\n",
              "      <td>No</td>\n",
              "      <td>Travel_Frequently</td>\n",
              "      <td>Research &amp; Development</td>\n",
              "      <td>2</td>\n",
              "      <td>College</td>\n",
              "      <td>Life Sciences</td>\n",
              "      <td>8</td>\n",
              "      <td>Very high</td>\n",
              "      <td>Male</td>\n",
              "      <td>...</td>\n",
              "      <td>High</td>\n",
              "      <td>80</td>\n",
              "      <td>0</td>\n",
              "      <td>8</td>\n",
              "      <td>2</td>\n",
              "      <td>Good</td>\n",
              "      <td>7</td>\n",
              "      <td>7</td>\n",
              "      <td>3</td>\n",
              "      <td>6</td>\n",
              "    </tr>\n",
              "    <tr>\n",
              "      <th>6</th>\n",
              "      <td>59</td>\n",
              "      <td>No</td>\n",
              "      <td>Travel_Rarely</td>\n",
              "      <td>Research &amp; Development</td>\n",
              "      <td>3</td>\n",
              "      <td>Bachelor</td>\n",
              "      <td>Medical</td>\n",
              "      <td>10</td>\n",
              "      <td>High</td>\n",
              "      <td>Female</td>\n",
              "      <td>...</td>\n",
              "      <td>Low</td>\n",
              "      <td>80</td>\n",
              "      <td>3</td>\n",
              "      <td>12</td>\n",
              "      <td>3</td>\n",
              "      <td>Good</td>\n",
              "      <td>1</td>\n",
              "      <td>0</td>\n",
              "      <td>0</td>\n",
              "      <td>0</td>\n",
              "    </tr>\n",
              "    <tr>\n",
              "      <th>7</th>\n",
              "      <td>30</td>\n",
              "      <td>No</td>\n",
              "      <td>Travel_Rarely</td>\n",
              "      <td>Research &amp; Development</td>\n",
              "      <td>24</td>\n",
              "      <td>Below_college</td>\n",
              "      <td>Life Sciences</td>\n",
              "      <td>11</td>\n",
              "      <td>Very high</td>\n",
              "      <td>Male</td>\n",
              "      <td>...</td>\n",
              "      <td>Medium</td>\n",
              "      <td>80</td>\n",
              "      <td>1</td>\n",
              "      <td>1</td>\n",
              "      <td>2</td>\n",
              "      <td>Better</td>\n",
              "      <td>1</td>\n",
              "      <td>0</td>\n",
              "      <td>0</td>\n",
              "      <td>0</td>\n",
              "    </tr>\n",
              "    <tr>\n",
              "      <th>8</th>\n",
              "      <td>38</td>\n",
              "      <td>No</td>\n",
              "      <td>Travel_Frequently</td>\n",
              "      <td>Research &amp; Development</td>\n",
              "      <td>23</td>\n",
              "      <td>Bachelor</td>\n",
              "      <td>Life Sciences</td>\n",
              "      <td>12</td>\n",
              "      <td>Very high</td>\n",
              "      <td>Male</td>\n",
              "      <td>...</td>\n",
              "      <td>Medium</td>\n",
              "      <td>80</td>\n",
              "      <td>0</td>\n",
              "      <td>10</td>\n",
              "      <td>2</td>\n",
              "      <td>Better</td>\n",
              "      <td>9</td>\n",
              "      <td>7</td>\n",
              "      <td>1</td>\n",
              "      <td>8</td>\n",
              "    </tr>\n",
              "    <tr>\n",
              "      <th>9</th>\n",
              "      <td>36</td>\n",
              "      <td>No</td>\n",
              "      <td>Travel_Rarely</td>\n",
              "      <td>Research &amp; Development</td>\n",
              "      <td>27</td>\n",
              "      <td>Bachelor</td>\n",
              "      <td>Medical</td>\n",
              "      <td>13</td>\n",
              "      <td>High</td>\n",
              "      <td>Male</td>\n",
              "      <td>...</td>\n",
              "      <td>Medium</td>\n",
              "      <td>80</td>\n",
              "      <td>2</td>\n",
              "      <td>17</td>\n",
              "      <td>3</td>\n",
              "      <td>Good</td>\n",
              "      <td>7</td>\n",
              "      <td>7</td>\n",
              "      <td>7</td>\n",
              "      <td>7</td>\n",
              "    </tr>\n",
              "  </tbody>\n",
              "</table>\n",
              "<p>10 rows × 31 columns</p>\n",
              "</div>\n",
              "      <button class=\"colab-df-convert\" onclick=\"convertToInteractive('df-cd479ccd-732f-4389-b7f0-91a73d848408')\"\n",
              "              title=\"Convert this dataframe to an interactive table.\"\n",
              "              style=\"display:none;\">\n",
              "        \n",
              "  <svg xmlns=\"http://www.w3.org/2000/svg\" height=\"24px\"viewBox=\"0 0 24 24\"\n",
              "       width=\"24px\">\n",
              "    <path d=\"M0 0h24v24H0V0z\" fill=\"none\"/>\n",
              "    <path d=\"M18.56 5.44l.94 2.06.94-2.06 2.06-.94-2.06-.94-.94-2.06-.94 2.06-2.06.94zm-11 1L8.5 8.5l.94-2.06 2.06-.94-2.06-.94L8.5 2.5l-.94 2.06-2.06.94zm10 10l.94 2.06.94-2.06 2.06-.94-2.06-.94-.94-2.06-.94 2.06-2.06.94z\"/><path d=\"M17.41 7.96l-1.37-1.37c-.4-.4-.92-.59-1.43-.59-.52 0-1.04.2-1.43.59L10.3 9.45l-7.72 7.72c-.78.78-.78 2.05 0 2.83L4 21.41c.39.39.9.59 1.41.59.51 0 1.02-.2 1.41-.59l7.78-7.78 2.81-2.81c.8-.78.8-2.07 0-2.86zM5.41 20L4 18.59l7.72-7.72 1.47 1.35L5.41 20z\"/>\n",
              "  </svg>\n",
              "      </button>\n",
              "      \n",
              "  <style>\n",
              "    .colab-df-container {\n",
              "      display:flex;\n",
              "      flex-wrap:wrap;\n",
              "      gap: 12px;\n",
              "    }\n",
              "\n",
              "    .colab-df-convert {\n",
              "      background-color: #E8F0FE;\n",
              "      border: none;\n",
              "      border-radius: 50%;\n",
              "      cursor: pointer;\n",
              "      display: none;\n",
              "      fill: #1967D2;\n",
              "      height: 32px;\n",
              "      padding: 0 0 0 0;\n",
              "      width: 32px;\n",
              "    }\n",
              "\n",
              "    .colab-df-convert:hover {\n",
              "      background-color: #E2EBFA;\n",
              "      box-shadow: 0px 1px 2px rgba(60, 64, 67, 0.3), 0px 1px 3px 1px rgba(60, 64, 67, 0.15);\n",
              "      fill: #174EA6;\n",
              "    }\n",
              "\n",
              "    [theme=dark] .colab-df-convert {\n",
              "      background-color: #3B4455;\n",
              "      fill: #D2E3FC;\n",
              "    }\n",
              "\n",
              "    [theme=dark] .colab-df-convert:hover {\n",
              "      background-color: #434B5C;\n",
              "      box-shadow: 0px 1px 3px 1px rgba(0, 0, 0, 0.15);\n",
              "      filter: drop-shadow(0px 1px 2px rgba(0, 0, 0, 0.3));\n",
              "      fill: #FFFFFF;\n",
              "    }\n",
              "  </style>\n",
              "\n",
              "      <script>\n",
              "        const buttonEl =\n",
              "          document.querySelector('#df-cd479ccd-732f-4389-b7f0-91a73d848408 button.colab-df-convert');\n",
              "        buttonEl.style.display =\n",
              "          google.colab.kernel.accessAllowed ? 'block' : 'none';\n",
              "\n",
              "        async function convertToInteractive(key) {\n",
              "          const element = document.querySelector('#df-cd479ccd-732f-4389-b7f0-91a73d848408');\n",
              "          const dataTable =\n",
              "            await google.colab.kernel.invokeFunction('convertToInteractive',\n",
              "                                                     [key], {});\n",
              "          if (!dataTable) return;\n",
              "\n",
              "          const docLinkHtml = 'Like what you see? Visit the ' +\n",
              "            '<a target=\"_blank\" href=https://colab.research.google.com/notebooks/data_table.ipynb>data table notebook</a>'\n",
              "            + ' to learn more about interactive tables.';\n",
              "          element.innerHTML = '';\n",
              "          dataTable['output_type'] = 'display_data';\n",
              "          await google.colab.output.renderOutput(dataTable, element);\n",
              "          const docLink = document.createElement('div');\n",
              "          docLink.innerHTML = docLinkHtml;\n",
              "          element.appendChild(docLink);\n",
              "        }\n",
              "      </script>\n",
              "    </div>\n",
              "  </div>\n",
              "  "
            ]
          },
          "metadata": {},
          "execution_count": 11
        }
      ]
    },
    {
      "cell_type": "code",
      "source": [],
      "metadata": {
        "id": "M8ph7v-b6gP2"
      },
      "execution_count": 11,
      "outputs": []
    },
    {
      "cell_type": "code",
      "source": [
        "data.isnull().sum()"
      ],
      "metadata": {
        "colab": {
          "base_uri": "https://localhost:8080/"
        },
        "id": "cPQlG6Q1cQv3",
        "outputId": "23644112-433e-4479-f126-5152761ca5ea"
      },
      "execution_count": 12,
      "outputs": [
        {
          "output_type": "execute_result",
          "data": {
            "text/plain": [
              "Age                         0\n",
              "Attrition                   0\n",
              "BusinessTravel              0\n",
              "Department                  0\n",
              "DistanceFromHome            0\n",
              "Education                   0\n",
              "EducationField              0\n",
              "EmployeeNumber              0\n",
              "EnvironmentSatisfaction     0\n",
              "Gender                      0\n",
              "JobInvolvement              0\n",
              "JobLevel                    0\n",
              "JobRole                     0\n",
              "JobSatisfaction             0\n",
              "MaritalStatus               0\n",
              "MonthlyIncome               0\n",
              "NumCompaniesWorked          0\n",
              "Over18                      0\n",
              "OverTime                    0\n",
              "PercentSalaryHike           0\n",
              "PerformanceRating           0\n",
              "RelationshipSatisfaction    0\n",
              "StandardHours               0\n",
              "StockOptionLevel            0\n",
              "TotalWorkingYears           0\n",
              "TrainingTimesLastYear       0\n",
              "WorkLifeBalance             0\n",
              "YearsAtCompany              0\n",
              "YearsInCurrentRole          0\n",
              "YearsSinceLastPromotion     0\n",
              "YearsWithCurrManager        0\n",
              "dtype: int64"
            ]
          },
          "metadata": {},
          "execution_count": 12
        }
      ]
    },
    {
      "cell_type": "code",
      "source": [
        "data.dtypes"
      ],
      "metadata": {
        "colab": {
          "base_uri": "https://localhost:8080/"
        },
        "id": "idGWjAPKcYen",
        "outputId": "07d57293-fb78-4321-beb8-520f0657a228"
      },
      "execution_count": 13,
      "outputs": [
        {
          "output_type": "execute_result",
          "data": {
            "text/plain": [
              "Age                          int64\n",
              "Attrition                   object\n",
              "BusinessTravel              object\n",
              "Department                  object\n",
              "DistanceFromHome             int64\n",
              "Education                   object\n",
              "EducationField              object\n",
              "EmployeeNumber               int64\n",
              "EnvironmentSatisfaction     object\n",
              "Gender                      object\n",
              "JobInvolvement              object\n",
              "JobLevel                     int64\n",
              "JobRole                     object\n",
              "JobSatisfaction             object\n",
              "MaritalStatus               object\n",
              "MonthlyIncome                int64\n",
              "NumCompaniesWorked           int64\n",
              "Over18                      object\n",
              "OverTime                    object\n",
              "PercentSalaryHike            int64\n",
              "PerformanceRating           object\n",
              "RelationshipSatisfaction    object\n",
              "StandardHours                int64\n",
              "StockOptionLevel             int64\n",
              "TotalWorkingYears            int64\n",
              "TrainingTimesLastYear        int64\n",
              "WorkLifeBalance             object\n",
              "YearsAtCompany               int64\n",
              "YearsInCurrentRole           int64\n",
              "YearsSinceLastPromotion      int64\n",
              "YearsWithCurrManager         int64\n",
              "dtype: object"
            ]
          },
          "metadata": {},
          "execution_count": 13
        }
      ]
    },
    {
      "cell_type": "code",
      "source": [
        "data.describe(include='all')"
      ],
      "metadata": {
        "colab": {
          "base_uri": "https://localhost:8080/",
          "height": 505
        },
        "id": "TkwcFxfPccFh",
        "outputId": "7e2ef589-a897-49c3-d6d5-e2b502b3eacc"
      },
      "execution_count": 14,
      "outputs": [
        {
          "output_type": "execute_result",
          "data": {
            "text/plain": [
              "                Age Attrition BusinessTravel              Department  \\\n",
              "count   1470.000000      1470           1470                    1470   \n",
              "unique          NaN         2              3                       3   \n",
              "top             NaN        No  Travel_Rarely  Research & Development   \n",
              "freq            NaN      1233           1043                     961   \n",
              "mean      36.923810       NaN            NaN                     NaN   \n",
              "std        9.135373       NaN            NaN                     NaN   \n",
              "min       18.000000       NaN            NaN                     NaN   \n",
              "25%       30.000000       NaN            NaN                     NaN   \n",
              "50%       36.000000       NaN            NaN                     NaN   \n",
              "75%       43.000000       NaN            NaN                     NaN   \n",
              "max       60.000000       NaN            NaN                     NaN   \n",
              "\n",
              "        DistanceFromHome Education EducationField  EmployeeNumber  \\\n",
              "count        1470.000000      1470           1470     1470.000000   \n",
              "unique               NaN         5              6             NaN   \n",
              "top                  NaN  Bachelor  Life Sciences             NaN   \n",
              "freq                 NaN       572            606             NaN   \n",
              "mean            9.192517       NaN            NaN     1024.865306   \n",
              "std             8.106864       NaN            NaN      602.024335   \n",
              "min             1.000000       NaN            NaN        1.000000   \n",
              "25%             2.000000       NaN            NaN      491.250000   \n",
              "50%             7.000000       NaN            NaN     1020.500000   \n",
              "75%            14.000000       NaN            NaN     1555.750000   \n",
              "max            29.000000       NaN            NaN     2068.000000   \n",
              "\n",
              "       EnvironmentSatisfaction Gender  ... RelationshipSatisfaction  \\\n",
              "count                     1470   1470  ...                     1470   \n",
              "unique                       4      2  ...                        4   \n",
              "top                       High   Male  ...                     High   \n",
              "freq                       453    882  ...                      459   \n",
              "mean                       NaN    NaN  ...                      NaN   \n",
              "std                        NaN    NaN  ...                      NaN   \n",
              "min                        NaN    NaN  ...                      NaN   \n",
              "25%                        NaN    NaN  ...                      NaN   \n",
              "50%                        NaN    NaN  ...                      NaN   \n",
              "75%                        NaN    NaN  ...                      NaN   \n",
              "max                        NaN    NaN  ...                      NaN   \n",
              "\n",
              "        StandardHours StockOptionLevel TotalWorkingYears  \\\n",
              "count          1470.0      1470.000000       1470.000000   \n",
              "unique            NaN              NaN               NaN   \n",
              "top               NaN              NaN               NaN   \n",
              "freq              NaN              NaN               NaN   \n",
              "mean             80.0         0.793878         11.279592   \n",
              "std               0.0         0.852077          7.780782   \n",
              "min              80.0         0.000000          0.000000   \n",
              "25%              80.0         0.000000          6.000000   \n",
              "50%              80.0         1.000000         10.000000   \n",
              "75%              80.0         1.000000         15.000000   \n",
              "max              80.0         3.000000         40.000000   \n",
              "\n",
              "       TrainingTimesLastYear  WorkLifeBalance  YearsAtCompany  \\\n",
              "count            1470.000000             1470     1470.000000   \n",
              "unique                   NaN                4             NaN   \n",
              "top                      NaN           Better             NaN   \n",
              "freq                     NaN              893             NaN   \n",
              "mean                2.799320              NaN        7.008163   \n",
              "std                 1.289271              NaN        6.126525   \n",
              "min                 0.000000              NaN        0.000000   \n",
              "25%                 2.000000              NaN        3.000000   \n",
              "50%                 3.000000              NaN        5.000000   \n",
              "75%                 3.000000              NaN        9.000000   \n",
              "max                 6.000000              NaN       40.000000   \n",
              "\n",
              "       YearsInCurrentRole YearsSinceLastPromotion  YearsWithCurrManager  \n",
              "count         1470.000000             1470.000000           1470.000000  \n",
              "unique                NaN                     NaN                   NaN  \n",
              "top                   NaN                     NaN                   NaN  \n",
              "freq                  NaN                     NaN                   NaN  \n",
              "mean             4.229252                2.187755              4.123129  \n",
              "std              3.623137                3.222430              3.568136  \n",
              "min              0.000000                0.000000              0.000000  \n",
              "25%              2.000000                0.000000              2.000000  \n",
              "50%              3.000000                1.000000              3.000000  \n",
              "75%              7.000000                3.000000              7.000000  \n",
              "max             18.000000               15.000000             17.000000  \n",
              "\n",
              "[11 rows x 31 columns]"
            ],
            "text/html": [
              "\n",
              "  <div id=\"df-fb9f8f2a-ca4e-44e2-abd3-9907802b6e38\">\n",
              "    <div class=\"colab-df-container\">\n",
              "      <div>\n",
              "<style scoped>\n",
              "    .dataframe tbody tr th:only-of-type {\n",
              "        vertical-align: middle;\n",
              "    }\n",
              "\n",
              "    .dataframe tbody tr th {\n",
              "        vertical-align: top;\n",
              "    }\n",
              "\n",
              "    .dataframe thead th {\n",
              "        text-align: right;\n",
              "    }\n",
              "</style>\n",
              "<table border=\"1\" class=\"dataframe\">\n",
              "  <thead>\n",
              "    <tr style=\"text-align: right;\">\n",
              "      <th></th>\n",
              "      <th>Age</th>\n",
              "      <th>Attrition</th>\n",
              "      <th>BusinessTravel</th>\n",
              "      <th>Department</th>\n",
              "      <th>DistanceFromHome</th>\n",
              "      <th>Education</th>\n",
              "      <th>EducationField</th>\n",
              "      <th>EmployeeNumber</th>\n",
              "      <th>EnvironmentSatisfaction</th>\n",
              "      <th>Gender</th>\n",
              "      <th>...</th>\n",
              "      <th>RelationshipSatisfaction</th>\n",
              "      <th>StandardHours</th>\n",
              "      <th>StockOptionLevel</th>\n",
              "      <th>TotalWorkingYears</th>\n",
              "      <th>TrainingTimesLastYear</th>\n",
              "      <th>WorkLifeBalance</th>\n",
              "      <th>YearsAtCompany</th>\n",
              "      <th>YearsInCurrentRole</th>\n",
              "      <th>YearsSinceLastPromotion</th>\n",
              "      <th>YearsWithCurrManager</th>\n",
              "    </tr>\n",
              "  </thead>\n",
              "  <tbody>\n",
              "    <tr>\n",
              "      <th>count</th>\n",
              "      <td>1470.000000</td>\n",
              "      <td>1470</td>\n",
              "      <td>1470</td>\n",
              "      <td>1470</td>\n",
              "      <td>1470.000000</td>\n",
              "      <td>1470</td>\n",
              "      <td>1470</td>\n",
              "      <td>1470.000000</td>\n",
              "      <td>1470</td>\n",
              "      <td>1470</td>\n",
              "      <td>...</td>\n",
              "      <td>1470</td>\n",
              "      <td>1470.0</td>\n",
              "      <td>1470.000000</td>\n",
              "      <td>1470.000000</td>\n",
              "      <td>1470.000000</td>\n",
              "      <td>1470</td>\n",
              "      <td>1470.000000</td>\n",
              "      <td>1470.000000</td>\n",
              "      <td>1470.000000</td>\n",
              "      <td>1470.000000</td>\n",
              "    </tr>\n",
              "    <tr>\n",
              "      <th>unique</th>\n",
              "      <td>NaN</td>\n",
              "      <td>2</td>\n",
              "      <td>3</td>\n",
              "      <td>3</td>\n",
              "      <td>NaN</td>\n",
              "      <td>5</td>\n",
              "      <td>6</td>\n",
              "      <td>NaN</td>\n",
              "      <td>4</td>\n",
              "      <td>2</td>\n",
              "      <td>...</td>\n",
              "      <td>4</td>\n",
              "      <td>NaN</td>\n",
              "      <td>NaN</td>\n",
              "      <td>NaN</td>\n",
              "      <td>NaN</td>\n",
              "      <td>4</td>\n",
              "      <td>NaN</td>\n",
              "      <td>NaN</td>\n",
              "      <td>NaN</td>\n",
              "      <td>NaN</td>\n",
              "    </tr>\n",
              "    <tr>\n",
              "      <th>top</th>\n",
              "      <td>NaN</td>\n",
              "      <td>No</td>\n",
              "      <td>Travel_Rarely</td>\n",
              "      <td>Research &amp; Development</td>\n",
              "      <td>NaN</td>\n",
              "      <td>Bachelor</td>\n",
              "      <td>Life Sciences</td>\n",
              "      <td>NaN</td>\n",
              "      <td>High</td>\n",
              "      <td>Male</td>\n",
              "      <td>...</td>\n",
              "      <td>High</td>\n",
              "      <td>NaN</td>\n",
              "      <td>NaN</td>\n",
              "      <td>NaN</td>\n",
              "      <td>NaN</td>\n",
              "      <td>Better</td>\n",
              "      <td>NaN</td>\n",
              "      <td>NaN</td>\n",
              "      <td>NaN</td>\n",
              "      <td>NaN</td>\n",
              "    </tr>\n",
              "    <tr>\n",
              "      <th>freq</th>\n",
              "      <td>NaN</td>\n",
              "      <td>1233</td>\n",
              "      <td>1043</td>\n",
              "      <td>961</td>\n",
              "      <td>NaN</td>\n",
              "      <td>572</td>\n",
              "      <td>606</td>\n",
              "      <td>NaN</td>\n",
              "      <td>453</td>\n",
              "      <td>882</td>\n",
              "      <td>...</td>\n",
              "      <td>459</td>\n",
              "      <td>NaN</td>\n",
              "      <td>NaN</td>\n",
              "      <td>NaN</td>\n",
              "      <td>NaN</td>\n",
              "      <td>893</td>\n",
              "      <td>NaN</td>\n",
              "      <td>NaN</td>\n",
              "      <td>NaN</td>\n",
              "      <td>NaN</td>\n",
              "    </tr>\n",
              "    <tr>\n",
              "      <th>mean</th>\n",
              "      <td>36.923810</td>\n",
              "      <td>NaN</td>\n",
              "      <td>NaN</td>\n",
              "      <td>NaN</td>\n",
              "      <td>9.192517</td>\n",
              "      <td>NaN</td>\n",
              "      <td>NaN</td>\n",
              "      <td>1024.865306</td>\n",
              "      <td>NaN</td>\n",
              "      <td>NaN</td>\n",
              "      <td>...</td>\n",
              "      <td>NaN</td>\n",
              "      <td>80.0</td>\n",
              "      <td>0.793878</td>\n",
              "      <td>11.279592</td>\n",
              "      <td>2.799320</td>\n",
              "      <td>NaN</td>\n",
              "      <td>7.008163</td>\n",
              "      <td>4.229252</td>\n",
              "      <td>2.187755</td>\n",
              "      <td>4.123129</td>\n",
              "    </tr>\n",
              "    <tr>\n",
              "      <th>std</th>\n",
              "      <td>9.135373</td>\n",
              "      <td>NaN</td>\n",
              "      <td>NaN</td>\n",
              "      <td>NaN</td>\n",
              "      <td>8.106864</td>\n",
              "      <td>NaN</td>\n",
              "      <td>NaN</td>\n",
              "      <td>602.024335</td>\n",
              "      <td>NaN</td>\n",
              "      <td>NaN</td>\n",
              "      <td>...</td>\n",
              "      <td>NaN</td>\n",
              "      <td>0.0</td>\n",
              "      <td>0.852077</td>\n",
              "      <td>7.780782</td>\n",
              "      <td>1.289271</td>\n",
              "      <td>NaN</td>\n",
              "      <td>6.126525</td>\n",
              "      <td>3.623137</td>\n",
              "      <td>3.222430</td>\n",
              "      <td>3.568136</td>\n",
              "    </tr>\n",
              "    <tr>\n",
              "      <th>min</th>\n",
              "      <td>18.000000</td>\n",
              "      <td>NaN</td>\n",
              "      <td>NaN</td>\n",
              "      <td>NaN</td>\n",
              "      <td>1.000000</td>\n",
              "      <td>NaN</td>\n",
              "      <td>NaN</td>\n",
              "      <td>1.000000</td>\n",
              "      <td>NaN</td>\n",
              "      <td>NaN</td>\n",
              "      <td>...</td>\n",
              "      <td>NaN</td>\n",
              "      <td>80.0</td>\n",
              "      <td>0.000000</td>\n",
              "      <td>0.000000</td>\n",
              "      <td>0.000000</td>\n",
              "      <td>NaN</td>\n",
              "      <td>0.000000</td>\n",
              "      <td>0.000000</td>\n",
              "      <td>0.000000</td>\n",
              "      <td>0.000000</td>\n",
              "    </tr>\n",
              "    <tr>\n",
              "      <th>25%</th>\n",
              "      <td>30.000000</td>\n",
              "      <td>NaN</td>\n",
              "      <td>NaN</td>\n",
              "      <td>NaN</td>\n",
              "      <td>2.000000</td>\n",
              "      <td>NaN</td>\n",
              "      <td>NaN</td>\n",
              "      <td>491.250000</td>\n",
              "      <td>NaN</td>\n",
              "      <td>NaN</td>\n",
              "      <td>...</td>\n",
              "      <td>NaN</td>\n",
              "      <td>80.0</td>\n",
              "      <td>0.000000</td>\n",
              "      <td>6.000000</td>\n",
              "      <td>2.000000</td>\n",
              "      <td>NaN</td>\n",
              "      <td>3.000000</td>\n",
              "      <td>2.000000</td>\n",
              "      <td>0.000000</td>\n",
              "      <td>2.000000</td>\n",
              "    </tr>\n",
              "    <tr>\n",
              "      <th>50%</th>\n",
              "      <td>36.000000</td>\n",
              "      <td>NaN</td>\n",
              "      <td>NaN</td>\n",
              "      <td>NaN</td>\n",
              "      <td>7.000000</td>\n",
              "      <td>NaN</td>\n",
              "      <td>NaN</td>\n",
              "      <td>1020.500000</td>\n",
              "      <td>NaN</td>\n",
              "      <td>NaN</td>\n",
              "      <td>...</td>\n",
              "      <td>NaN</td>\n",
              "      <td>80.0</td>\n",
              "      <td>1.000000</td>\n",
              "      <td>10.000000</td>\n",
              "      <td>3.000000</td>\n",
              "      <td>NaN</td>\n",
              "      <td>5.000000</td>\n",
              "      <td>3.000000</td>\n",
              "      <td>1.000000</td>\n",
              "      <td>3.000000</td>\n",
              "    </tr>\n",
              "    <tr>\n",
              "      <th>75%</th>\n",
              "      <td>43.000000</td>\n",
              "      <td>NaN</td>\n",
              "      <td>NaN</td>\n",
              "      <td>NaN</td>\n",
              "      <td>14.000000</td>\n",
              "      <td>NaN</td>\n",
              "      <td>NaN</td>\n",
              "      <td>1555.750000</td>\n",
              "      <td>NaN</td>\n",
              "      <td>NaN</td>\n",
              "      <td>...</td>\n",
              "      <td>NaN</td>\n",
              "      <td>80.0</td>\n",
              "      <td>1.000000</td>\n",
              "      <td>15.000000</td>\n",
              "      <td>3.000000</td>\n",
              "      <td>NaN</td>\n",
              "      <td>9.000000</td>\n",
              "      <td>7.000000</td>\n",
              "      <td>3.000000</td>\n",
              "      <td>7.000000</td>\n",
              "    </tr>\n",
              "    <tr>\n",
              "      <th>max</th>\n",
              "      <td>60.000000</td>\n",
              "      <td>NaN</td>\n",
              "      <td>NaN</td>\n",
              "      <td>NaN</td>\n",
              "      <td>29.000000</td>\n",
              "      <td>NaN</td>\n",
              "      <td>NaN</td>\n",
              "      <td>2068.000000</td>\n",
              "      <td>NaN</td>\n",
              "      <td>NaN</td>\n",
              "      <td>...</td>\n",
              "      <td>NaN</td>\n",
              "      <td>80.0</td>\n",
              "      <td>3.000000</td>\n",
              "      <td>40.000000</td>\n",
              "      <td>6.000000</td>\n",
              "      <td>NaN</td>\n",
              "      <td>40.000000</td>\n",
              "      <td>18.000000</td>\n",
              "      <td>15.000000</td>\n",
              "      <td>17.000000</td>\n",
              "    </tr>\n",
              "  </tbody>\n",
              "</table>\n",
              "<p>11 rows × 31 columns</p>\n",
              "</div>\n",
              "      <button class=\"colab-df-convert\" onclick=\"convertToInteractive('df-fb9f8f2a-ca4e-44e2-abd3-9907802b6e38')\"\n",
              "              title=\"Convert this dataframe to an interactive table.\"\n",
              "              style=\"display:none;\">\n",
              "        \n",
              "  <svg xmlns=\"http://www.w3.org/2000/svg\" height=\"24px\"viewBox=\"0 0 24 24\"\n",
              "       width=\"24px\">\n",
              "    <path d=\"M0 0h24v24H0V0z\" fill=\"none\"/>\n",
              "    <path d=\"M18.56 5.44l.94 2.06.94-2.06 2.06-.94-2.06-.94-.94-2.06-.94 2.06-2.06.94zm-11 1L8.5 8.5l.94-2.06 2.06-.94-2.06-.94L8.5 2.5l-.94 2.06-2.06.94zm10 10l.94 2.06.94-2.06 2.06-.94-2.06-.94-.94-2.06-.94 2.06-2.06.94z\"/><path d=\"M17.41 7.96l-1.37-1.37c-.4-.4-.92-.59-1.43-.59-.52 0-1.04.2-1.43.59L10.3 9.45l-7.72 7.72c-.78.78-.78 2.05 0 2.83L4 21.41c.39.39.9.59 1.41.59.51 0 1.02-.2 1.41-.59l7.78-7.78 2.81-2.81c.8-.78.8-2.07 0-2.86zM5.41 20L4 18.59l7.72-7.72 1.47 1.35L5.41 20z\"/>\n",
              "  </svg>\n",
              "      </button>\n",
              "      \n",
              "  <style>\n",
              "    .colab-df-container {\n",
              "      display:flex;\n",
              "      flex-wrap:wrap;\n",
              "      gap: 12px;\n",
              "    }\n",
              "\n",
              "    .colab-df-convert {\n",
              "      background-color: #E8F0FE;\n",
              "      border: none;\n",
              "      border-radius: 50%;\n",
              "      cursor: pointer;\n",
              "      display: none;\n",
              "      fill: #1967D2;\n",
              "      height: 32px;\n",
              "      padding: 0 0 0 0;\n",
              "      width: 32px;\n",
              "    }\n",
              "\n",
              "    .colab-df-convert:hover {\n",
              "      background-color: #E2EBFA;\n",
              "      box-shadow: 0px 1px 2px rgba(60, 64, 67, 0.3), 0px 1px 3px 1px rgba(60, 64, 67, 0.15);\n",
              "      fill: #174EA6;\n",
              "    }\n",
              "\n",
              "    [theme=dark] .colab-df-convert {\n",
              "      background-color: #3B4455;\n",
              "      fill: #D2E3FC;\n",
              "    }\n",
              "\n",
              "    [theme=dark] .colab-df-convert:hover {\n",
              "      background-color: #434B5C;\n",
              "      box-shadow: 0px 1px 3px 1px rgba(0, 0, 0, 0.15);\n",
              "      filter: drop-shadow(0px 1px 2px rgba(0, 0, 0, 0.3));\n",
              "      fill: #FFFFFF;\n",
              "    }\n",
              "  </style>\n",
              "\n",
              "      <script>\n",
              "        const buttonEl =\n",
              "          document.querySelector('#df-fb9f8f2a-ca4e-44e2-abd3-9907802b6e38 button.colab-df-convert');\n",
              "        buttonEl.style.display =\n",
              "          google.colab.kernel.accessAllowed ? 'block' : 'none';\n",
              "\n",
              "        async function convertToInteractive(key) {\n",
              "          const element = document.querySelector('#df-fb9f8f2a-ca4e-44e2-abd3-9907802b6e38');\n",
              "          const dataTable =\n",
              "            await google.colab.kernel.invokeFunction('convertToInteractive',\n",
              "                                                     [key], {});\n",
              "          if (!dataTable) return;\n",
              "\n",
              "          const docLinkHtml = 'Like what you see? Visit the ' +\n",
              "            '<a target=\"_blank\" href=https://colab.research.google.com/notebooks/data_table.ipynb>data table notebook</a>'\n",
              "            + ' to learn more about interactive tables.';\n",
              "          element.innerHTML = '';\n",
              "          dataTable['output_type'] = 'display_data';\n",
              "          await google.colab.output.renderOutput(dataTable, element);\n",
              "          const docLink = document.createElement('div');\n",
              "          docLink.innerHTML = docLinkHtml;\n",
              "          element.appendChild(docLink);\n",
              "        }\n",
              "      </script>\n",
              "    </div>\n",
              "  </div>\n",
              "  "
            ]
          },
          "metadata": {},
          "execution_count": 14
        }
      ]
    },
    {
      "cell_type": "code",
      "source": [
        "# Train Test Split\n",
        "X_train,X_test,y_train,y_test=train_test_split(data.loc[:,data.columns!='Attrition'],data['Attrition'],test_size=0.10,random_state=100)"
      ],
      "metadata": {
        "id": "DRBJU7MFdcC1"
      },
      "execution_count": 15,
      "outputs": []
    },
    {
      "cell_type": "code",
      "source": [],
      "metadata": {
        "id": "G_i0Uts2C_n6"
      },
      "execution_count": 15,
      "outputs": []
    },
    {
      "cell_type": "code",
      "source": [
        "X_train.shape"
      ],
      "metadata": {
        "colab": {
          "base_uri": "https://localhost:8080/"
        },
        "id": "JCAUKoWdeT9j",
        "outputId": "5f606a42-b29a-4c88-a151-00fe6e094bed"
      },
      "execution_count": 16,
      "outputs": [
        {
          "output_type": "execute_result",
          "data": {
            "text/plain": [
              "(1323, 30)"
            ]
          },
          "metadata": {},
          "execution_count": 16
        }
      ]
    },
    {
      "cell_type": "code",
      "source": [
        "y_train.shape\n"
      ],
      "metadata": {
        "colab": {
          "base_uri": "https://localhost:8080/"
        },
        "id": "cFDsYtY_eWv4",
        "outputId": "e6afc55a-5b52-4f72-ed33-fb8b2d338959"
      },
      "execution_count": 17,
      "outputs": [
        {
          "output_type": "execute_result",
          "data": {
            "text/plain": [
              "(1323,)"
            ]
          },
          "metadata": {},
          "execution_count": 17
        }
      ]
    },
    {
      "cell_type": "code",
      "source": [
        "y_test.shape"
      ],
      "metadata": {
        "colab": {
          "base_uri": "https://localhost:8080/"
        },
        "id": "zURxbYUaeaZA",
        "outputId": "c6413966-bf23-49ea-b7df-7dcbc04e9ed2"
      },
      "execution_count": 18,
      "outputs": [
        {
          "output_type": "execute_result",
          "data": {
            "text/plain": [
              "(147,)"
            ]
          },
          "metadata": {},
          "execution_count": 18
        }
      ]
    },
    {
      "cell_type": "code",
      "source": [
        "y_train.value_counts(normalize=True)*100"
      ],
      "metadata": {
        "colab": {
          "base_uri": "https://localhost:8080/"
        },
        "id": "Xrrcq_W6ecpA",
        "outputId": "3f92779c-984c-44fd-faa0-e57befc6f5ed"
      },
      "execution_count": 19,
      "outputs": [
        {
          "output_type": "execute_result",
          "data": {
            "text/plain": [
              "No     83.749055\n",
              "Yes    16.250945\n",
              "Name: Attrition, dtype: float64"
            ]
          },
          "metadata": {},
          "execution_count": 19
        }
      ]
    },
    {
      "cell_type": "code",
      "source": [
        "y_train.value_counts()"
      ],
      "metadata": {
        "colab": {
          "base_uri": "https://localhost:8080/"
        },
        "id": "qCqKntvFoq_Z",
        "outputId": "2080af67-38cf-429a-d2db-f3e0f95aa040"
      },
      "execution_count": 20,
      "outputs": [
        {
          "output_type": "execute_result",
          "data": {
            "text/plain": [
              "No     1108\n",
              "Yes     215\n",
              "Name: Attrition, dtype: int64"
            ]
          },
          "metadata": {},
          "execution_count": 20
        }
      ]
    },
    {
      "cell_type": "code",
      "source": [
        "y_train.value_counts().plot(kind='bar')\n"
      ],
      "metadata": {
        "colab": {
          "base_uri": "https://localhost:8080/",
          "height": 288
        },
        "id": "FGz6ymttoEvC",
        "outputId": "1786648b-5d33-4806-834a-694bf0b97a1a"
      },
      "execution_count": 21,
      "outputs": [
        {
          "output_type": "execute_result",
          "data": {
            "text/plain": [
              "<matplotlib.axes._subplots.AxesSubplot at 0x7f5b4bc9a590>"
            ]
          },
          "metadata": {},
          "execution_count": 21
        },
        {
          "output_type": "display_data",
          "data": {
            "text/plain": [
              "<Figure size 432x288 with 1 Axes>"
            ],
            "image/png": "[encoded data removed]"
          },
          "metadata": {
            "needs_background": "light"
          }
        }
      ]
    },
    {
      "cell_type": "code",
      "source": [
        "X_train.columns"
      ],
      "metadata": {
        "colab": {
          "base_uri": "https://localhost:8080/"
        },
        "id": "OeIfkB7pefMX",
        "outputId": "62db79b4-d8e9-4290-b141-5f4c7cdeb4be"
      },
      "execution_count": 22,
      "outputs": [
        {
          "output_type": "execute_result",
          "data": {
            "text/plain": [
              "Index(['Age', 'BusinessTravel', 'Department', 'DistanceFromHome', 'Education',\n",
              "       'EducationField', 'EmployeeNumber', 'EnvironmentSatisfaction', 'Gender',\n",
              "       'JobInvolvement', 'JobLevel', 'JobRole', 'JobSatisfaction',\n",
              "       'MaritalStatus', 'MonthlyIncome', 'NumCompaniesWorked', 'Over18',\n",
              "       'OverTime', 'PercentSalaryHike', 'PerformanceRating',\n",
              "       'RelationshipSatisfaction', 'StandardHours', 'StockOptionLevel',\n",
              "       'TotalWorkingYears', 'TrainingTimesLastYear', 'WorkLifeBalance',\n",
              "       'YearsAtCompany', 'YearsInCurrentRole', 'YearsSinceLastPromotion',\n",
              "       'YearsWithCurrManager'],\n",
              "      dtype='object')"
            ]
          },
          "metadata": {},
          "execution_count": 22
        }
      ]
    },
    {
      "cell_type": "code",
      "source": [
        "#converting numeric to categorical\n",
        "dropcols=['EmployeeNumber','StandardHours','Over18']\n",
        "\n",
        "catcols=['BusinessTravel', 'Department','Education',\n",
        "       'EducationField', 'EnvironmentSatisfaction', 'Gender',\n",
        "       'JobInvolvement','JobLevel', 'JobRole', 'JobSatisfaction',\n",
        "       'MaritalStatus','NumCompaniesWorked',\n",
        "       'OverTime','PerformanceRating',\n",
        "       'RelationshipSatisfaction','StockOptionLevel','TrainingTimesLastYear', 'WorkLifeBalance']\n",
        "X_train[catcols]=X_train[catcols].astype('category')\n",
        "X_train.dtypes\n",
        "y_train=y_train.astype('category')\n",
        "y_test=y_test.astype('category')"
      ],
      "metadata": {
        "id": "zzty0eoue3hn"
      },
      "execution_count": 23,
      "outputs": []
    },
    {
      "cell_type": "code",
      "source": [
        "X_test[catcols]=X_test[catcols].astype('category')\n",
        "X_test.dtypes"
      ],
      "metadata": {
        "colab": {
          "base_uri": "https://localhost:8080/"
        },
        "id": "gd1QDH_nhbkg",
        "outputId": "05010014-c29a-46b4-a690-c8243e8c71dc"
      },
      "execution_count": 24,
      "outputs": [
        {
          "output_type": "execute_result",
          "data": {
            "text/plain": [
              "Age                            int64\n",
              "BusinessTravel              category\n",
              "Department                  category\n",
              "DistanceFromHome               int64\n",
              "Education                   category\n",
              "EducationField              category\n",
              "EmployeeNumber                 int64\n",
              "EnvironmentSatisfaction     category\n",
              "Gender                      category\n",
              "JobInvolvement              category\n",
              "JobLevel                    category\n",
              "JobRole                     category\n",
              "JobSatisfaction             category\n",
              "MaritalStatus               category\n",
              "MonthlyIncome                  int64\n",
              "NumCompaniesWorked          category\n",
              "Over18                        object\n",
              "OverTime                    category\n",
              "PercentSalaryHike              int64\n",
              "PerformanceRating           category\n",
              "RelationshipSatisfaction    category\n",
              "StandardHours                  int64\n",
              "StockOptionLevel            category\n",
              "TotalWorkingYears              int64\n",
              "TrainingTimesLastYear       category\n",
              "WorkLifeBalance             category\n",
              "YearsAtCompany                 int64\n",
              "YearsInCurrentRole             int64\n",
              "YearsSinceLastPromotion        int64\n",
              "YearsWithCurrManager           int64\n",
              "dtype: object"
            ]
          },
          "metadata": {},
          "execution_count": 24
        }
      ]
    },
    {
      "cell_type": "code",
      "source": [
        "#dropping the unnecessary columns\n",
        "X_train=X_train.drop(dropcols,axis=1)\n",
        "X_test=X_test.drop(dropcols,axis=1)"
      ],
      "metadata": {
        "id": "xpxW2C8Ohebd"
      },
      "execution_count": 25,
      "outputs": []
    },
    {
      "cell_type": "code",
      "source": [
        "X_test_num=X_test.drop(catcols,axis=1)\n",
        "X_test_cat=X_test[catcols]"
      ],
      "metadata": {
        "id": "crnCQ5sUhvg0"
      },
      "execution_count": 26,
      "outputs": []
    },
    {
      "cell_type": "code",
      "source": [
        "#separating numeric and categorical\n",
        "X_train_num=X_train.drop(catcols,axis=1)\n",
        "X_train_cat=X_train[catcols]"
      ],
      "metadata": {
        "id": "OINnvOgohoeN"
      },
      "execution_count": 27,
      "outputs": []
    },
    {
      "cell_type": "code",
      "source": [
        "# #imputing na values\n",
        "imputenum=SimpleImputer(strategy='mean')\n",
        "imputecat=SimpleImputer(strategy='most_frequent')\n",
        "X_train_num=pd.DataFrame(imputenum.fit_transform(X_train_num),columns=X_train_num.columns)\n",
        "X_train_cat=pd.DataFrame(imputecat.fit_transform(X_train_cat),columns=X_train_cat.columns)\n",
        "X_test_num=pd.DataFrame(imputenum.transform(X_test_num),columns=X_test_num.columns)\n",
        "X_test_cat=pd.DataFrame(imputecat.transform(X_test_cat),columns=X_test_cat.columns)"
      ],
      "metadata": {
        "id": "WEnWL0rkhivN"
      },
      "execution_count": 28,
      "outputs": []
    },
    {
      "cell_type": "code",
      "source": [
        "#Standardizing the numeric data\n",
        "sd=StandardScaler()\n",
        "X_train_num=pd.DataFrame(sd.fit_transform(X_train_num),columns=X_train_num.columns)\n",
        "X_test_num=pd.DataFrame(sd.transform(X_test_num),columns=X_test_num.columns)"
      ],
      "metadata": {
        "id": "nK32lLVahxis"
      },
      "execution_count": 29,
      "outputs": []
    },
    {
      "cell_type": "code",
      "source": [
        "#Encoding the categorical attributes\n",
        "ohe=OneHotEncoder(handle_unknown='ignore')\n",
        "# column=ohe.get_feature_names(X_train_cat.columns\n",
        "X_train_cat=pd.DataFrame(ohe.fit_transform(X_train_cat).todense(),columns=ohe.get_feature_names_out())"
      ],
      "metadata": {
        "id": "vh0l7HQgh2PU"
      },
      "execution_count": 30,
      "outputs": []
    },
    {
      "cell_type": "code",
      "source": [
        "X_train_cat.head()"
      ],
      "metadata": {
        "colab": {
          "base_uri": "https://localhost:8080/",
          "height": 317
        },
        "id": "JDVGX4gWh9R0",
        "outputId": "716070ac-b45b-43f3-8f53-2b3012f0979b"
      },
      "execution_count": 31,
      "outputs": [
        {
          "output_type": "execute_result",
          "data": {
            "text/plain": [
              "   BusinessTravel_Non-Travel  BusinessTravel_Travel_Frequently  \\\n",
              "0                        0.0                               0.0   \n",
              "1                        0.0                               0.0   \n",
              "2                        0.0                               1.0   \n",
              "3                        0.0                               0.0   \n",
              "4                        0.0                               0.0   \n",
              "\n",
              "   BusinessTravel_Travel_Rarely  Department_Human Resources  \\\n",
              "0                           1.0                         0.0   \n",
              "1                           1.0                         0.0   \n",
              "2                           0.0                         0.0   \n",
              "3                           1.0                         1.0   \n",
              "4                           1.0                         0.0   \n",
              "\n",
              "   Department_Research & Development  Department_Sales  Education_Bachelor  \\\n",
              "0                                0.0               1.0                 1.0   \n",
              "1                                1.0               0.0                 0.0   \n",
              "2                                0.0               1.0                 0.0   \n",
              "3                                0.0               0.0                 1.0   \n",
              "4                                0.0               1.0                 0.0   \n",
              "\n",
              "   Education_Below_college  Education_College  Education_Doctor  ...  \\\n",
              "0                      0.0                0.0               0.0  ...   \n",
              "1                      0.0                0.0               0.0  ...   \n",
              "2                      1.0                0.0               0.0  ...   \n",
              "3                      0.0                0.0               0.0  ...   \n",
              "4                      0.0                0.0               0.0  ...   \n",
              "\n",
              "   TrainingTimesLastYear_1  TrainingTimesLastYear_2  TrainingTimesLastYear_3  \\\n",
              "0                      0.0                      0.0                      1.0   \n",
              "1                      0.0                      0.0                      0.0   \n",
              "2                      0.0                      0.0                      1.0   \n",
              "3                      0.0                      1.0                      0.0   \n",
              "4                      0.0                      1.0                      0.0   \n",
              "\n",
              "   TrainingTimesLastYear_4  TrainingTimesLastYear_5  TrainingTimesLastYear_6  \\\n",
              "0                      0.0                      0.0                      0.0   \n",
              "1                      0.0                      0.0                      1.0   \n",
              "2                      0.0                      0.0                      0.0   \n",
              "3                      0.0                      0.0                      0.0   \n",
              "4                      0.0                      0.0                      0.0   \n",
              "\n",
              "   WorkLifeBalance_Bad  WorkLifeBalance_Best  WorkLifeBalance_Better  \\\n",
              "0                  0.0                   0.0                     0.0   \n",
              "1                  0.0                   0.0                     1.0   \n",
              "2                  0.0                   0.0                     1.0   \n",
              "3                  0.0                   0.0                     1.0   \n",
              "4                  1.0                   0.0                     0.0   \n",
              "\n",
              "   WorkLifeBalance_Good  \n",
              "0                   1.0  \n",
              "1                   0.0  \n",
              "2                   0.0  \n",
              "3                   0.0  \n",
              "4                   0.0  \n",
              "\n",
              "[5 rows x 81 columns]"
            ],
            "text/html": [
              "\n",
              "  <div id=\"df-c100803a-c9ce-4f2a-bc79-7c9a98c7fa5d\">\n",
              "    <div class=\"colab-df-container\">\n",
              "      <div>\n",
              "<style scoped>\n",
              "    .dataframe tbody tr th:only-of-type {\n",
              "        vertical-align: middle;\n",
              "    }\n",
              "\n",
              "    .dataframe tbody tr th {\n",
              "        vertical-align: top;\n",
              "    }\n",
              "\n",
              "    .dataframe thead th {\n",
              "        text-align: right;\n",
              "    }\n",
              "</style>\n",
              "<table border=\"1\" class=\"dataframe\">\n",
              "  <thead>\n",
              "    <tr style=\"text-align: right;\">\n",
              "      <th></th>\n",
              "      <th>BusinessTravel_Non-Travel</th>\n",
              "      <th>BusinessTravel_Travel_Frequently</th>\n",
              "      <th>BusinessTravel_Travel_Rarely</th>\n",
              "      <th>Department_Human Resources</th>\n",
              "      <th>Department_Research &amp; Development</th>\n",
              "      <th>Department_Sales</th>\n",
              "      <th>Education_Bachelor</th>\n",
              "      <th>Education_Below_college</th>\n",
              "      <th>Education_College</th>\n",
              "      <th>Education_Doctor</th>\n",
              "      <th>...</th>\n",
              "      <th>TrainingTimesLastYear_1</th>\n",
              "      <th>TrainingTimesLastYear_2</th>\n",
              "      <th>TrainingTimesLastYear_3</th>\n",
              "      <th>TrainingTimesLastYear_4</th>\n",
              "      <th>TrainingTimesLastYear_5</th>\n",
              "      <th>TrainingTimesLastYear_6</th>\n",
              "      <th>WorkLifeBalance_Bad</th>\n",
              "      <th>WorkLifeBalance_Best</th>\n",
              "      <th>WorkLifeBalance_Better</th>\n",
              "      <th>WorkLifeBalance_Good</th>\n",
              "    </tr>\n",
              "  </thead>\n",
              "  <tbody>\n",
              "    <tr>\n",
              "      <th>0</th>\n",
              "      <td>0.0</td>\n",
              "      <td>0.0</td>\n",
              "      <td>1.0</td>\n",
              "      <td>0.0</td>\n",
              "      <td>0.0</td>\n",
              "      <td>1.0</td>\n",
              "      <td>1.0</td>\n",
              "      <td>0.0</td>\n",
              "      <td>0.0</td>\n",
              "      <td>0.0</td>\n",
              "      <td>...</td>\n",
              "      <td>0.0</td>\n",
              "      <td>0.0</td>\n",
              "      <td>1.0</td>\n",
              "      <td>0.0</td>\n",
              "      <td>0.0</td>\n",
              "      <td>0.0</td>\n",
              "      <td>0.0</td>\n",
              "      <td>0.0</td>\n",
              "      <td>0.0</td>\n",
              "      <td>1.0</td>\n",
              "    </tr>\n",
              "    <tr>\n",
              "      <th>1</th>\n",
              "      <td>0.0</td>\n",
              "      <td>0.0</td>\n",
              "      <td>1.0</td>\n",
              "      <td>0.0</td>\n",
              "      <td>1.0</td>\n",
              "      <td>0.0</td>\n",
              "      <td>0.0</td>\n",
              "      <td>0.0</td>\n",
              "      <td>0.0</td>\n",
              "      <td>0.0</td>\n",
              "      <td>...</td>\n",
              "      <td>0.0</td>\n",
              "      <td>0.0</td>\n",
              "      <td>0.0</td>\n",
              "      <td>0.0</td>\n",
              "      <td>0.0</td>\n",
              "      <td>1.0</td>\n",
              "      <td>0.0</td>\n",
              "      <td>0.0</td>\n",
              "      <td>1.0</td>\n",
              "      <td>0.0</td>\n",
              "    </tr>\n",
              "    <tr>\n",
              "      <th>2</th>\n",
              "      <td>0.0</td>\n",
              "      <td>1.0</td>\n",
              "      <td>0.0</td>\n",
              "      <td>0.0</td>\n",
              "      <td>0.0</td>\n",
              "      <td>1.0</td>\n",
              "      <td>0.0</td>\n",
              "      <td>1.0</td>\n",
              "      <td>0.0</td>\n",
              "      <td>0.0</td>\n",
              "      <td>...</td>\n",
              "      <td>0.0</td>\n",
              "      <td>0.0</td>\n",
              "      <td>1.0</td>\n",
              "      <td>0.0</td>\n",
              "      <td>0.0</td>\n",
              "      <td>0.0</td>\n",
              "      <td>0.0</td>\n",
              "      <td>0.0</td>\n",
              "      <td>1.0</td>\n",
              "      <td>0.0</td>\n",
              "    </tr>\n",
              "    <tr>\n",
              "      <th>3</th>\n",
              "      <td>0.0</td>\n",
              "      <td>0.0</td>\n",
              "      <td>1.0</td>\n",
              "      <td>1.0</td>\n",
              "      <td>0.0</td>\n",
              "      <td>0.0</td>\n",
              "      <td>1.0</td>\n",
              "      <td>0.0</td>\n",
              "      <td>0.0</td>\n",
              "      <td>0.0</td>\n",
              "      <td>...</td>\n",
              "      <td>0.0</td>\n",
              "      <td>1.0</td>\n",
              "      <td>0.0</td>\n",
              "      <td>0.0</td>\n",
              "      <td>0.0</td>\n",
              "      <td>0.0</td>\n",
              "      <td>0.0</td>\n",
              "      <td>0.0</td>\n",
              "      <td>1.0</td>\n",
              "      <td>0.0</td>\n",
              "    </tr>\n",
              "    <tr>\n",
              "      <th>4</th>\n",
              "      <td>0.0</td>\n",
              "      <td>0.0</td>\n",
              "      <td>1.0</td>\n",
              "      <td>0.0</td>\n",
              "      <td>0.0</td>\n",
              "      <td>1.0</td>\n",
              "      <td>0.0</td>\n",
              "      <td>0.0</td>\n",
              "      <td>0.0</td>\n",
              "      <td>0.0</td>\n",
              "      <td>...</td>\n",
              "      <td>0.0</td>\n",
              "      <td>1.0</td>\n",
              "      <td>0.0</td>\n",
              "      <td>0.0</td>\n",
              "      <td>0.0</td>\n",
              "      <td>0.0</td>\n",
              "      <td>1.0</td>\n",
              "      <td>0.0</td>\n",
              "      <td>0.0</td>\n",
              "      <td>0.0</td>\n",
              "    </tr>\n",
              "  </tbody>\n",
              "</table>\n",
              "<p>5 rows × 81 columns</p>\n",
              "</div>\n",
              "      <button class=\"colab-df-convert\" onclick=\"convertToInteractive('df-c100803a-c9ce-4f2a-bc79-7c9a98c7fa5d')\"\n",
              "              title=\"Convert this dataframe to an interactive table.\"\n",
              "              style=\"display:none;\">\n",
              "        \n",
              "  <svg xmlns=\"http://www.w3.org/2000/svg\" height=\"24px\"viewBox=\"0 0 24 24\"\n",
              "       width=\"24px\">\n",
              "    <path d=\"M0 0h24v24H0V0z\" fill=\"none\"/>\n",
              "    <path d=\"M18.56 5.44l.94 2.06.94-2.06 2.06-.94-2.06-.94-.94-2.06-.94 2.06-2.06.94zm-11 1L8.5 8.5l.94-2.06 2.06-.94-2.06-.94L8.5 2.5l-.94 2.06-2.06.94zm10 10l.94 2.06.94-2.06 2.06-.94-2.06-.94-.94-2.06-.94 2.06-2.06.94z\"/><path d=\"M17.41 7.96l-1.37-1.37c-.4-.4-.92-.59-1.43-.59-.52 0-1.04.2-1.43.59L10.3 9.45l-7.72 7.72c-.78.78-.78 2.05 0 2.83L4 21.41c.39.39.9.59 1.41.59.51 0 1.02-.2 1.41-.59l7.78-7.78 2.81-2.81c.8-.78.8-2.07 0-2.86zM5.41 20L4 18.59l7.72-7.72 1.47 1.35L5.41 20z\"/>\n",
              "  </svg>\n",
              "      </button>\n",
              "      \n",
              "  <style>\n",
              "    .colab-df-container {\n",
              "      display:flex;\n",
              "      flex-wrap:wrap;\n",
              "      gap: 12px;\n",
              "    }\n",
              "\n",
              "    .colab-df-convert {\n",
              "      background-color: #E8F0FE;\n",
              "      border: none;\n",
              "      border-radius: 50%;\n",
              "      cursor: pointer;\n",
              "      display: none;\n",
              "      fill: #1967D2;\n",
              "      height: 32px;\n",
              "      padding: 0 0 0 0;\n",
              "      width: 32px;\n",
              "    }\n",
              "\n",
              "    .colab-df-convert:hover {\n",
              "      background-color: #E2EBFA;\n",
              "      box-shadow: 0px 1px 2px rgba(60, 64, 67, 0.3), 0px 1px 3px 1px rgba(60, 64, 67, 0.15);\n",
              "      fill: #174EA6;\n",
              "    }\n",
              "\n",
              "    [theme=dark] .colab-df-convert {\n",
              "      background-color: #3B4455;\n",
              "      fill: #D2E3FC;\n",
              "    }\n",
              "\n",
              "    [theme=dark] .colab-df-convert:hover {\n",
              "      background-color: #434B5C;\n",
              "      box-shadow: 0px 1px 3px 1px rgba(0, 0, 0, 0.15);\n",
              "      filter: drop-shadow(0px 1px 2px rgba(0, 0, 0, 0.3));\n",
              "      fill: #FFFFFF;\n",
              "    }\n",
              "  </style>\n",
              "\n",
              "      <script>\n",
              "        const buttonEl =\n",
              "          document.querySelector('#df-c100803a-c9ce-4f2a-bc79-7c9a98c7fa5d button.colab-df-convert');\n",
              "        buttonEl.style.display =\n",
              "          google.colab.kernel.accessAllowed ? 'block' : 'none';\n",
              "\n",
              "        async function convertToInteractive(key) {\n",
              "          const element = document.querySelector('#df-c100803a-c9ce-4f2a-bc79-7c9a98c7fa5d');\n",
              "          const dataTable =\n",
              "            await google.colab.kernel.invokeFunction('convertToInteractive',\n",
              "                                                     [key], {});\n",
              "          if (!dataTable) return;\n",
              "\n",
              "          const docLinkHtml = 'Like what you see? Visit the ' +\n",
              "            '<a target=\"_blank\" href=https://colab.research.google.com/notebooks/data_table.ipynb>data table notebook</a>'\n",
              "            + ' to learn more about interactive tables.';\n",
              "          element.innerHTML = '';\n",
              "          dataTable['output_type'] = 'display_data';\n",
              "          await google.colab.output.renderOutput(dataTable, element);\n",
              "          const docLink = document.createElement('div');\n",
              "          docLink.innerHTML = docLinkHtml;\n",
              "          element.appendChild(docLink);\n",
              "        }\n",
              "      </script>\n",
              "    </div>\n",
              "  </div>\n",
              "  "
            ]
          },
          "metadata": {},
          "execution_count": 31
        }
      ]
    },
    {
      "cell_type": "code",
      "source": [
        "X_test_cat=pd.DataFrame(ohe.transform(X_test_cat).todense(),columns=ohe.get_feature_names_out())"
      ],
      "metadata": {
        "id": "F6KrcbLeh_n0"
      },
      "execution_count": 32,
      "outputs": []
    },
    {
      "cell_type": "code",
      "source": [
        "Xtrain=pd.concat([X_train_num,X_train_cat],axis=1)\n",
        "print(Xtrain.shape)\n",
        "# y_train.shape\n",
        "Xtrain.dtypes\n",
        "# print(X_test.shape)"
      ],
      "metadata": {
        "colab": {
          "base_uri": "https://localhost:8080/"
        },
        "id": "buiWhF3eiD5s",
        "outputId": "e0838e82-e47b-4109-c6ac-5494f79300d1"
      },
      "execution_count": 33,
      "outputs": [
        {
          "output_type": "stream",
          "name": "stdout",
          "text": [
            "(1323, 90)\n"
          ]
        },
        {
          "output_type": "execute_result",
          "data": {
            "text/plain": [
              "Age                        float64\n",
              "DistanceFromHome           float64\n",
              "MonthlyIncome              float64\n",
              "PercentSalaryHike          float64\n",
              "TotalWorkingYears          float64\n",
              "                            ...   \n",
              "TrainingTimesLastYear_6    float64\n",
              "WorkLifeBalance_Bad        float64\n",
              "WorkLifeBalance_Best       float64\n",
              "WorkLifeBalance_Better     float64\n",
              "WorkLifeBalance_Good       float64\n",
              "Length: 90, dtype: object"
            ]
          },
          "metadata": {},
          "execution_count": 33
        }
      ]
    },
    {
      "cell_type": "code",
      "source": [
        "Xtest=pd.concat([X_test_num,X_test_cat],axis=1)\n",
        "print(Xtest.shape)"
      ],
      "metadata": {
        "colab": {
          "base_uri": "https://localhost:8080/"
        },
        "id": "kY2nPi_jiGLD",
        "outputId": "734034d6-ecd0-4d4b-c6a5-c1b237a6d6ca"
      },
      "execution_count": 34,
      "outputs": [
        {
          "output_type": "stream",
          "name": "stdout",
          "text": [
            "(147, 90)\n"
          ]
        }
      ]
    },
    {
      "cell_type": "markdown",
      "source": [
        "Logistic Regression\n"
      ],
      "metadata": {
        "id": "L7nupBihiK1w"
      }
    },
    {
      "cell_type": "code",
      "source": [
        "model=LogisticRegression(penalty='l2',class_weight=10,max_iter=5)\n",
        "log=model.fit(Xtrain, y_train)\n"
      ],
      "metadata": {
        "colab": {
          "base_uri": "https://localhost:8080/"
        },
        "id": "nY-RXHR5iM1K",
        "outputId": "0a21b048-f8a6-4656-c043-233d7d0f5fe7"
      },
      "execution_count": 37,
      "outputs": [
        {
          "output_type": "stream",
          "name": "stderr",
          "text": [
            "/usr/local/lib/python3.7/dist-packages/sklearn/linear_model/_logistic.py:818: ConvergenceWarning: lbfgs failed to converge (status=1):\n",
            "STOP: TOTAL NO. of ITERATIONS REACHED LIMIT.\n",
            "\n",
            "Increase the number of iterations (max_iter) or scale the data as shown in:\n",
            "    https://scikit-learn.org/stable/modules/preprocessing.html\n",
            "Please also refer to the documentation for alternative solver options:\n",
            "    https://scikit-learn.org/stable/modules/linear_model.html#logistic-regression\n",
            "  extra_warning_msg=_LOGISTIC_SOLVER_CONVERGENCE_MSG,\n"
          ]
        }
      ]
    },
    {
      "cell_type": "code",
      "source": [
        "logtrain=model.predict(Xtrain)\n",
        "logtest=model.predict(Xtest)"
      ],
      "metadata": {
        "id": "E_5kYrp_jPM3"
      },
      "execution_count": 38,
      "outputs": []
    },
    {
      "cell_type": "code",
      "source": [
        "print(confusion_matrix(logtrain,y_train))\n",
        "print(confusion_matrix(logtest,y_test))"
      ],
      "metadata": {
        "colab": {
          "base_uri": "https://localhost:8080/"
        },
        "id": "PMLM_wq8jbv3",
        "outputId": "a4cef287-32f0-465c-c127-ed9a2e707815"
      },
      "execution_count": 39,
      "outputs": [
        {
          "output_type": "stream",
          "name": "stdout",
          "text": [
            "[[1107  199]\n",
            " [   1   16]]\n",
            "[[125  21]\n",
            " [  0   1]]\n"
          ]
        }
      ]
    },
    {
      "cell_type": "code",
      "source": [
        "print(classification_report(logtrain,y_train))\n",
        "print(classification_report(logtest,y_test))"
      ],
      "metadata": {
        "colab": {
          "base_uri": "https://localhost:8080/"
        },
        "id": "ZS8OLcsDjdie",
        "outputId": "0a8ed203-8a2e-49cb-c0b3-d631eef42d30"
      },
      "execution_count": 40,
      "outputs": [
        {
          "output_type": "stream",
          "name": "stdout",
          "text": [
            "              precision    recall  f1-score   support\n",
            "\n",
            "          No       1.00      0.85      0.92      1306\n",
            "         Yes       0.07      0.94      0.14        17\n",
            "\n",
            "    accuracy                           0.85      1323\n",
            "   macro avg       0.54      0.89      0.53      1323\n",
            "weighted avg       0.99      0.85      0.91      1323\n",
            "\n",
            "              precision    recall  f1-score   support\n",
            "\n",
            "          No       1.00      0.86      0.92       146\n",
            "         Yes       0.05      1.00      0.09         1\n",
            "\n",
            "    accuracy                           0.86       147\n",
            "   macro avg       0.52      0.93      0.50       147\n",
            "weighted avg       0.99      0.86      0.92       147\n",
            "\n"
          ]
        }
      ]
    },
    {
      "cell_type": "markdown",
      "source": [
        "Naive Bayes"
      ],
      "metadata": {
        "id": "lV6SQMnuj_yu"
      }
    },
    {
      "cell_type": "code",
      "source": [
        "model=GaussianNB()\n",
        "naive=model.fit(Xtrain,y_train)"
      ],
      "metadata": {
        "id": "aaBGXhuzkBDc"
      },
      "execution_count": 41,
      "outputs": []
    },
    {
      "cell_type": "code",
      "source": [
        "nbtest=naive.predict(Xtest)\n",
        "nbtrain=naive.predict(Xtrain)\n",
        "print(confusion_matrix(nbtest,y_test))\n",
        "print(confusion_matrix(nbtrain,y_train))"
      ],
      "metadata": {
        "colab": {
          "base_uri": "https://localhost:8080/"
        },
        "id": "4iBph4G-kHtd",
        "outputId": "6dd11ad3-3d04-4316-a988-bf7b60fe3e0f"
      },
      "execution_count": 42,
      "outputs": [
        {
          "output_type": "stream",
          "name": "stdout",
          "text": [
            "[[84  6]\n",
            " [41 16]]\n",
            "[[774  50]\n",
            " [334 165]]\n"
          ]
        }
      ]
    },
    {
      "cell_type": "code",
      "source": [
        "print(classification_report(nbtest,y_test))\n",
        "print(classification_report(nbtrain,y_train))"
      ],
      "metadata": {
        "colab": {
          "base_uri": "https://localhost:8080/"
        },
        "id": "iTpUMrVMkPcc",
        "outputId": "b7207e34-b967-4be3-895c-9901106dba2a"
      },
      "execution_count": 43,
      "outputs": [
        {
          "output_type": "stream",
          "name": "stdout",
          "text": [
            "              precision    recall  f1-score   support\n",
            "\n",
            "          No       0.67      0.93      0.78        90\n",
            "         Yes       0.73      0.28      0.41        57\n",
            "\n",
            "    accuracy                           0.68       147\n",
            "   macro avg       0.70      0.61      0.59       147\n",
            "weighted avg       0.69      0.68      0.64       147\n",
            "\n",
            "              precision    recall  f1-score   support\n",
            "\n",
            "          No       0.70      0.94      0.80       824\n",
            "         Yes       0.77      0.33      0.46       499\n",
            "\n",
            "    accuracy                           0.71      1323\n",
            "   macro avg       0.73      0.63      0.63      1323\n",
            "weighted avg       0.72      0.71      0.67      1323\n",
            "\n"
          ]
        }
      ]
    },
    {
      "cell_type": "markdown",
      "source": [
        "Decision Trees"
      ],
      "metadata": {
        "id": "B94kRN6dkZqj"
      }
    },
    {
      "cell_type": "code",
      "source": [
        "model=DecisionTreeClassifier(max_leaf_nodes=10,max_depth=10,criterion='gini')\n",
        "decision=model.fit(Xtrain,y_train)"
      ],
      "metadata": {
        "id": "9j0XZe9kkbGT"
      },
      "execution_count": 44,
      "outputs": []
    },
    {
      "cell_type": "code",
      "source": [
        "dectest=decision.predict(Xtest)\n",
        "dectrain=decision.predict(Xtrain)\n",
        "print(confusion_matrix(dectest,y_test))\n",
        "print(confusion_matrix(dectrain,y_train))"
      ],
      "metadata": {
        "colab": {
          "base_uri": "https://localhost:8080/"
        },
        "id": "_P8cDf6akdAr",
        "outputId": "5ad681fb-4475-436f-97cf-9fae095763d0"
      },
      "execution_count": 45,
      "outputs": [
        {
          "output_type": "stream",
          "name": "stdout",
          "text": [
            "[[122  18]\n",
            " [  3   4]]\n",
            "[[1091  155]\n",
            " [  17   60]]\n"
          ]
        }
      ]
    },
    {
      "cell_type": "code",
      "source": [
        "print(classification_report(dectest,y_test))\n",
        "print(classification_report(dectrain,y_train))"
      ],
      "metadata": {
        "colab": {
          "base_uri": "https://localhost:8080/"
        },
        "id": "JgjhSWH3kh8z",
        "outputId": "dbc0a8fd-d5a6-4c5a-8ff1-97a09355b967"
      },
      "execution_count": 46,
      "outputs": [
        {
          "output_type": "stream",
          "name": "stdout",
          "text": [
            "              precision    recall  f1-score   support\n",
            "\n",
            "          No       0.98      0.87      0.92       140\n",
            "         Yes       0.18      0.57      0.28         7\n",
            "\n",
            "    accuracy                           0.86       147\n",
            "   macro avg       0.58      0.72      0.60       147\n",
            "weighted avg       0.94      0.86      0.89       147\n",
            "\n",
            "              precision    recall  f1-score   support\n",
            "\n",
            "          No       0.98      0.88      0.93      1246\n",
            "         Yes       0.28      0.78      0.41        77\n",
            "\n",
            "    accuracy                           0.87      1323\n",
            "   macro avg       0.63      0.83      0.67      1323\n",
            "weighted avg       0.94      0.87      0.90      1323\n",
            "\n"
          ]
        }
      ]
    },
    {
      "cell_type": "markdown",
      "source": [
        "KNN"
      ],
      "metadata": {
        "id": "ClTmHYjxkz0-"
      }
    },
    {
      "cell_type": "code",
      "source": [
        "model= KNeighborsClassifier(n_neighbors=5, metric='minkowski', p=2 )  \n",
        "knn=model.fit(Xtrain,y_train)"
      ],
      "metadata": {
        "id": "-_i1ZgJyk0Ry"
      },
      "execution_count": 47,
      "outputs": []
    },
    {
      "cell_type": "code",
      "source": [
        "knntest=knn.predict(Xtest)\n",
        "knntrain=knn.predict(Xtrain)\n",
        "print(confusion_matrix(knntest,y_test))\n",
        "print(confusion_matrix(knntrain,y_train))"
      ],
      "metadata": {
        "colab": {
          "base_uri": "https://localhost:8080/"
        },
        "id": "_PhTC6Qnk5li",
        "outputId": "7d788ae2-8717-43ed-c1b9-fc9216fe4742"
      },
      "execution_count": 48,
      "outputs": [
        {
          "output_type": "stream",
          "name": "stdout",
          "text": [
            "[[123  18]\n",
            " [  2   4]]\n",
            "[[1099  154]\n",
            " [   9   61]]\n"
          ]
        }
      ]
    },
    {
      "cell_type": "code",
      "source": [
        "print(classification_report(knntest,y_test))\n",
        "print(classification_report(knntrain,y_train))"
      ],
      "metadata": {
        "colab": {
          "base_uri": "https://localhost:8080/"
        },
        "id": "oaB8v6uPlWo4",
        "outputId": "54260dcb-71bf-424d-f146-3c1bfd944d82"
      },
      "execution_count": 49,
      "outputs": [
        {
          "output_type": "stream",
          "name": "stdout",
          "text": [
            "              precision    recall  f1-score   support\n",
            "\n",
            "          No       0.98      0.87      0.92       141\n",
            "         Yes       0.18      0.67      0.29         6\n",
            "\n",
            "    accuracy                           0.86       147\n",
            "   macro avg       0.58      0.77      0.61       147\n",
            "weighted avg       0.95      0.86      0.90       147\n",
            "\n",
            "              precision    recall  f1-score   support\n",
            "\n",
            "          No       0.99      0.88      0.93      1253\n",
            "         Yes       0.28      0.87      0.43        70\n",
            "\n",
            "    accuracy                           0.88      1323\n",
            "   macro avg       0.64      0.87      0.68      1323\n",
            "weighted avg       0.95      0.88      0.90      1323\n",
            "\n"
          ]
        }
      ]
    },
    {
      "cell_type": "markdown",
      "source": [
        "SVC"
      ],
      "metadata": {
        "id": "mlA5WTUBlcpF"
      }
    },
    {
      "cell_type": "code",
      "source": [
        "model=SVC(C=2.0,kernel='rbf',gamma=0.1)\n",
        "svc=model.fit(Xtrain,y_train)\n",
        "svctest=model.predict(Xtest)\n",
        "svctrain=model.predict(Xtrain)"
      ],
      "metadata": {
        "id": "AGqlWxoYldPg"
      },
      "execution_count": 50,
      "outputs": []
    },
    {
      "cell_type": "code",
      "source": [
        "confusion_matrix(svctest,y_test)"
      ],
      "metadata": {
        "colab": {
          "base_uri": "https://localhost:8080/"
        },
        "id": "0GL-j2Hylhd4",
        "outputId": "30971dc5-195a-4b84-b59e-cc2392492b59"
      },
      "execution_count": 51,
      "outputs": [
        {
          "output_type": "execute_result",
          "data": {
            "text/plain": [
              "array([[121,  14],\n",
              "       [  4,   8]])"
            ]
          },
          "metadata": {},
          "execution_count": 51
        }
      ]
    },
    {
      "cell_type": "code",
      "source": [
        "confusion_matrix(svctrain,y_train)"
      ],
      "metadata": {
        "colab": {
          "base_uri": "https://localhost:8080/"
        },
        "id": "KKPCMf6alju3",
        "outputId": "4a2a2750-5145-471a-9d39-0d202dfb8421"
      },
      "execution_count": 52,
      "outputs": [
        {
          "output_type": "execute_result",
          "data": {
            "text/plain": [
              "array([[1108,    4],\n",
              "       [   0,  211]])"
            ]
          },
          "metadata": {},
          "execution_count": 52
        }
      ]
    },
    {
      "cell_type": "code",
      "source": [
        "print(classification_report(svctest,y_test))"
      ],
      "metadata": {
        "colab": {
          "base_uri": "https://localhost:8080/"
        },
        "id": "TLOknyQgll9f",
        "outputId": "9f8414a1-ef05-432b-8c0f-9b225758cf89"
      },
      "execution_count": 53,
      "outputs": [
        {
          "output_type": "stream",
          "name": "stdout",
          "text": [
            "              precision    recall  f1-score   support\n",
            "\n",
            "          No       0.97      0.90      0.93       135\n",
            "         Yes       0.36      0.67      0.47        12\n",
            "\n",
            "    accuracy                           0.88       147\n",
            "   macro avg       0.67      0.78      0.70       147\n",
            "weighted avg       0.92      0.88      0.89       147\n",
            "\n"
          ]
        }
      ]
    },
    {
      "cell_type": "code",
      "source": [
        "print(classification_report(svctrain,y_train))"
      ],
      "metadata": {
        "colab": {
          "base_uri": "https://localhost:8080/"
        },
        "id": "Q-Hgw6Hrlnf_",
        "outputId": "5280aad5-d4a6-4e45-a92c-d977914bafd9"
      },
      "execution_count": 54,
      "outputs": [
        {
          "output_type": "stream",
          "name": "stdout",
          "text": [
            "              precision    recall  f1-score   support\n",
            "\n",
            "          No       1.00      1.00      1.00      1112\n",
            "         Yes       0.98      1.00      0.99       211\n",
            "\n",
            "    accuracy                           1.00      1323\n",
            "   macro avg       0.99      1.00      0.99      1323\n",
            "weighted avg       1.00      1.00      1.00      1323\n",
            "\n"
          ]
        }
      ]
    },
    {
      "cell_type": "code",
      "source": [
        "Xtrain.shape"
      ],
      "metadata": {
        "colab": {
          "base_uri": "https://localhost:8080/"
        },
        "id": "HlfAeczWlpbh",
        "outputId": "7e3d4350-9f17-4c4e-8fef-3dcd5b13bb32"
      },
      "execution_count": 55,
      "outputs": [
        {
          "output_type": "execute_result",
          "data": {
            "text/plain": [
              "(1323, 90)"
            ]
          },
          "metadata": {},
          "execution_count": 55
        }
      ]
    },
    {
      "cell_type": "code",
      "source": [
        "resultstr=pd.DataFrame({'Logistic':logtrain,'NaiveBayes':nbtrain,'DecisionTrees':dectrain,'SVC':svctrain,'KNN':knntrain})"
      ],
      "metadata": {
        "id": "Ildt8iYfuvSA"
      },
      "execution_count": 56,
      "outputs": []
    },
    {
      "cell_type": "code",
      "source": [
        "resultste=pd.DataFrame({'Logistic':logtest,'NaiveBayes':nbtest,'DecisionTrees':dectest,'SVC':svctest,'KNN':knntest})"
      ],
      "metadata": {
        "id": "toGHYPmvLyT0"
      },
      "execution_count": 57,
      "outputs": []
    },
    {
      "cell_type": "code",
      "source": [
        "resultstr.head()\n",
        "resultste.head()"
      ],
      "metadata": {
        "colab": {
          "base_uri": "https://localhost:8080/",
          "height": 206
        },
        "id": "455fbsSfxBnZ",
        "outputId": "1bf65f76-9181-4a4c-dc2e-58fc1cceda35"
      },
      "execution_count": 58,
      "outputs": [
        {
          "output_type": "execute_result",
          "data": {
            "text/plain": [
              "  Logistic NaiveBayes DecisionTrees  SVC KNN\n",
              "0       No        Yes            No   No  No\n",
              "1       No        Yes            No   No  No\n",
              "2       No         No            No   No  No\n",
              "3       No        Yes            No  Yes  No\n",
              "4       No         No            No   No  No"
            ],
            "text/html": [
              "\n",
              "  <div id=\"df-ac28ff02-8188-4ba8-afdc-107edcf1cc4d\">\n",
              "    <div class=\"colab-df-container\">\n",
              "      <div>\n",
              "<style scoped>\n",
              "    .dataframe tbody tr th:only-of-type {\n",
              "        vertical-align: middle;\n",
              "    }\n",
              "\n",
              "    .dataframe tbody tr th {\n",
              "        vertical-align: top;\n",
              "    }\n",
              "\n",
              "    .dataframe thead th {\n",
              "        text-align: right;\n",
              "    }\n",
              "</style>\n",
              "<table border=\"1\" class=\"dataframe\">\n",
              "  <thead>\n",
              "    <tr style=\"text-align: right;\">\n",
              "      <th></th>\n",
              "      <th>Logistic</th>\n",
              "      <th>NaiveBayes</th>\n",
              "      <th>DecisionTrees</th>\n",
              "      <th>SVC</th>\n",
              "      <th>KNN</th>\n",
              "    </tr>\n",
              "  </thead>\n",
              "  <tbody>\n",
              "    <tr>\n",
              "      <th>0</th>\n",
              "      <td>No</td>\n",
              "      <td>Yes</td>\n",
              "      <td>No</td>\n",
              "      <td>No</td>\n",
              "      <td>No</td>\n",
              "    </tr>\n",
              "    <tr>\n",
              "      <th>1</th>\n",
              "      <td>No</td>\n",
              "      <td>Yes</td>\n",
              "      <td>No</td>\n",
              "      <td>No</td>\n",
              "      <td>No</td>\n",
              "    </tr>\n",
              "    <tr>\n",
              "      <th>2</th>\n",
              "      <td>No</td>\n",
              "      <td>No</td>\n",
              "      <td>No</td>\n",
              "      <td>No</td>\n",
              "      <td>No</td>\n",
              "    </tr>\n",
              "    <tr>\n",
              "      <th>3</th>\n",
              "      <td>No</td>\n",
              "      <td>Yes</td>\n",
              "      <td>No</td>\n",
              "      <td>Yes</td>\n",
              "      <td>No</td>\n",
              "    </tr>\n",
              "    <tr>\n",
              "      <th>4</th>\n",
              "      <td>No</td>\n",
              "      <td>No</td>\n",
              "      <td>No</td>\n",
              "      <td>No</td>\n",
              "      <td>No</td>\n",
              "    </tr>\n",
              "  </tbody>\n",
              "</table>\n",
              "</div>\n",
              "      <button class=\"colab-df-convert\" onclick=\"convertToInteractive('df-ac28ff02-8188-4ba8-afdc-107edcf1cc4d')\"\n",
              "              title=\"Convert this dataframe to an interactive table.\"\n",
              "              style=\"display:none;\">\n",
              "        \n",
              "  <svg xmlns=\"http://www.w3.org/2000/svg\" height=\"24px\"viewBox=\"0 0 24 24\"\n",
              "       width=\"24px\">\n",
              "    <path d=\"M0 0h24v24H0V0z\" fill=\"none\"/>\n",
              "    <path d=\"M18.56 5.44l.94 2.06.94-2.06 2.06-.94-2.06-.94-.94-2.06-.94 2.06-2.06.94zm-11 1L8.5 8.5l.94-2.06 2.06-.94-2.06-.94L8.5 2.5l-.94 2.06-2.06.94zm10 10l.94 2.06.94-2.06 2.06-.94-2.06-.94-.94-2.06-.94 2.06-2.06.94z\"/><path d=\"M17.41 7.96l-1.37-1.37c-.4-.4-.92-.59-1.43-.59-.52 0-1.04.2-1.43.59L10.3 9.45l-7.72 7.72c-.78.78-.78 2.05 0 2.83L4 21.41c.39.39.9.59 1.41.59.51 0 1.02-.2 1.41-.59l7.78-7.78 2.81-2.81c.8-.78.8-2.07 0-2.86zM5.41 20L4 18.59l7.72-7.72 1.47 1.35L5.41 20z\"/>\n",
              "  </svg>\n",
              "      </button>\n",
              "      \n",
              "  <style>\n",
              "    .colab-df-container {\n",
              "      display:flex;\n",
              "      flex-wrap:wrap;\n",
              "      gap: 12px;\n",
              "    }\n",
              "\n",
              "    .colab-df-convert {\n",
              "      background-color: #E8F0FE;\n",
              "      border: none;\n",
              "      border-radius: 50%;\n",
              "      cursor: pointer;\n",
              "      display: none;\n",
              "      fill: #1967D2;\n",
              "      height: 32px;\n",
              "      padding: 0 0 0 0;\n",
              "      width: 32px;\n",
              "    }\n",
              "\n",
              "    .colab-df-convert:hover {\n",
              "      background-color: #E2EBFA;\n",
              "      box-shadow: 0px 1px 2px rgba(60, 64, 67, 0.3), 0px 1px 3px 1px rgba(60, 64, 67, 0.15);\n",
              "      fill: #174EA6;\n",
              "    }\n",
              "\n",
              "    [theme=dark] .colab-df-convert {\n",
              "      background-color: #3B4455;\n",
              "      fill: #D2E3FC;\n",
              "    }\n",
              "\n",
              "    [theme=dark] .colab-df-convert:hover {\n",
              "      background-color: #434B5C;\n",
              "      box-shadow: 0px 1px 3px 1px rgba(0, 0, 0, 0.15);\n",
              "      filter: drop-shadow(0px 1px 2px rgba(0, 0, 0, 0.3));\n",
              "      fill: #FFFFFF;\n",
              "    }\n",
              "  </style>\n",
              "\n",
              "      <script>\n",
              "        const buttonEl =\n",
              "          document.querySelector('#df-ac28ff02-8188-4ba8-afdc-107edcf1cc4d button.colab-df-convert');\n",
              "        buttonEl.style.display =\n",
              "          google.colab.kernel.accessAllowed ? 'block' : 'none';\n",
              "\n",
              "        async function convertToInteractive(key) {\n",
              "          const element = document.querySelector('#df-ac28ff02-8188-4ba8-afdc-107edcf1cc4d');\n",
              "          const dataTable =\n",
              "            await google.colab.kernel.invokeFunction('convertToInteractive',\n",
              "                                                     [key], {});\n",
              "          if (!dataTable) return;\n",
              "\n",
              "          const docLinkHtml = 'Like what you see? Visit the ' +\n",
              "            '<a target=\"_blank\" href=https://colab.research.google.com/notebooks/data_table.ipynb>data table notebook</a>'\n",
              "            + ' to learn more about interactive tables.';\n",
              "          element.innerHTML = '';\n",
              "          dataTable['output_type'] = 'display_data';\n",
              "          await google.colab.output.renderOutput(dataTable, element);\n",
              "          const docLink = document.createElement('div');\n",
              "          docLink.innerHTML = docLinkHtml;\n",
              "          element.appendChild(docLink);\n",
              "        }\n",
              "      </script>\n",
              "    </div>\n",
              "  </div>\n",
              "  "
            ]
          },
          "metadata": {},
          "execution_count": 58
        }
      ]
    },
    {
      "cell_type": "code",
      "source": [
        "resultstr=pd.get_dummies(resultstr,drop_first=True)\n",
        "resultste=pd.get_dummies(resultste,drop_first=True)"
      ],
      "metadata": {
        "id": "dIsN_DdPyjbY"
      },
      "execution_count": 59,
      "outputs": []
    },
    {
      "cell_type": "code",
      "source": [
        "model=LogisticRegression(penalty='l2',class_weight=5,max_iter=5)\n",
        "log=model.fit(resultstr, y_train)\n",
        "logtrain=model.predict(resultstr)\n",
        "logtrain=pd.get_dummies(logtrain,drop_first=True)"
      ],
      "metadata": {
        "colab": {
          "base_uri": "https://localhost:8080/"
        },
        "id": "jKodi5a-07N1",
        "outputId": "e51b3bea-2d26-402a-a44d-9fc0e57bd915"
      },
      "execution_count": 60,
      "outputs": [
        {
          "output_type": "stream",
          "name": "stderr",
          "text": [
            "/usr/local/lib/python3.7/dist-packages/sklearn/linear_model/_logistic.py:818: ConvergenceWarning: lbfgs failed to converge (status=1):\n",
            "STOP: TOTAL NO. of ITERATIONS REACHED LIMIT.\n",
            "\n",
            "Increase the number of iterations (max_iter) or scale the data as shown in:\n",
            "    https://scikit-learn.org/stable/modules/preprocessing.html\n",
            "Please also refer to the documentation for alternative solver options:\n",
            "    https://scikit-learn.org/stable/modules/linear_model.html#logistic-regression\n",
            "  extra_warning_msg=_LOGISTIC_SOLVER_CONVERGENCE_MSG,\n"
          ]
        }
      ]
    },
    {
      "cell_type": "code",
      "source": [
        "model=LogisticRegression(penalty='l2',class_weight=5,max_iter=5)\n",
        "log=model.fit(resultste, y_test)\n",
        "logtest=model.predict(resultste)\n",
        "logtest=pd.get_dummies(logtest,drop_first=True)"
      ],
      "metadata": {
        "colab": {
          "base_uri": "https://localhost:8080/"
        },
        "id": "OSMemNLwMR4L",
        "outputId": "f4d52ae9-d41d-44d3-be11-2bbf9bc7385a"
      },
      "execution_count": 61,
      "outputs": [
        {
          "output_type": "stream",
          "name": "stderr",
          "text": [
            "/usr/local/lib/python3.7/dist-packages/sklearn/linear_model/_logistic.py:818: ConvergenceWarning: lbfgs failed to converge (status=1):\n",
            "STOP: TOTAL NO. of ITERATIONS REACHED LIMIT.\n",
            "\n",
            "Increase the number of iterations (max_iter) or scale the data as shown in:\n",
            "    https://scikit-learn.org/stable/modules/preprocessing.html\n",
            "Please also refer to the documentation for alternative solver options:\n",
            "    https://scikit-learn.org/stable/modules/linear_model.html#logistic-regression\n",
            "  extra_warning_msg=_LOGISTIC_SOLVER_CONVERGENCE_MSG,\n"
          ]
        }
      ]
    },
    {
      "cell_type": "code",
      "source": [
        "from sklearn.ensemble import GradientBoostingClassifier\n",
        "Gradient=GradientBoostingClassifier()\n",
        "model=Gradient.fit(logtrain,y_train)"
      ],
      "metadata": {
        "id": "kYYKyDxRxE5R"
      },
      "execution_count": 62,
      "outputs": []
    },
    {
      "cell_type": "code",
      "source": [
        "from sklearn.ensemble import GradientBoostingClassifier\n",
        "Gradient=GradientBoostingClassifier()\n",
        "model=Gradient.fit(logtest,y_test)"
      ],
      "metadata": {
        "id": "om5SVKl7MdER"
      },
      "execution_count": 63,
      "outputs": []
    },
    {
      "cell_type": "code",
      "source": [
        "final_prediction_train=model.predict(logtrain)"
      ],
      "metadata": {
        "id": "qjL_AvzCyXet"
      },
      "execution_count": 64,
      "outputs": []
    },
    {
      "cell_type": "code",
      "source": [
        "final_prediction_test=model.predict(logtest)"
      ],
      "metadata": {
        "id": "eOlufGWSMwzC"
      },
      "execution_count": 65,
      "outputs": []
    },
    {
      "cell_type": "code",
      "source": [
        "confusion_matrix(final_prediction_train,y_train)"
      ],
      "metadata": {
        "colab": {
          "base_uri": "https://localhost:8080/"
        },
        "id": "B7h5JSh3zDp7",
        "outputId": "37208793-b8ee-4e8c-96d2-dab471ff5ff2"
      },
      "execution_count": 66,
      "outputs": [
        {
          "output_type": "execute_result",
          "data": {
            "text/plain": [
              "array([[1108,    4],\n",
              "       [   0,  211]])"
            ]
          },
          "metadata": {},
          "execution_count": 66
        }
      ]
    },
    {
      "cell_type": "code",
      "source": [
        "confusion_matrix(final_prediction_test,y_test)"
      ],
      "metadata": {
        "colab": {
          "base_uri": "https://localhost:8080/"
        },
        "id": "lbMQGwmCM4OB",
        "outputId": "23f15de6-ba49-4568-b6a0-6b45a6126eb8"
      },
      "execution_count": 67,
      "outputs": [
        {
          "output_type": "execute_result",
          "data": {
            "text/plain": [
              "array([[123,  17],\n",
              "       [  2,   5]])"
            ]
          },
          "metadata": {},
          "execution_count": 67
        }
      ]
    },
    {
      "cell_type": "code",
      "source": [
        "print(classification_report(final_prediction_train,y_train))"
      ],
      "metadata": {
        "colab": {
          "base_uri": "https://localhost:8080/"
        },
        "id": "d_1Yp5UVzOaK",
        "outputId": "c247c8c4-6b7a-4a2a-a275-3f881cb31eb2"
      },
      "execution_count": 68,
      "outputs": [
        {
          "output_type": "stream",
          "name": "stdout",
          "text": [
            "              precision    recall  f1-score   support\n",
            "\n",
            "          No       1.00      1.00      1.00      1112\n",
            "         Yes       0.98      1.00      0.99       211\n",
            "\n",
            "    accuracy                           1.00      1323\n",
            "   macro avg       0.99      1.00      0.99      1323\n",
            "weighted avg       1.00      1.00      1.00      1323\n",
            "\n"
          ]
        }
      ]
    },
    {
      "cell_type": "code",
      "source": [
        "print(classification_report(final_prediction_test,y_test))"
      ],
      "metadata": {
        "colab": {
          "base_uri": "https://localhost:8080/"
        },
        "id": "6LhNRuT1zUCh",
        "outputId": "7e55f62d-08e0-466d-b50a-4b4a67dd063d"
      },
      "execution_count": 69,
      "outputs": [
        {
          "output_type": "stream",
          "name": "stdout",
          "text": [
            "              precision    recall  f1-score   support\n",
            "\n",
            "          No       0.98      0.88      0.93       140\n",
            "         Yes       0.23      0.71      0.34         7\n",
            "\n",
            "    accuracy                           0.87       147\n",
            "   macro avg       0.61      0.80      0.64       147\n",
            "weighted avg       0.95      0.87      0.90       147\n",
            "\n"
          ]
        }
      ]
    }
  ]
}