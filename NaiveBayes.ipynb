{
  "nbformat": 4,
  "nbformat_minor": 0,
  "metadata": {
    "colab": {
      "provenance": [],
      "collapsed_sections": []
    },
    "kernelspec": {
      "name": "python3",
      "display_name": "Python 3"
    },
    "language_info": {
      "name": "python"
    }
  },
  "cells": [
    {
      "cell_type": "code",
      "execution_count": null,
      "metadata": {
        "colab": {
          "base_uri": "https://localhost:8080/"
        },
        "id": "9_P3JM0w5ob5",
        "outputId": "2c3f0397-6f35-4028-d901-9d563ebc0ad2"
      },
      "outputs": [
        {
          "output_type": "stream",
          "name": "stdout",
          "text": [
            "Mounted at /content/gdrive\n"
          ]
        }
      ],
      "source": [
        "from google.colab import drive\n",
        "drive.mount('/content/gdrive')"
      ]
    },
    {
      "cell_type": "code",
      "source": [
        "import os\n",
        "path='/content/gdrive/MyDrive/MachineLearning'\n",
        "os.chdir(path)"
      ],
      "metadata": {
        "id": "6RXLnA9S5ukX"
      },
      "execution_count": null,
      "outputs": []
    },
    {
      "cell_type": "code",
      "source": [
        "import pickle as pkl\n",
        "Xtest=pkl.load(open('/content/gdrive/MyDrive/MachineLearning/SVM/svcXtest.pkl','rb'))\n",
        "Xtrain=pkl.load(open('/content/gdrive/MyDrive/MachineLearning/SVM/svcXtrain.pkl','rb'))\n",
        "ytest=pkl.load(open('/content/gdrive/MyDrive/MachineLearning/SVM/svcytest.pkl','rb'))\n",
        "ytrain=pkl.load(open('/content/gdrive/MyDrive/MachineLearning/SVM/svcytrain.pkl','rb'))"
      ],
      "metadata": {
        "id": "2uOcemqd6n5Q"
      },
      "execution_count": null,
      "outputs": []
    },
    {
      "cell_type": "code",
      "source": [
        "from sklearn.naive_bayes import GaussianNB\n",
        "from sklearn.model_selection import RandomizedSearchCV,GridSearchCV"
      ],
      "metadata": {
        "id": "R1-uJonA6p6B"
      },
      "execution_count": null,
      "outputs": []
    },
    {
      "cell_type": "code",
      "source": [
        "model=GaussianNB()\n",
        "naive=model.fit(Xtrain,ytrain)"
      ],
      "metadata": {
        "id": "e388RjsU7Jjn"
      },
      "execution_count": null,
      "outputs": []
    },
    {
      "cell_type": "code",
      "source": [
        "from sklearn.metrics import confusion_matrix,classification_report"
      ],
      "metadata": {
        "id": "mBErL4D07e7G"
      },
      "execution_count": null,
      "outputs": []
    },
    {
      "cell_type": "code",
      "source": [
        "nbtest=naive.predict(Xtest)\n",
        "nbtrain=naive.predict(Xtrain)\n",
        "print(confusion_matrix(nbtest,ytest))\n",
        "print(confusion_matrix(nbtrain,ytrain))"
      ],
      "metadata": {
        "colab": {
          "base_uri": "https://localhost:8080/"
        },
        "id": "F1XRkMZc7h_d",
        "outputId": "4bd18d2a-474d-4305-fc1b-efb1db8ce57d"
      },
      "execution_count": null,
      "outputs": [
        {
          "output_type": "stream",
          "name": "stdout",
          "text": [
            "[[1266   69]\n",
            " [  76   89]]\n",
            "[[2997  157]\n",
            " [ 181  165]]\n"
          ]
        }
      ]
    },
    {
      "cell_type": "code",
      "source": [
        "\n",
        "print(classification_report(nbtest,ytest))\n",
        "print(classification_report(nbtrain,ytrain))"
      ],
      "metadata": {
        "colab": {
          "base_uri": "https://localhost:8080/"
        },
        "id": "us6Eg2bH7l5P",
        "outputId": "345e6bd6-363c-49ef-eca9-ab0b54f37fb5"
      },
      "execution_count": null,
      "outputs": [
        {
          "output_type": "stream",
          "name": "stdout",
          "text": [
            "              precision    recall  f1-score   support\n",
            "\n",
            "           0       0.94      0.95      0.95      1335\n",
            "           1       0.56      0.54      0.55       165\n",
            "\n",
            "    accuracy                           0.90      1500\n",
            "   macro avg       0.75      0.74      0.75      1500\n",
            "weighted avg       0.90      0.90      0.90      1500\n",
            "\n",
            "              precision    recall  f1-score   support\n",
            "\n",
            "           0       0.94      0.95      0.95      3154\n",
            "           1       0.51      0.48      0.49       346\n",
            "\n",
            "    accuracy                           0.90      3500\n",
            "   macro avg       0.73      0.71      0.72      3500\n",
            "weighted avg       0.90      0.90      0.90      3500\n",
            "\n"
          ]
        }
      ]
    },
    {
      "cell_type": "code",
      "source": [],
      "metadata": {
        "id": "50sSi3wh7oEd"
      },
      "execution_count": null,
      "outputs": []
    }
  ]
}