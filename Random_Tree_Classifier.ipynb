{
  "nbformat": 4,
  "nbformat_minor": 0,
  "metadata": {
    "colab": {
      "provenance": [],
      "collapsed_sections": []
    },
    "kernelspec": {
      "name": "python3",
      "display_name": "Python 3"
    },
    "language_info": {
      "name": "python"
    }
  },
  "cells": [
    {
      "cell_type": "code",
      "execution_count": null,
      "metadata": {
        "colab": {
          "base_uri": "https://localhost:8080/"
        },
        "id": "8mIEtfp8YCxD",
        "outputId": "f5832ba4-acf8-49ed-f983-4116233014c6"
      },
      "outputs": [
        {
          "output_type": "stream",
          "name": "stdout",
          "text": [
            "Mounted at /content/gdrive\n"
          ]
        }
      ],
      "source": [
        "from google.colab import drive\n",
        "drive.mount('/content/gdrive')"
      ]
    },
    {
      "cell_type": "code",
      "source": [
        "import os \n",
        "path='/content/gdrive/MyDrive/MachineLearning/Ensemble Learning'\n",
        "os.chdir(path)"
      ],
      "metadata": {
        "id": "HI9jvcNZYOvQ"
      },
      "execution_count": null,
      "outputs": []
    },
    {
      "cell_type": "code",
      "source": [
        "# Importin necessary libraries\n",
        "import pandas as pd\n",
        "import numpy as np\n",
        "from sklearn.impute import SimpleImputer\n",
        "from sklearn.model_selection import train_test_split\n",
        "from sklearn.preprocessing import StandardScaler\n"
      ],
      "metadata": {
        "id": "___eSrYxYuoV"
      },
      "execution_count": null,
      "outputs": []
    },
    {
      "cell_type": "code",
      "source": [
        "import pickle as pkl"
      ],
      "metadata": {
        "id": "mI78YYn2deb4"
      },
      "execution_count": null,
      "outputs": []
    },
    {
      "cell_type": "code",
      "source": [
        "\n",
        "Xtest=pkl.load(open('/content/gdrive/MyDrive/MachineLearning/SVM/svcXtest.pkl','rb'))\n",
        "Xtrain=pkl.load(open('/content/gdrive/MyDrive/MachineLearning/SVM/svcXtrain.pkl','rb'))\n",
        "ytest=pkl.load(open('/content/gdrive/MyDrive/MachineLearning/SVM/svcytest.pkl','rb'))\n",
        "ytrain=pkl.load(open('/content/gdrive/MyDrive/MachineLearning/SVM/svcytrain.pkl','rb'))\n",
        "svc=pkl.load(open('/content/gdrive/MyDrive/MachineLearning/SVM/svc.pkl','rb'))"
      ],
      "metadata": {
        "id": "sC-m11c6djbs"
      },
      "execution_count": null,
      "outputs": []
    },
    {
      "cell_type": "code",
      "source": [
        "from sklearn.ensemble import RandomForestClassifier  \n",
        "from sklearn.model_selection import RandomizedSearchCV,GridSearchCV"
      ],
      "metadata": {
        "id": "o8EnWQLLfeOX"
      },
      "execution_count": null,
      "outputs": []
    },
    {
      "cell_type": "code",
      "source": [
        "params={'criterion':['gini','entropy'], 'max_depth':[5,7,10], 'max_leaf_nodes':[3,5,8]}\n",
        "rnd=RandomizedSearchCV(RandomForestClassifier(),params,cv=10)\n",
        "grd=GridSearchCV(RandomForestClassifier(),params,cv=10)\n",
        "rnd.fit(Xtrain,ytrain)\n",
        "grd.fit(Xtrain,ytrain)\n",
        "print(rnd.best_params_)\n",
        "print(grd.best_params_)"
      ],
      "metadata": {
        "colab": {
          "base_uri": "https://localhost:8080/"
        },
        "id": "oiCtdNssiNHE",
        "outputId": "f92d5176-ca6f-42ca-9635-c74081303579"
      },
      "execution_count": null,
      "outputs": [
        {
          "output_type": "stream",
          "name": "stdout",
          "text": [
            "{'max_leaf_nodes': 8, 'max_depth': 10, 'criterion': 'entropy'}\n",
            "{'criterion': 'entropy', 'max_depth': 7, 'max_leaf_nodes': 8}\n"
          ]
        }
      ]
    },
    {
      "cell_type": "code",
      "source": [
        "model=RandomForestClassifier(max_leaf_nodes=8,max_depth=10,criterion='gini',n_estimators=50,class_weight='balanced')\n",
        "random=model.fit(Xtrain,ytrain)"
      ],
      "metadata": {
        "id": "s0eiAOibjWqT"
      },
      "execution_count": null,
      "outputs": []
    },
    {
      "cell_type": "code",
      "source": [
        "from sklearn.metrics import confusion_matrix,classification_report"
      ],
      "metadata": {
        "id": "D9zWfjNIm771"
      },
      "execution_count": null,
      "outputs": []
    },
    {
      "cell_type": "code",
      "source": [
        "randomtest=random.predict(Xtest)\n",
        "randomtrain=random.predict(Xtrain)\n",
        "print(confusion_matrix(randomtest,ytest))\n",
        "print(confusion_matrix(randomtrain,ytrain))"
      ],
      "metadata": {
        "colab": {
          "base_uri": "https://localhost:8080/"
        },
        "id": "HDhRKJ0ZnGuz",
        "outputId": "2847ec76-9349-431d-a30a-49f9136a01d1"
      },
      "execution_count": null,
      "outputs": [
        {
          "output_type": "stream",
          "name": "stdout",
          "text": [
            "[[1299    5]\n",
            " [  43  153]]\n",
            "[[3079   11]\n",
            " [  99  311]]\n"
          ]
        }
      ]
    },
    {
      "cell_type": "code",
      "source": [
        "print(classification_report(randomtest,ytest))\n",
        "print(classification_report(randomtrain,ytrain))"
      ],
      "metadata": {
        "colab": {
          "base_uri": "https://localhost:8080/"
        },
        "id": "boIGkon0nbei",
        "outputId": "5539396b-bad3-49c0-a918-478a843badf4"
      },
      "execution_count": null,
      "outputs": [
        {
          "output_type": "stream",
          "name": "stdout",
          "text": [
            "              precision    recall  f1-score   support\n",
            "\n",
            "           0       0.97      1.00      0.98      1304\n",
            "           1       0.97      0.78      0.86       196\n",
            "\n",
            "    accuracy                           0.97      1500\n",
            "   macro avg       0.97      0.89      0.92      1500\n",
            "weighted avg       0.97      0.97      0.97      1500\n",
            "\n",
            "              precision    recall  f1-score   support\n",
            "\n",
            "           0       0.97      1.00      0.98      3090\n",
            "           1       0.97      0.76      0.85       410\n",
            "\n",
            "    accuracy                           0.97      3500\n",
            "   macro avg       0.97      0.88      0.92      3500\n",
            "weighted avg       0.97      0.97      0.97      3500\n",
            "\n"
          ]
        }
      ]
    },
    {
      "cell_type": "code",
      "source": [
        "print(confusion_matrix(svc.predict(Xtrain),ytrain))"
      ],
      "metadata": {
        "id": "lN7J1eArodBW",
        "colab": {
          "base_uri": "https://localhost:8080/"
        },
        "outputId": "0f621d9b-27ea-48fc-8d2d-62b8643c4ac8"
      },
      "execution_count": null,
      "outputs": [
        {
          "output_type": "stream",
          "name": "stdout",
          "text": [
            "[[3176   40]\n",
            " [   2  282]]\n"
          ]
        }
      ]
    },
    {
      "cell_type": "code",
      "source": [],
      "metadata": {
        "id": "AQH8a6DYNu5G"
      },
      "execution_count": null,
      "outputs": []
    }
  ]
}